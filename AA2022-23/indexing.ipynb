{
 "cells": [
  {
   "cell_type": "markdown",
   "id": "9334e2bf",
   "metadata": {},
   "source": [
    "# Collect data from text and create indexes"
   ]
  },
  {
   "cell_type": "code",
   "execution_count": 1,
   "id": "dc862a52",
   "metadata": {},
   "outputs": [],
   "source": [
    "import pandas as pd\n",
    "import numpy as np\n",
    "from tqdm.notebook import tqdm"
   ]
  },
  {
   "cell_type": "code",
   "execution_count": 2,
   "id": "6e702670",
   "metadata": {},
   "outputs": [],
   "source": [
    "from utils import CharIndex"
   ]
  },
  {
   "cell_type": "code",
   "execution_count": 3,
   "id": "51c3d8e7",
   "metadata": {},
   "outputs": [],
   "source": [
    "idx = CharIndex(min_char=0)"
   ]
  },
  {
   "cell_type": "code",
   "execution_count": 4,
   "id": "78db30f3",
   "metadata": {},
   "outputs": [],
   "source": [
    "filename = '/Users/flint/Data/italian-texts/i_promessi sposi.txt'"
   ]
  },
  {
   "cell_type": "code",
   "execution_count": 5,
   "id": "21acc136",
   "metadata": {},
   "outputs": [],
   "source": [
    "idx.index_text(filename)"
   ]
  },
  {
   "cell_type": "code",
   "execution_count": 6,
   "id": "6eaff481",
   "metadata": {},
   "outputs": [
    {
     "data": {
      "text/plain": [
       "['/Users/flint/Data/italian-texts/i_promessi sposi.txt']"
      ]
     },
     "execution_count": 6,
     "metadata": {},
     "output_type": "execute_result"
    }
   ],
   "source": [
    "idx.history"
   ]
  },
  {
   "cell_type": "code",
   "execution_count": 7,
   "id": "2e0c6113",
   "metadata": {},
   "outputs": [
    {
     "name": "stdout",
     "output_type": "stream",
     "text": [
      "87 1308969\n"
     ]
    }
   ],
   "source": [
    "print(len(idx.vocabulary()), idx.size())"
   ]
  },
  {
   "cell_type": "code",
   "execution_count": 8,
   "id": "ed28d48f",
   "metadata": {},
   "outputs": [
    {
     "data": {
      "text/plain": [
       "0.09168589936048906"
      ]
     },
     "execution_count": 8,
     "metadata": {},
     "output_type": "execute_result"
    }
   ],
   "source": [
    "idx.p('e')"
   ]
  },
  {
   "cell_type": "code",
   "execution_count": null,
   "id": "ffa9280a",
   "metadata": {},
   "outputs": [],
   "source": []
  }
 ],
 "metadata": {
  "kernelspec": {
   "display_name": "crike",
   "language": "python",
   "name": "crike"
  },
  "language_info": {
   "codemirror_mode": {
    "name": "ipython",
    "version": 3
   },
   "file_extension": ".py",
   "mimetype": "text/x-python",
   "name": "python",
   "nbconvert_exporter": "python",
   "pygments_lexer": "ipython3",
   "version": "3.8.8"
  },
  "toc": {
   "base_numbering": 1,
   "nav_menu": {},
   "number_sections": true,
   "sideBar": true,
   "skip_h1_title": false,
   "title_cell": "Table of Contents",
   "title_sidebar": "Contents",
   "toc_cell": false,
   "toc_position": {},
   "toc_section_display": true,
   "toc_window_display": false
  }
 },
 "nbformat": 4,
 "nbformat_minor": 5
}
