{
 "cells": [
  {
   "cell_type": "markdown",
   "id": "cf965e6f",
   "metadata": {},
   "source": [
    "# Collect data from text and create indexes"
   ]
  },
  {
   "cell_type": "code",
   "execution_count": 1,
   "id": "26e1ca3f",
   "metadata": {},
   "outputs": [],
   "source": [
    "import pandas as pd\n",
    "import numpy as np\n",
    "from tqdm.notebook import tqdm"
   ]
  },
  {
   "cell_type": "code",
   "execution_count": 2,
   "id": "9ca24eb9",
   "metadata": {},
   "outputs": [],
   "source": [
    "from utils import CharIndex"
   ]
  },
  {
   "cell_type": "code",
   "execution_count": 3,
   "id": "535c65c6",
   "metadata": {},
   "outputs": [],
   "source": [
    "idx = CharIndex(min_char=0)"
   ]
  },
  {
   "cell_type": "code",
   "execution_count": 4,
   "id": "dafddab5",
   "metadata": {},
   "outputs": [],
   "source": [
    "filename = '/Users/flint/Data/italian-texts/i_promessi sposi.txt'"
   ]
  },
  {
   "cell_type": "code",
   "execution_count": 5,
   "id": "2ae4c3b6",
   "metadata": {},
   "outputs": [],
   "source": [
    "idx.index_text(filename)"
   ]
  },
  {
   "cell_type": "code",
   "execution_count": 6,
   "id": "7e764b9a",
   "metadata": {},
   "outputs": [
    {
     "data": {
      "text/plain": [
       "['/Users/flint/Data/italian-texts/i_promessi sposi.txt']"
      ]
     },
     "execution_count": 6,
     "metadata": {},
     "output_type": "execute_result"
    }
   ],
   "source": [
    "idx.history"
   ]
  },
  {
   "cell_type": "code",
   "execution_count": 7,
   "id": "92a3c7b6",
   "metadata": {},
   "outputs": [
    {
     "name": "stdout",
     "output_type": "stream",
     "text": [
      "87 1308969\n"
     ]
    }
   ],
   "source": [
    "print(len(idx.vocabulary()), idx.size())"
   ]
  },
  {
   "cell_type": "code",
   "execution_count": null,
   "id": "e482eb75",
   "metadata": {},
   "outputs": [],
   "source": [
    "idx.p('')"
   ]
  }
 ],
 "metadata": {
  "kernelspec": {
   "display_name": "crike",
   "language": "python",
   "name": "crike"
  },
  "language_info": {
   "codemirror_mode": {
    "name": "ipython",
    "version": 3
   },
   "file_extension": ".py",
   "mimetype": "text/x-python",
   "name": "python",
   "nbconvert_exporter": "python",
   "pygments_lexer": "ipython3",
   "version": "3.8.8"
  },
  "toc": {
   "base_numbering": 1,
   "nav_menu": {},
   "number_sections": true,
   "sideBar": true,
   "skip_h1_title": false,
   "title_cell": "Table of Contents",
   "title_sidebar": "Contents",
   "toc_cell": false,
   "toc_position": {},
   "toc_section_display": true,
   "toc_window_display": false
  }
 },
 "nbformat": 4,
 "nbformat_minor": 5
}
