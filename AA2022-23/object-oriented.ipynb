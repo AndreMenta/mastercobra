{
 "cells": [
  {
   "cell_type": "markdown",
   "id": "609953a5",
   "metadata": {},
   "source": [
    "# Introduzione programmazione oggetti"
   ]
  },
  {
   "cell_type": "code",
   "execution_count": 25,
   "id": "1ab2fdb8",
   "metadata": {},
   "outputs": [],
   "source": [
    "class Person():\n",
    "    def __init__(self, name, last_name):\n",
    "        self.name = name\n",
    "        self.last_name = last_name\n",
    "    def print_name(self):\n",
    "        print(self.name, self.last_name, '!')\n",
    "    def __repr__(self):\n",
    "        return \"{} {}\".format(self.name, self.last_name)\n",
    "\n",
    "class Student(Person):\n",
    "    def __init__(self, name, last_name, matr):\n",
    "        self.name = name\n",
    "        self.last_name = last_name\n",
    "        self.matr = matr"
   ]
  },
  {
   "cell_type": "code",
   "execution_count": 27,
   "id": "53eb8524",
   "metadata": {},
   "outputs": [],
   "source": [
    "alfio = Person(name='Alfio', last_name='Ferrara')\n",
    "mattia = Student(name='Mattia', last_name='Mosconi', matr='ABCD')\n",
    "people = [alfio, mattia]"
   ]
  },
  {
   "cell_type": "code",
   "execution_count": 29,
   "id": "f8662eb1",
   "metadata": {},
   "outputs": [
    {
     "name": "stdout",
     "output_type": "stream",
     "text": [
      "Mattia Mosconi !\n"
     ]
    }
   ],
   "source": [
    "mattia.print_name()"
   ]
  },
  {
   "cell_type": "code",
   "execution_count": 21,
   "id": "c70c8072",
   "metadata": {},
   "outputs": [
    {
     "name": "stdout",
     "output_type": "stream",
     "text": [
      "Alfio Ferrara !\n",
      "Mattia Mosconi !\n"
     ]
    }
   ],
   "source": [
    "for person in people:\n",
    "    person.print_name()"
   ]
  },
  {
   "cell_type": "code",
   "execution_count": 23,
   "id": "1aebdbff",
   "metadata": {},
   "outputs": [
    {
     "data": {
      "text/plain": [
       "'Alfio Ferrara'"
      ]
     },
     "execution_count": 23,
     "metadata": {},
     "output_type": "execute_result"
    }
   ],
   "source": [
    "str(alfio)"
   ]
  },
  {
   "cell_type": "code",
   "execution_count": 18,
   "id": "2d924006",
   "metadata": {},
   "outputs": [
    {
     "data": {
      "text/plain": [
       "'alfio'"
      ]
     },
     "execution_count": 18,
     "metadata": {},
     "output_type": "execute_result"
    }
   ],
   "source": [
    "\"alfio\""
   ]
  },
  {
   "cell_type": "code",
   "execution_count": null,
   "id": "3356a2fc",
   "metadata": {},
   "outputs": [],
   "source": []
  }
 ],
 "metadata": {
  "kernelspec": {
   "display_name": "crike",
   "language": "python",
   "name": "crike"
  },
  "language_info": {
   "codemirror_mode": {
    "name": "ipython",
    "version": 3
   },
   "file_extension": ".py",
   "mimetype": "text/x-python",
   "name": "python",
   "nbconvert_exporter": "python",
   "pygments_lexer": "ipython3",
   "version": "3.8.8"
  },
  "toc": {
   "base_numbering": 1,
   "nav_menu": {},
   "number_sections": true,
   "sideBar": true,
   "skip_h1_title": false,
   "title_cell": "Table of Contents",
   "title_sidebar": "Contents",
   "toc_cell": false,
   "toc_position": {},
   "toc_section_display": true,
   "toc_window_display": false
  }
 },
 "nbformat": 4,
 "nbformat_minor": 5
}
