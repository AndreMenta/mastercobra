{
 "cells": [
  {
   "cell_type": "markdown",
   "id": "4f28062b",
   "metadata": {},
   "source": [
    "# Text generator\n",
    "\n",
    "## Word Generator\n",
    "\n",
    "### Requisiti\n",
    "- alfabeto\n",
    "- vocabolario (regole per decidere se una parola è corretta)\n",
    "- un processo di selezione casuale\n",
    "\n",
    "### Procedura\n",
    "- estrai $N$ lettere da $A$\n",
    "- memorizza lettere in $W$\n",
    "\n",
    "### Stutture dati\n",
    "- $N$ = numero intero\n",
    "- $A$ = collezione di caratteri\n",
    "- $W$ = stringa"
   ]
  },
  {
   "cell_type": "code",
   "execution_count": 8,
   "id": "0f36f6d7",
   "metadata": {},
   "outputs": [],
   "source": [
    "from string import ascii_lowercase\n",
    "import numpy as np"
   ]
  },
  {
   "cell_type": "code",
   "execution_count": 4,
   "id": "51423b11",
   "metadata": {},
   "outputs": [],
   "source": [
    "alpha = list(ascii_lowercase)"
   ]
  },
  {
   "cell_type": "code",
   "execution_count": 50,
   "id": "06e3d3a0",
   "metadata": {},
   "outputs": [],
   "source": [
    "alpha.append('.')"
   ]
  },
  {
   "cell_type": "code",
   "execution_count": 38,
   "id": "b15e2819",
   "metadata": {},
   "outputs": [],
   "source": [
    "def generate_word(alpha, term='.'):\n",
    "    char = None\n",
    "    output = []\n",
    "    while char != term:\n",
    "        i = np.random.randint(low=0, high=len(alpha))\n",
    "        char = alpha[i]\n",
    "        output.append(char)\n",
    "    return \"\".join(output)"
   ]
  },
  {
   "cell_type": "code",
   "execution_count": 44,
   "id": "23302f5a",
   "metadata": {},
   "outputs": [],
   "source": [
    "stats = []\n",
    "for x in range(1000):\n",
    "    word = generate_word(alpha, term='.')\n",
    "    stats.append(word)"
   ]
  },
  {
   "cell_type": "code",
   "execution_count": 55,
   "id": "c314e459",
   "metadata": {},
   "outputs": [
    {
     "name": "stdout",
     "output_type": "stream",
     "text": [
      "26.656\n"
     ]
    }
   ],
   "source": [
    "c = 0\n",
    "for w in stats:\n",
    "    c += len(w)\n",
    "print(c / len(stats))"
   ]
  },
  {
   "cell_type": "code",
   "execution_count": 53,
   "id": "69034f0f",
   "metadata": {},
   "outputs": [
    {
     "data": {
      "text/plain": [
       "'qggdvmuguvfdbvbywe.'"
      ]
     },
     "execution_count": 53,
     "metadata": {},
     "output_type": "execute_result"
    }
   ],
   "source": [
    "stats[35]"
   ]
  },
  {
   "cell_type": "code",
   "execution_count": null,
   "id": "88d0da8e",
   "metadata": {},
   "outputs": [],
   "source": []
  }
 ],
 "metadata": {
  "kernelspec": {
   "display_name": "crike",
   "language": "python",
   "name": "crike"
  },
  "language_info": {
   "codemirror_mode": {
    "name": "ipython",
    "version": 3
   },
   "file_extension": ".py",
   "mimetype": "text/x-python",
   "name": "python",
   "nbconvert_exporter": "python",
   "pygments_lexer": "ipython3",
   "version": "3.8.8"
  },
  "toc": {
   "base_numbering": 1,
   "nav_menu": {},
   "number_sections": true,
   "sideBar": true,
   "skip_h1_title": false,
   "title_cell": "Table of Contents",
   "title_sidebar": "Contents",
   "toc_cell": false,
   "toc_position": {},
   "toc_section_display": true,
   "toc_window_display": false
  }
 },
 "nbformat": 4,
 "nbformat_minor": 5
}
