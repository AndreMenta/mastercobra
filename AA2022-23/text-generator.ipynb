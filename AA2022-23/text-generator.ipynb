{
 "cells": [
  {
   "cell_type": "markdown",
   "id": "da7b1a4a",
   "metadata": {},
   "source": [
    "# Text generator\n",
    "\n",
    "## Word Generator\n",
    "\n",
    "### Requisiti\n",
    "- alfabeto\n",
    "- vocabolario (regole per decidere se una parola è corretta)\n",
    "- un processo di selezione casuale\n",
    "\n",
    "### Procedura\n",
    "- estrai N lettere da A\n",
    "- memorizza lettere in W\n",
    "\n",
    "### Stutture dati\n",
    "- N = numero intero\n",
    "- A collezione di caratteri\n",
    "- W stringa"
   ]
  },
  {
   "cell_type": "code",
   "execution_count": 12,
   "id": "410de30e",
   "metadata": {},
   "outputs": [],
   "source": [
    "from string import ascii_lowercase"
   ]
  },
  {
   "cell_type": "code",
   "execution_count": 13,
   "id": "029c8812",
   "metadata": {},
   "outputs": [],
   "source": [
    "alfabeto = ascii_lowercase"
   ]
  },
  {
   "cell_type": "code",
   "execution_count": 11,
   "id": "34170f2f",
   "metadata": {},
   "outputs": [
    {
     "data": {
      "text/plain": [
       "'ab'"
      ]
     },
     "execution_count": 11,
     "metadata": {},
     "output_type": "execute_result"
    }
   ],
   "source": [
    "alfabeto[0:2]"
   ]
  },
  {
   "cell_type": "code",
   "execution_count": 14,
   "id": "14a488f4",
   "metadata": {},
   "outputs": [
    {
     "data": {
      "text/plain": [
       "'abcdefghijklmnopqrstuvwxyz'"
      ]
     },
     "execution_count": 14,
     "metadata": {},
     "output_type": "execute_result"
    }
   ],
   "source": [
    "alfabeto"
   ]
  },
  {
   "cell_type": "code",
   "execution_count": null,
   "id": "c9cd9b46",
   "metadata": {},
   "outputs": [],
   "source": []
  }
 ],
 "metadata": {
  "kernelspec": {
   "display_name": "crike",
   "language": "python",
   "name": "crike"
  },
  "language_info": {
   "codemirror_mode": {
    "name": "ipython",
    "version": 3
   },
   "file_extension": ".py",
   "mimetype": "text/x-python",
   "name": "python",
   "nbconvert_exporter": "python",
   "pygments_lexer": "ipython3",
   "version": "3.8.8"
  },
  "toc": {
   "base_numbering": 1,
   "nav_menu": {},
   "number_sections": true,
   "sideBar": true,
   "skip_h1_title": false,
   "title_cell": "Table of Contents",
   "title_sidebar": "Contents",
   "toc_cell": false,
   "toc_position": {},
   "toc_section_display": true,
   "toc_window_display": false
  }
 },
 "nbformat": 4,
 "nbformat_minor": 5
}
