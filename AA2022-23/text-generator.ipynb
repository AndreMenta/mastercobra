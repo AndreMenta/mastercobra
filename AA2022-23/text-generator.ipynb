{
 "cells": [
  {
   "cell_type": "markdown",
   "id": "4f28062b",
   "metadata": {},
   "source": [
    "# Text generator\n",
    "\n",
    "## Word Generator\n",
    "\n",
    "### Requisiti\n",
    "- alfabeto\n",
    "- vocabolario (regole per decidere se una parola è corretta)\n",
    "- un processo di selezione casuale\n",
    "\n",
    "### Procedura\n",
    "- estrai $N$ lettere da $A$\n",
    "- memorizza lettere in $W$\n",
    "\n",
    "### Stutture dati\n",
    "- $N$ = numero intero\n",
    "- $A$ = collezione di caratteri\n",
    "- $W$ = stringa"
   ]
  },
  {
   "cell_type": "code",
   "execution_count": 1,
   "id": "0f36f6d7",
   "metadata": {},
   "outputs": [],
   "source": [
    "from string import ascii_lowercase\n",
    "import numpy as np"
   ]
  },
  {
   "cell_type": "code",
   "execution_count": 2,
   "id": "51423b11",
   "metadata": {},
   "outputs": [],
   "source": [
    "alpha = list(ascii_lowercase)"
   ]
  },
  {
   "cell_type": "code",
   "execution_count": 3,
   "id": "5986f9ad",
   "metadata": {},
   "outputs": [],
   "source": [
    "alpha.append('.')\n",
    "alpha.append(' ')"
   ]
  },
  {
   "cell_type": "code",
   "execution_count": 4,
   "id": "d8a208ef",
   "metadata": {},
   "outputs": [],
   "source": [
    "term = set(['.', ' ', '.'])"
   ]
  },
  {
   "cell_type": "code",
   "execution_count": 5,
   "id": "5ac1c308",
   "metadata": {},
   "outputs": [],
   "source": [
    "def generate_word(alpha, term=None):\n",
    "    if term is None:\n",
    "        term = {'.'}\n",
    "    char = None\n",
    "    output = []\n",
    "    while char not in term:\n",
    "        i = np.random.randint(low=0, high=len(alpha))\n",
    "        char = alpha[i]\n",
    "        output.append(char)\n",
    "    return \"\".join(output)"
   ]
  },
  {
   "cell_type": "code",
   "execution_count": 6,
   "id": "393f77b0",
   "metadata": {},
   "outputs": [],
   "source": [
    "stats = []\n",
    "for x in range(10000):\n",
    "    word = generate_word(alpha, term={'.', ' '})\n",
    "    stats.append(word)"
   ]
  },
  {
   "cell_type": "code",
   "execution_count": 7,
   "id": "d340d267",
   "metadata": {},
   "outputs": [
    {
     "data": {
      "text/plain": [
       "(10000, ['rd ', 'xgaratdybbolwzuuhiyvheaphl ', 'bhju.'])"
      ]
     },
     "execution_count": 7,
     "metadata": {},
     "output_type": "execute_result"
    }
   ],
   "source": [
    "len(stats), stats[:3]"
   ]
  },
  {
   "cell_type": "code",
   "execution_count": 8,
   "id": "25e35158",
   "metadata": {},
   "outputs": [],
   "source": [
    "c = 0\n",
    "for w in stats:\n",
    "    c += len(w)\n",
    "mean = c / len(stats)"
   ]
  },
  {
   "cell_type": "code",
   "execution_count": 9,
   "id": "fc0a2a63",
   "metadata": {},
   "outputs": [
    {
     "data": {
      "text/plain": [
       "13.9692"
      ]
     },
     "execution_count": 9,
     "metadata": {},
     "output_type": "execute_result"
    }
   ],
   "source": [
    "mean"
   ]
  },
  {
   "cell_type": "markdown",
   "id": "98f0ea96",
   "metadata": {},
   "source": [
    "## Frequenza per word count"
   ]
  },
  {
   "cell_type": "code",
   "execution_count": 10,
   "id": "b411d6f8",
   "metadata": {},
   "outputs": [],
   "source": [
    "dati = {'nome': ['alfio', 'maria', 'roberto'], 'cognome': 'ferrara'}"
   ]
  },
  {
   "cell_type": "code",
   "execution_count": 11,
   "id": "3b7ef82a",
   "metadata": {},
   "outputs": [
    {
     "name": "stdout",
     "output_type": "stream",
     "text": [
      "['alfio', 'maria', 'roberto']\n",
      "nome alfio\n",
      "nome maria\n",
      "nome roberto\n",
      "ferrara\n",
      "cognome ferrara\n"
     ]
    }
   ],
   "source": [
    "for k, v in dati.items():\n",
    "    print(v)\n",
    "    if isinstance(v, list):\n",
    "        for x in v:\n",
    "            print(k, x)\n",
    "    else:\n",
    "        print(k, v)"
   ]
  },
  {
   "cell_type": "markdown",
   "id": "0de56a0d",
   "metadata": {},
   "source": [
    "idx = {\n",
    "    0: 10,\n",
    "    1: 23,\n",
    "    2: 45,\n",
    "    ...\n",
    "}"
   ]
  },
  {
   "cell_type": "code",
   "execution_count": 12,
   "id": "6c0ed2e9",
   "metadata": {},
   "outputs": [],
   "source": [
    "idx = {}\n",
    "for word in stats:\n",
    "    n = len(word)\n",
    "    try:\n",
    "        idx[n] += 1\n",
    "    except KeyError:\n",
    "        idx[n] = 1"
   ]
  },
  {
   "cell_type": "markdown",
   "id": "eff594b4",
   "metadata": {},
   "source": [
    "### Grafici"
   ]
  },
  {
   "cell_type": "code",
   "execution_count": 13,
   "id": "060b9650",
   "metadata": {},
   "outputs": [],
   "source": [
    "import matplotlib.pyplot as plt"
   ]
  },
  {
   "cell_type": "code",
   "execution_count": 14,
   "id": "ba1c0496",
   "metadata": {},
   "outputs": [],
   "source": [
    "g = [1, 2, 3, 4, 5, 4, 2, 4, 2, 1]"
   ]
  },
  {
   "cell_type": "code",
   "execution_count": 21,
   "id": "3fbfb1ef",
   "metadata": {},
   "outputs": [],
   "source": [
    "x, h = [], []\n",
    "for k, v in idx.items():\n",
    "    x.append(k)\n",
    "    h.append(v)"
   ]
  },
  {
   "cell_type": "code",
   "execution_count": 30,
   "id": "0eedabaf",
   "metadata": {},
   "outputs": [
    {
     "data": {
      "image/png": "[encoded data removed]",
      "text/plain": [
       "<Figure size 864x288 with 3 Axes>"
      ]
     },
     "metadata": {
      "needs_background": "light"
     },
     "output_type": "display_data"
    }
   ],
   "source": [
    "fig, ax = plt.subplots(figsize=(12, 4), ncols=3)\n",
    "ax[0].bar(x=x, height=h)\n",
    "ax[1].boxplot(h)\n",
    "ax[1].get_yaxis().set_visible(False)\n",
    "ax[2].scatter(x, h)\n",
    "ax[2].set_xlabel('lunghezza parole')\n",
    "plt.tight_layout()\n",
    "plt.show()"
   ]
  },
  {
   "cell_type": "code",
   "execution_count": null,
   "id": "8ee47f49",
   "metadata": {},
   "outputs": [],
   "source": []
  },
  {
   "cell_type": "markdown",
   "id": "e033f78c",
   "metadata": {},
   "source": [
    "## Pandas"
   ]
  },
  {
   "cell_type": "code",
   "execution_count": null,
   "id": "fc04eae0",
   "metadata": {},
   "outputs": [],
   "source": []
  },
  {
   "cell_type": "markdown",
   "id": "646a7cf9",
   "metadata": {},
   "source": [
    "## Miglioramento del processo di generazione\n",
    "- lunghezza parole: parametrizzare la probabilità del carattere di terminazione sulla lunghezza reale delle parole in una lingua\n",
    "- gestire la generazione di numeri casuali con distribuzioni date (no uniformità)\n",
    "- abbandonare l'assunzione di indipendenza"
   ]
  },
  {
   "cell_type": "code",
   "execution_count": 32,
   "id": "bdbacfab",
   "metadata": {},
   "outputs": [
    {
     "data": {
      "text/plain": [
       "'kqaluirrkhzngkeretdbv '"
      ]
     },
     "execution_count": 32,
     "metadata": {},
     "output_type": "execute_result"
    }
   ],
   "source": [
    "stats[10]"
   ]
  },
  {
   "cell_type": "code",
   "execution_count": null,
   "id": "cc5266d1",
   "metadata": {},
   "outputs": [],
   "source": []
  }
 ],
 "metadata": {
  "kernelspec": {
   "display_name": "crike",
   "language": "python",
   "name": "crike"
  },
  "language_info": {
   "codemirror_mode": {
    "name": "ipython",
    "version": 3
   },
   "file_extension": ".py",
   "mimetype": "text/x-python",
   "name": "python",
   "nbconvert_exporter": "python",
   "pygments_lexer": "ipython3",
   "version": "3.8.8"
  },
  "toc": {
   "base_numbering": 1,
   "nav_menu": {},
   "number_sections": true,
   "sideBar": true,
   "skip_h1_title": false,
   "title_cell": "Table of Contents",
   "title_sidebar": "Contents",
   "toc_cell": false,
   "toc_position": {},
   "toc_section_display": true,
   "toc_window_display": false
  }
 },
 "nbformat": 4,
 "nbformat_minor": 5
}
