{
 "cells": [
  {
   "cell_type": "markdown",
   "metadata": {},
   "source": [
    "# Classify Indian food"
   ]
  },
  {
   "cell_type": "code",
   "execution_count": 1,
   "metadata": {},
   "outputs": [],
   "source": [
    "import numpy as np\n",
    "import pandas as pd\n",
    "from tqdm.notebook import tqdm"
   ]
  },
  {
   "cell_type": "code",
   "execution_count": 2,
   "metadata": {},
   "outputs": [],
   "source": [
    "F = pd.read_csv('data/indian_food.csv')"
   ]
  },
  {
   "cell_type": "code",
   "execution_count": 3,
   "metadata": {},
   "outputs": [
    {
     "data": {
      "text/html": [
       "<div>\n",
       "<style scoped>\n",
       "    .dataframe tbody tr th:only-of-type {\n",
       "        vertical-align: middle;\n",
       "    }\n",
       "\n",
       "    .dataframe tbody tr th {\n",
       "        vertical-align: top;\n",
       "    }\n",
       "\n",
       "    .dataframe thead th {\n",
       "        text-align: right;\n",
       "    }\n",
       "</style>\n",
       "<table border=\"1\" class=\"dataframe\">\n",
       "  <thead>\n",
       "    <tr style=\"text-align: right;\">\n",
       "      <th></th>\n",
       "      <th>name</th>\n",
       "      <th>ingredients</th>\n",
       "      <th>diet</th>\n",
       "      <th>prep_time</th>\n",
       "      <th>cook_time</th>\n",
       "      <th>flavor_profile</th>\n",
       "      <th>course</th>\n",
       "      <th>state</th>\n",
       "      <th>region</th>\n",
       "    </tr>\n",
       "  </thead>\n",
       "  <tbody>\n",
       "    <tr>\n",
       "      <th>0</th>\n",
       "      <td>Balu shahi</td>\n",
       "      <td>Maida flour, yogurt, oil, sugar</td>\n",
       "      <td>vegetarian</td>\n",
       "      <td>45</td>\n",
       "      <td>25</td>\n",
       "      <td>sweet</td>\n",
       "      <td>dessert</td>\n",
       "      <td>West Bengal</td>\n",
       "      <td>East</td>\n",
       "    </tr>\n",
       "    <tr>\n",
       "      <th>1</th>\n",
       "      <td>Boondi</td>\n",
       "      <td>Gram flour, ghee, sugar</td>\n",
       "      <td>vegetarian</td>\n",
       "      <td>80</td>\n",
       "      <td>30</td>\n",
       "      <td>sweet</td>\n",
       "      <td>dessert</td>\n",
       "      <td>Rajasthan</td>\n",
       "      <td>West</td>\n",
       "    </tr>\n",
       "    <tr>\n",
       "      <th>2</th>\n",
       "      <td>Gajar ka halwa</td>\n",
       "      <td>Carrots, milk, sugar, ghee, cashews, raisins</td>\n",
       "      <td>vegetarian</td>\n",
       "      <td>15</td>\n",
       "      <td>60</td>\n",
       "      <td>sweet</td>\n",
       "      <td>dessert</td>\n",
       "      <td>Punjab</td>\n",
       "      <td>North</td>\n",
       "    </tr>\n",
       "    <tr>\n",
       "      <th>3</th>\n",
       "      <td>Ghevar</td>\n",
       "      <td>Flour, ghee, kewra, milk, clarified butter, su...</td>\n",
       "      <td>vegetarian</td>\n",
       "      <td>15</td>\n",
       "      <td>30</td>\n",
       "      <td>sweet</td>\n",
       "      <td>dessert</td>\n",
       "      <td>Rajasthan</td>\n",
       "      <td>West</td>\n",
       "    </tr>\n",
       "    <tr>\n",
       "      <th>4</th>\n",
       "      <td>Gulab jamun</td>\n",
       "      <td>Milk powder, plain flour, baking powder, ghee,...</td>\n",
       "      <td>vegetarian</td>\n",
       "      <td>15</td>\n",
       "      <td>40</td>\n",
       "      <td>sweet</td>\n",
       "      <td>dessert</td>\n",
       "      <td>West Bengal</td>\n",
       "      <td>East</td>\n",
       "    </tr>\n",
       "  </tbody>\n",
       "</table>\n",
       "</div>"
      ],
      "text/plain": [
       "             name                                        ingredients  \\\n",
       "0      Balu shahi                    Maida flour, yogurt, oil, sugar   \n",
       "1          Boondi                            Gram flour, ghee, sugar   \n",
       "2  Gajar ka halwa       Carrots, milk, sugar, ghee, cashews, raisins   \n",
       "3          Ghevar  Flour, ghee, kewra, milk, clarified butter, su...   \n",
       "4     Gulab jamun  Milk powder, plain flour, baking powder, ghee,...   \n",
       "\n",
       "         diet  prep_time  cook_time flavor_profile   course        state  \\\n",
       "0  vegetarian         45         25          sweet  dessert  West Bengal   \n",
       "1  vegetarian         80         30          sweet  dessert    Rajasthan   \n",
       "2  vegetarian         15         60          sweet  dessert       Punjab   \n",
       "3  vegetarian         15         30          sweet  dessert    Rajasthan   \n",
       "4  vegetarian         15         40          sweet  dessert  West Bengal   \n",
       "\n",
       "  region  \n",
       "0   East  \n",
       "1   West  \n",
       "2  North  \n",
       "3   West  \n",
       "4   East  "
      ]
     },
     "execution_count": 3,
     "metadata": {},
     "output_type": "execute_result"
    }
   ],
   "source": [
    "F.head()"
   ]
  },
  {
   "cell_type": "markdown",
   "metadata": {},
   "source": [
    "## Predict diet"
   ]
  },
  {
   "cell_type": "code",
   "execution_count": 5,
   "metadata": {},
   "outputs": [],
   "source": [
    "target = F.diet.values\n",
    "data = [x.lower().split(', ') for x in F.ingredients.values]"
   ]
  },
  {
   "cell_type": "code",
   "execution_count": 6,
   "metadata": {},
   "outputs": [
    {
     "name": "stdout",
     "output_type": "stream",
     "text": [
      "['maida flour', 'yogurt', 'oil', 'sugar'] vegetarian\n"
     ]
    }
   ],
   "source": [
    "print(data[0], target[0])"
   ]
  },
  {
   "cell_type": "markdown",
   "metadata": {},
   "source": [
    "## Indexing dishes"
   ]
  },
  {
   "cell_type": "code",
   "execution_count": 7,
   "metadata": {},
   "outputs": [],
   "source": [
    "from collections import defaultdict"
   ]
  },
  {
   "cell_type": "code",
   "execution_count": 10,
   "metadata": {},
   "outputs": [],
   "source": [
    "I = defaultdict(lambda: defaultdict(lambda: 0))\n",
    "for i, dish in enumerate(data):\n",
    "    for ingredient in dish:\n",
    "        I[i][ingredient] += 1\n",
    "I = pd.DataFrame(I).T\n",
    "I.fillna(0, inplace=True)"
   ]
  },
  {
   "cell_type": "code",
   "execution_count": 11,
   "metadata": {},
   "outputs": [
    {
     "data": {
      "text/html": [
       "<div>\n",
       "<style scoped>\n",
       "    .dataframe tbody tr th:only-of-type {\n",
       "        vertical-align: middle;\n",
       "    }\n",
       "\n",
       "    .dataframe tbody tr th {\n",
       "        vertical-align: top;\n",
       "    }\n",
       "\n",
       "    .dataframe thead th {\n",
       "        text-align: right;\n",
       "    }\n",
       "</style>\n",
       "<table border=\"1\" class=\"dataframe\">\n",
       "  <thead>\n",
       "    <tr style=\"text-align: right;\">\n",
       "      <th></th>\n",
       "      <th>maida flour</th>\n",
       "      <th>yogurt</th>\n",
       "      <th>oil</th>\n",
       "      <th>sugar</th>\n",
       "      <th>gram flour</th>\n",
       "      <th>ghee</th>\n",
       "      <th>carrots</th>\n",
       "      <th>milk</th>\n",
       "      <th>cashews</th>\n",
       "      <th>raisins</th>\n",
       "      <th>...</th>\n",
       "      <th>soaked rice</th>\n",
       "      <th>cardamom pods</th>\n",
       "      <th>red pepper</th>\n",
       "      <th>watercress</th>\n",
       "      <th>glutinous rice</th>\n",
       "      <th>egg yolks</th>\n",
       "      <th>dry dates</th>\n",
       "      <th>dried rose petals</th>\n",
       "      <th>arrowroot powder</th>\n",
       "      <th>ginger powder</th>\n",
       "    </tr>\n",
       "  </thead>\n",
       "  <tbody>\n",
       "    <tr>\n",
       "      <th>0</th>\n",
       "      <td>1.0</td>\n",
       "      <td>1.0</td>\n",
       "      <td>1.0</td>\n",
       "      <td>1.0</td>\n",
       "      <td>0.0</td>\n",
       "      <td>0.0</td>\n",
       "      <td>0.0</td>\n",
       "      <td>0.0</td>\n",
       "      <td>0.0</td>\n",
       "      <td>0.0</td>\n",
       "      <td>...</td>\n",
       "      <td>0.0</td>\n",
       "      <td>0.0</td>\n",
       "      <td>0.0</td>\n",
       "      <td>0.0</td>\n",
       "      <td>0.0</td>\n",
       "      <td>0.0</td>\n",
       "      <td>0.0</td>\n",
       "      <td>0.0</td>\n",
       "      <td>0.0</td>\n",
       "      <td>0.0</td>\n",
       "    </tr>\n",
       "    <tr>\n",
       "      <th>1</th>\n",
       "      <td>0.0</td>\n",
       "      <td>0.0</td>\n",
       "      <td>0.0</td>\n",
       "      <td>1.0</td>\n",
       "      <td>1.0</td>\n",
       "      <td>1.0</td>\n",
       "      <td>0.0</td>\n",
       "      <td>0.0</td>\n",
       "      <td>0.0</td>\n",
       "      <td>0.0</td>\n",
       "      <td>...</td>\n",
       "      <td>0.0</td>\n",
       "      <td>0.0</td>\n",
       "      <td>0.0</td>\n",
       "      <td>0.0</td>\n",
       "      <td>0.0</td>\n",
       "      <td>0.0</td>\n",
       "      <td>0.0</td>\n",
       "      <td>0.0</td>\n",
       "      <td>0.0</td>\n",
       "      <td>0.0</td>\n",
       "    </tr>\n",
       "    <tr>\n",
       "      <th>2</th>\n",
       "      <td>0.0</td>\n",
       "      <td>0.0</td>\n",
       "      <td>0.0</td>\n",
       "      <td>1.0</td>\n",
       "      <td>0.0</td>\n",
       "      <td>1.0</td>\n",
       "      <td>1.0</td>\n",
       "      <td>1.0</td>\n",
       "      <td>1.0</td>\n",
       "      <td>1.0</td>\n",
       "      <td>...</td>\n",
       "      <td>0.0</td>\n",
       "      <td>0.0</td>\n",
       "      <td>0.0</td>\n",
       "      <td>0.0</td>\n",
       "      <td>0.0</td>\n",
       "      <td>0.0</td>\n",
       "      <td>0.0</td>\n",
       "      <td>0.0</td>\n",
       "      <td>0.0</td>\n",
       "      <td>0.0</td>\n",
       "    </tr>\n",
       "    <tr>\n",
       "      <th>3</th>\n",
       "      <td>0.0</td>\n",
       "      <td>0.0</td>\n",
       "      <td>0.0</td>\n",
       "      <td>1.0</td>\n",
       "      <td>0.0</td>\n",
       "      <td>1.0</td>\n",
       "      <td>0.0</td>\n",
       "      <td>1.0</td>\n",
       "      <td>0.0</td>\n",
       "      <td>0.0</td>\n",
       "      <td>...</td>\n",
       "      <td>0.0</td>\n",
       "      <td>0.0</td>\n",
       "      <td>0.0</td>\n",
       "      <td>0.0</td>\n",
       "      <td>0.0</td>\n",
       "      <td>0.0</td>\n",
       "      <td>0.0</td>\n",
       "      <td>0.0</td>\n",
       "      <td>0.0</td>\n",
       "      <td>0.0</td>\n",
       "    </tr>\n",
       "    <tr>\n",
       "      <th>4</th>\n",
       "      <td>0.0</td>\n",
       "      <td>0.0</td>\n",
       "      <td>0.0</td>\n",
       "      <td>1.0</td>\n",
       "      <td>0.0</td>\n",
       "      <td>1.0</td>\n",
       "      <td>0.0</td>\n",
       "      <td>1.0</td>\n",
       "      <td>0.0</td>\n",
       "      <td>0.0</td>\n",
       "      <td>...</td>\n",
       "      <td>0.0</td>\n",
       "      <td>0.0</td>\n",
       "      <td>0.0</td>\n",
       "      <td>0.0</td>\n",
       "      <td>0.0</td>\n",
       "      <td>0.0</td>\n",
       "      <td>0.0</td>\n",
       "      <td>0.0</td>\n",
       "      <td>0.0</td>\n",
       "      <td>0.0</td>\n",
       "    </tr>\n",
       "  </tbody>\n",
       "</table>\n",
       "<p>5 rows × 367 columns</p>\n",
       "</div>"
      ],
      "text/plain": [
       "   maida flour  yogurt  oil  sugar  gram flour  ghee  carrots  milk  cashews  \\\n",
       "0          1.0     1.0  1.0    1.0         0.0   0.0      0.0   0.0      0.0   \n",
       "1          0.0     0.0  0.0    1.0         1.0   1.0      0.0   0.0      0.0   \n",
       "2          0.0     0.0  0.0    1.0         0.0   1.0      1.0   1.0      1.0   \n",
       "3          0.0     0.0  0.0    1.0         0.0   1.0      0.0   1.0      0.0   \n",
       "4          0.0     0.0  0.0    1.0         0.0   1.0      0.0   1.0      0.0   \n",
       "\n",
       "   raisins  ...  soaked rice  cardamom pods  red pepper  watercress  \\\n",
       "0      0.0  ...          0.0            0.0         0.0         0.0   \n",
       "1      0.0  ...          0.0            0.0         0.0         0.0   \n",
       "2      1.0  ...          0.0            0.0         0.0         0.0   \n",
       "3      0.0  ...          0.0            0.0         0.0         0.0   \n",
       "4      0.0  ...          0.0            0.0         0.0         0.0   \n",
       "\n",
       "   glutinous rice  egg yolks  dry dates  dried rose petals  arrowroot powder  \\\n",
       "0             0.0        0.0        0.0                0.0               0.0   \n",
       "1             0.0        0.0        0.0                0.0               0.0   \n",
       "2             0.0        0.0        0.0                0.0               0.0   \n",
       "3             0.0        0.0        0.0                0.0               0.0   \n",
       "4             0.0        0.0        0.0                0.0               0.0   \n",
       "\n",
       "   ginger powder  \n",
       "0            0.0  \n",
       "1            0.0  \n",
       "2            0.0  \n",
       "3            0.0  \n",
       "4            0.0  \n",
       "\n",
       "[5 rows x 367 columns]"
      ]
     },
     "execution_count": 11,
     "metadata": {},
     "output_type": "execute_result"
    }
   ],
   "source": [
    "I.head()"
   ]
  },
  {
   "cell_type": "markdown",
   "metadata": {},
   "source": [
    "## Introduzione all'apprendimento supervisionato: Naive Bayes (from scratch)\n",
    "\n",
    "In un contesto di apprendimento supervisionato siamo in possesso di un set (*training set*) di esempi pre-classificati. Il principio base dell'apprendimento supervisionato consiste nello sfruttare l'informazione fornita dal training set per evincere un criterio di classificazione da usare su dati non ancora classificati.\n",
    "\n",
    "Nel caso di Naive Bayes, ciò è fatto con un ragionamento di tipo probabilistico. Guardando alla distribuzione delle feature nelle diverse classi dell'esempio siamo in grado di stimare infatti la probabilità di osservare una certa feature (un ingrediente nel nostro esempio) conoscendo la classe della ricetta.\n",
    "\n",
    "$$P(feature \\mid class) = P(ingrediente \\mid dieta) \\approx \\frac{count(feature)}{\\sum\\limits_{i=0}^{n} count(feature_i)}$$"
   ]
  },
  {
   "cell_type": "markdown",
   "metadata": {},
   "source": [
    "### Creazione del training set"
   ]
  },
  {
   "cell_type": "code",
   "execution_count": 12,
   "metadata": {},
   "outputs": [],
   "source": [
    "from sklearn.model_selection import train_test_split"
   ]
  },
  {
   "cell_type": "code",
   "execution_count": 13,
   "metadata": {},
   "outputs": [],
   "source": [
    "X_train, X_test, y_train, y_test = train_test_split(I, target, test_size=0.33, random_state=42)"
   ]
  },
  {
   "cell_type": "markdown",
   "metadata": {},
   "source": [
    "### Istanze delle classi nel training set"
   ]
  },
  {
   "cell_type": "code",
   "execution_count": 18,
   "metadata": {},
   "outputs": [],
   "source": [
    "classes = {}\n",
    "for c in set(target):\n",
    "    cpos = [i for i, x in enumerate(y_train) if x == c]\n",
    "    classes[c] = X_train.iloc[cpos]"
   ]
  },
  {
   "cell_type": "code",
   "execution_count": 31,
   "metadata": {},
   "outputs": [],
   "source": [
    "def p_f_c(classes, X_train):\n",
    "    P = defaultdict(lambda: defaultdict(lambda: 0))\n",
    "    for feature in X_train.columns:\n",
    "        for c, data in classes.items():\n",
    "            count_feature = data[feature].sum()\n",
    "            P[c][feature] = count_feature / data.sum().sum()\n",
    "    return P"
   ]
  },
  {
   "cell_type": "code",
   "execution_count": 32,
   "metadata": {},
   "outputs": [],
   "source": [
    "f_prob = p_f_c(classes, X_train)"
   ]
  },
  {
   "cell_type": "code",
   "execution_count": 37,
   "metadata": {},
   "outputs": [
    {
     "name": "stdout",
     "output_type": "stream",
     "text": [
      "0.0015552099533437014\n",
      "0.0\n",
      "0.0\n",
      "0.009433962264150943\n"
     ]
    }
   ],
   "source": [
    "print(f_prob['vegetarian']['carrots'])\n",
    "print(f_prob['vegetarian']['lamb'])\n",
    "print(f_prob['non vegetarian']['carrots'])\n",
    "print(f_prob['non vegetarian']['lamb'])"
   ]
  },
  {
   "cell_type": "markdown",
   "metadata": {},
   "source": [
    "Il nostro problema però è in qualche modo l'inverso di stimare la feature data la classe perchè quando dovremo classificare i dati osserveremo solo le feature e sarà nostro compito stimare la classe. Perciò il nostro obiettivo è invertire la predizione $P(feature \\mid class)$.\n",
    "\n",
    "**Bayes' rule**\n",
    "$$\n",
    "P(A \\mid B) = \\frac{P(A)P(B \\mid A)}{P(B)}\n",
    "$$\n",
    "\n",
    "applicato al nostro caso diventa\n",
    "\n",
    "$$\n",
    "P(class \\mid feature) = \\frac{P(class)P(feature \\mid class)}{P(feature)} \\approx P(class)P(feature \\mid class)\n",
    "$$\n",
    "\n",
    "Nell'osservare un dato che ha più feature caratteristiche, se assumiamo che le feature siano fra loro tutte indipendenti, allora possiamo generalizzare come segue\n",
    "\n",
    "$$\n",
    "P(class \\mid feature) \\approx P(class)\\prod\\limits_{i=1}^{n} P(feature_i \\mid class)\n",
    "$$\n",
    "\n",
    "Semplificando, l'idea è riassumibile come:\n",
    "\n",
    "$$\n",
    "\\textsf{POSTERIOR is proportional to PRIOR times LIKELIHOOD}\n",
    "$$"
   ]
  },
  {
   "cell_type": "markdown",
   "metadata": {},
   "source": [
    "### Likelihood di un item data una classe"
   ]
  },
  {
   "cell_type": "code",
   "execution_count": 39,
   "metadata": {},
   "outputs": [],
   "source": [
    "item = data[0]\n",
    "c = 'non vegetarian'"
   ]
  },
  {
   "cell_type": "code",
   "execution_count": 40,
   "metadata": {},
   "outputs": [
    {
     "name": "stdout",
     "output_type": "stream",
     "text": [
      "['maida flour', 'yogurt', 'oil', 'sugar']\n",
      "[0.0, 0.009433962264150943, 0.0, 0.009433962264150943]\n"
     ]
    }
   ],
   "source": [
    "print(item)\n",
    "print([f_prob[c][x] for x in item])"
   ]
  },
  {
   "cell_type": "markdown",
   "metadata": {},
   "source": [
    "### Probabilità nulle\n",
    "Dato che per stimare la likelihood considereremo il prodotto delle probabilità delle singole feature, una sola feature assente nella classe considerata annullerà l'intera stima. Per far ciò si ricorre a uno pseudo conteggio noto come *Laplace smoothing* nel quale aggiungiamo una quantità $\\alpha > 0$ a tutti i conteggi."
   ]
  },
  {
   "cell_type": "code",
   "execution_count": 49,
   "metadata": {},
   "outputs": [],
   "source": [
    "def p_f_c_a(classes, X_train, alpha=0.1):\n",
    "    P = defaultdict(lambda: defaultdict(lambda: 0))\n",
    "    for feature in X_train.columns:\n",
    "        for c, data in classes.items():\n",
    "            count_feature = data[feature].sum() + alpha\n",
    "            P[c][feature] = count_feature / (data.sum().sum() + alpha * data.shape[0])\n",
    "    return P"
   ]
  },
  {
   "cell_type": "code",
   "execution_count": 54,
   "metadata": {},
   "outputs": [],
   "source": [
    "f_prob_a = p_f_c_a(classes, X_train, alpha=0.1)"
   ]
  },
  {
   "cell_type": "code",
   "execution_count": 55,
   "metadata": {},
   "outputs": [
    {
     "name": "stdout",
     "output_type": "stream",
     "text": [
      "['maida flour', 'yogurt', 'oil', 'sugar']\n",
      "[0.0009250693802035154, 0.01017576318223867, 0.0009250693802035154, 0.01017576318223867]\n"
     ]
    }
   ],
   "source": [
    "print(item)\n",
    "print([f_prob_a[c][x] for x in item])"
   ]
  },
  {
   "cell_type": "code",
   "execution_count": 56,
   "metadata": {},
   "outputs": [],
   "source": [
    "likelihood = lambda item, c: np.prod([f_prob_a[c][x] for x in item])    "
   ]
  },
  {
   "cell_type": "code",
   "execution_count": 57,
   "metadata": {},
   "outputs": [
    {
     "name": "stdout",
     "output_type": "stream",
     "text": [
      "1.3698210438052818e-08\n",
      "8.860997101649301e-11\n"
     ]
    }
   ],
   "source": [
    "print(likelihood(item, 'vegetarian'))\n",
    "print(likelihood(item, 'non vegetarian'))"
   ]
  },
  {
   "cell_type": "markdown",
   "metadata": {},
   "source": [
    "### Prior\n",
    "Per stimare i prior delle classi possiamo semplicemente utilizzare la loro numerosità"
   ]
  },
  {
   "cell_type": "code",
   "execution_count": 58,
   "metadata": {},
   "outputs": [],
   "source": [
    "priors = dict([(c, k.shape[0] / X_train.shape[0]) for c, k in classes.items()])"
   ]
  },
  {
   "cell_type": "code",
   "execution_count": 59,
   "metadata": {},
   "outputs": [
    {
     "data": {
      "text/plain": [
       "{'non vegetarian': 0.12352941176470589, 'vegetarian': 0.8764705882352941}"
      ]
     },
     "execution_count": 59,
     "metadata": {},
     "output_type": "execute_result"
    }
   ],
   "source": [
    "priors"
   ]
  },
  {
   "cell_type": "markdown",
   "metadata": {},
   "source": [
    "### Prediction"
   ]
  },
  {
   "cell_type": "code",
   "execution_count": 60,
   "metadata": {},
   "outputs": [],
   "source": [
    "def predict(item, targets):\n",
    "    probs = np.array([priors[c] * likelihood(item, c) for c in targets])\n",
    "    guess = targets[np.argmax(probs)]\n",
    "    return guess, probs"
   ]
  },
  {
   "cell_type": "code",
   "execution_count": 65,
   "metadata": {},
   "outputs": [
    {
     "data": {
      "text/plain": [
       "['non vegetarian', 'vegetarian']"
      ]
     },
     "execution_count": 65,
     "metadata": {},
     "output_type": "execute_result"
    }
   ],
   "source": [
    "list(set(target))"
   ]
  },
  {
   "cell_type": "code",
   "execution_count": 66,
   "metadata": {},
   "outputs": [
    {
     "data": {
      "text/plain": [
       "('vegetarian', array([1.09459376e-11, 1.20060786e-08]))"
      ]
     },
     "execution_count": 66,
     "metadata": {},
     "output_type": "execute_result"
    }
   ],
   "source": [
    "predict(item, list(set(target)))"
   ]
  },
  {
   "cell_type": "markdown",
   "metadata": {},
   "source": [
    "### Visualize"
   ]
  },
  {
   "cell_type": "code",
   "execution_count": 69,
   "metadata": {},
   "outputs": [],
   "source": [
    "from sklearn.decomposition import PCA\n",
    "import matplotlib.pyplot as plt"
   ]
  },
  {
   "cell_type": "code",
   "execution_count": 73,
   "metadata": {},
   "outputs": [],
   "source": [
    "target_values = list(set(target))"
   ]
  },
  {
   "cell_type": "code",
   "execution_count": 70,
   "metadata": {},
   "outputs": [],
   "source": [
    "pca = PCA(n_components=2)\n",
    "Vx = pca.fit_transform(X_train)\n",
    "Vt = pca.transform(X_test)"
   ]
  },
  {
   "cell_type": "code",
   "execution_count": 75,
   "metadata": {},
   "outputs": [
    {
     "data": {
      "image/png": "[encoded data removed]",
      "text/plain": [
       "<Figure size 1152x576 with 2 Axes>"
      ]
     },
     "metadata": {
      "needs_background": "light"
     },
     "output_type": "display_data"
    }
   ],
   "source": [
    "fig, ax = plt.subplots(figsize=(16, 8), ncols=2)\n",
    "ax[0].scatter(Vx[:,0], Vx[:,0], c=[target_values.index(v) for v in y_train], alpha=0.4)\n",
    "ax[1].scatter(Vt[:,0], Vt[:,0], c=[target_values.index(v) for v in y_test], alpha=0.4)\n",
    "plt.tight_layout()\n",
    "plt.show()"
   ]
  },
  {
   "cell_type": "markdown",
   "metadata": {},
   "source": [
    "### Evaluate"
   ]
  },
  {
   "cell_type": "code",
   "execution_count": 80,
   "metadata": {},
   "outputs": [],
   "source": [
    "import sklearn.metrics as mt"
   ]
  },
  {
   "cell_type": "code",
   "execution_count": 76,
   "metadata": {},
   "outputs": [],
   "source": [
    "test_data = [data[i] for i in X_test.index.values]"
   ]
  },
  {
   "cell_type": "code",
   "execution_count": 78,
   "metadata": {},
   "outputs": [],
   "source": [
    "y_pred = [predict(item, target_values)[0] for item in test_data]"
   ]
  },
  {
   "cell_type": "code",
   "execution_count": 81,
   "metadata": {},
   "outputs": [
    {
     "name": "stdout",
     "output_type": "stream",
     "text": [
      "                precision    recall  f1-score   support\n",
      "\n",
      "non vegetarian       0.29      0.88      0.44         8\n",
      "    vegetarian       0.98      0.78      0.87        77\n",
      "\n",
      "      accuracy                           0.79        85\n",
      "     macro avg       0.64      0.83      0.65        85\n",
      "  weighted avg       0.92      0.79      0.83        85\n",
      "\n"
     ]
    }
   ],
   "source": [
    "print(mt.classification_report(y_test, y_pred))"
   ]
  },
  {
   "cell_type": "code",
   "execution_count": 82,
   "metadata": {},
   "outputs": [],
   "source": [
    "cm = mt.confusion_matrix(y_test, y_pred)\n",
    "plot = mt.ConfusionMatrixDisplay(cm)"
   ]
  },
  {
   "cell_type": "code",
   "execution_count": 84,
   "metadata": {},
   "outputs": [
    {
     "data": {
      "image/png": "[encoded data removed]",
      "text/plain": [
       "<Figure size 432x288 with 2 Axes>"
      ]
     },
     "metadata": {
      "needs_background": "light"
     },
     "output_type": "display_data"
    }
   ],
   "source": [
    "plot.plot(cmap='Greys')\n",
    "plt.show()"
   ]
  },
  {
   "cell_type": "markdown",
   "metadata": {},
   "source": [
    "### Approfondimento\n",
    "- Provare a usare un diverso target di classificazione come ad esempio i campi `course` o `region`\n",
    "- Utilizzare l'implementazione [sklearn di GaussianNB](https://scikit-learn.org/stable/modules/generated/sklearn.naive_bayes.GaussianNB.html#sklearn.naive_bayes.GaussianNB)"
   ]
  },
  {
   "cell_type": "code",
   "execution_count": 85,
   "metadata": {},
   "outputs": [
    {
     "data": {
      "text/plain": [
       "array(['dessert', 'main course', 'starter', 'snack'], dtype=object)"
      ]
     },
     "execution_count": 85,
     "metadata": {},
     "output_type": "execute_result"
    }
   ],
   "source": [
    "F.course.unique()"
   ]
  },
  {
   "cell_type": "code",
   "execution_count": 86,
   "metadata": {},
   "outputs": [
    {
     "data": {
      "text/plain": [
       "array(['East', 'West', 'North', '-1', 'North East', 'South', 'Central',\n",
       "       nan], dtype=object)"
      ]
     },
     "execution_count": 86,
     "metadata": {},
     "output_type": "execute_result"
    }
   ],
   "source": [
    "F.region.unique()"
   ]
  },
  {
   "cell_type": "code",
   "execution_count": null,
   "metadata": {},
   "outputs": [],
   "source": []
  }
 ],
 "metadata": {
  "kernelspec": {
   "display_name": "Python 3",
   "language": "python",
   "name": "python3"
  },
  "language_info": {
   "codemirror_mode": {
    "name": "ipython",
    "version": 3
   },
   "file_extension": ".py",
   "mimetype": "text/x-python",
   "name": "python",
   "nbconvert_exporter": "python",
   "pygments_lexer": "ipython3",
   "version": "3.7.4"
  },
  "toc": {
   "base_numbering": 1,
   "nav_menu": {},
   "number_sections": true,
   "sideBar": true,
   "skip_h1_title": true,
   "title_cell": "Table of Contents",
   "title_sidebar": "Contents",
   "toc_cell": false,
   "toc_position": {},
   "toc_section_display": true,
   "toc_window_display": false
  }
 },
 "nbformat": 4,
 "nbformat_minor": 2
}
