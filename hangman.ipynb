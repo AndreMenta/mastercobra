{
 "cells": [
  {
   "cell_type": "markdown",
   "metadata": {},
   "source": [
    "# Hangman game\n",
    "\n",
    "## Initialize\n",
    "- Acquisition of word list\n",
    "- Random select a word\n",
    "- Initialize number of trials\n",
    "- (take into account the word frequency)\n",
    "\n",
    "## Play\n",
    "- output for the user\n",
    "- method for trials\n",
    "- check"
   ]
  },
  {
   "cell_type": "code",
   "execution_count": 1,
   "metadata": {},
   "outputs": [],
   "source": [
    "from typing import List\n",
    "import numpy as np"
   ]
  },
  {
   "cell_type": "code",
   "execution_count": 62,
   "metadata": {},
   "outputs": [],
   "source": [
    "class Hangman(object):\n",
    "    \n",
    "    def __init__(self, \n",
    "                 list_of_words: List[str],\n",
    "                 word_len: int = 6,\n",
    "                 trials: int = 8):\n",
    "        self._idx = {}\n",
    "        self.word_len, self.trials = word_len, trials\n",
    "        self._update_index(list_of_words)\n",
    "        self.selected_word = None\n",
    "        self._select_word()\n",
    "        self.mask = ['_'] * len(self.selected_word)\n",
    "                \n",
    "    def _update_index(self, list_of_words: List[str]):\n",
    "        for word in list_of_words:\n",
    "            try:\n",
    "                self._idx[len(word)].append(word)\n",
    "            except KeyError:\n",
    "                self._idx[len(word)] = [word]\n",
    "    \n",
    "    def get_words(self, length: int):\n",
    "        try:\n",
    "            return self._idx[length]\n",
    "        except KeyError:\n",
    "            return []\n",
    "        \n",
    "    def add_words(self, list_of_words: List[str]):\n",
    "        self._update_index(list_of_words)\n",
    "        \n",
    "    def print_status(self):\n",
    "        print(self.mask)\n",
    "        print('\\nRemaining trials {}'.format(self.trials))\n",
    "        \n",
    "    def play(self, guess: str):\n",
    "        self.trials -= 1\n",
    "        for i, ch in enumerate(self.selected_word):\n",
    "            if guess[i] == ch:\n",
    "                self.mask[i] = ch\n",
    "        return self.mask\n",
    "         \n",
    "    def _select_word(self):\n",
    "        try:\n",
    "            candidates = self._idx[self.word_len]\n",
    "            self.selected_word = np.random.choice(candidates)\n",
    "        except KeyError:\n",
    "            print(\n",
    "                'Non esistono parole di lunghezza {}'.format(\n",
    "                self.word_len))"
   ]
  },
  {
   "cell_type": "code",
   "execution_count": 63,
   "metadata": {},
   "outputs": [],
   "source": [
    "file_path = 'words/1000_parole_italiane_comuni.txt'\n",
    "with open(file_path, 'r') as fhandle:\n",
    "    lines = fhandle.readlines()\n",
    "words = [w.strip('\\n') for w in lines]"
   ]
  },
  {
   "cell_type": "code",
   "execution_count": 64,
   "metadata": {},
   "outputs": [],
   "source": [
    "h = Hangman(words, word_len=6, trials=10)"
   ]
  },
  {
   "cell_type": "code",
   "execution_count": 65,
   "metadata": {},
   "outputs": [
    {
     "name": "stdout",
     "output_type": "stream",
     "text": [
      "['_', '_', '_', '_', '_', '_']\n",
      "\n",
      "Remaining trials 10\n"
     ]
    }
   ],
   "source": [
    "h.print_status()"
   ]
  },
  {
   "cell_type": "code",
   "execution_count": 66,
   "metadata": {},
   "outputs": [
    {
     "data": {
      "text/plain": [
       "['_', '_', '_', '_', '_', 'e']"
      ]
     },
     "execution_count": 66,
     "metadata": {},
     "output_type": "execute_result"
    }
   ],
   "source": [
    "h.play(guess='_o__ie')"
   ]
  },
  {
   "cell_type": "markdown",
   "metadata": {},
   "source": [
    "## Create an automatic player based on char frequency\n",
    "- frequenza delle lettere\n",
    "- provo con stringhe composte sempre dalla stessa lettera\n",
    "- non modifico la string tentativo (guess) nelle posizioni già indovinate\n",
    "\n",
    "### Dati che mi servono\n",
    "- lettere in ordine discendente di frequenza"
   ]
  },
  {
   "cell_type": "code",
   "execution_count": 17,
   "metadata": {},
   "outputs": [],
   "source": [
    "from collections import defaultdict"
   ]
  },
  {
   "cell_type": "code",
   "execution_count": 14,
   "metadata": {},
   "outputs": [],
   "source": [
    "file_path = 'words/1000_parole_italiane_comuni.txt'\n",
    "with open(file_path, 'r') as fhandle:\n",
    "    lines = fhandle.readlines()\n",
    "words = [w.strip('\\n') for w in lines]"
   ]
  },
  {
   "cell_type": "code",
   "execution_count": 100,
   "metadata": {},
   "outputs": [],
   "source": [
    "class Player(object):\n",
    "    \n",
    "    def __init__(self, hangman: Hangman, list_of_words: List[str]):\n",
    "        self.hangman = hangman\n",
    "        char_index = defaultdict(lambda: 0)\n",
    "        for word in list_of_words:\n",
    "            for char in word:\n",
    "                char_index[char] += 1\n",
    "        self.char_frequency = [c for c, f in sorted(list(\n",
    "            char_index.items()), key=lambda x: -x[1])]\n",
    "        self.char_to_try = 0\n",
    "        self.positions_guessed = {}\n",
    "    \n",
    "    def trial(self):\n",
    "        guess = self.char_frequency[\n",
    "            self.char_to_try] * self.hangman.word_len\n",
    "        mask = self.hangman.play(guess)\n",
    "        self.char_to_try += 1\n",
    "        for i, ch in enumerate(mask):\n",
    "            if ch != '_':\n",
    "                self.positions_guessed[i] = ch\n",
    "    \n",
    "    def play(self):\n",
    "        while True:\n",
    "            self.trial()\n",
    "            if self.hangman.trials < 0:\n",
    "                print('Perso!', self.hangman.mask)\n",
    "                break\n",
    "            elif '_' not in self.hangman.mask:\n",
    "                print('Win!', self.hangman.mask, self.hangman.trials)\n",
    "                break\n",
    "            else:\n",
    "                continue"
   ]
  },
  {
   "cell_type": "code",
   "execution_count": 109,
   "metadata": {},
   "outputs": [],
   "source": [
    "h = Hangman(words, word_len=6, trials=16)\n",
    "player = Player(h, words)"
   ]
  },
  {
   "cell_type": "code",
   "execution_count": 110,
   "metadata": {},
   "outputs": [
    {
     "name": "stdout",
     "output_type": "stream",
     "text": [
      "Win! ['o', 'r', 'a', 'm', 'a', 'i'] 4\n"
     ]
    }
   ],
   "source": [
    "player.play()"
   ]
  },
  {
   "cell_type": "code",
   "execution_count": null,
   "metadata": {},
   "outputs": [],
   "source": []
  }
 ],
 "metadata": {
  "kernelspec": {
   "display_name": "Python 3 (ipykernel)",
   "language": "python",
   "name": "python3"
  },
  "language_info": {
   "codemirror_mode": {
    "name": "ipython",
    "version": 3
   },
   "file_extension": ".py",
   "mimetype": "text/x-python",
   "name": "python",
   "nbconvert_exporter": "python",
   "pygments_lexer": "ipython3",
   "version": "3.8.8"
  },
  "toc": {
   "base_numbering": 1,
   "nav_menu": {},
   "number_sections": true,
   "sideBar": true,
   "skip_h1_title": true,
   "title_cell": "Table of Contents",
   "title_sidebar": "Contents",
   "toc_cell": false,
   "toc_position": {},
   "toc_section_display": true,
   "toc_window_display": false
  }
 },
 "nbformat": 4,
 "nbformat_minor": 2
}
