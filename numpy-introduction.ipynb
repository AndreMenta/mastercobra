{
 "cells": [
  {
   "cell_type": "markdown",
   "id": "f1a935a4",
   "metadata": {},
   "source": [
    "# Breve introduzione all'uso di numpy"
   ]
  },
  {
   "cell_type": "code",
   "execution_count": 1,
   "id": "c2746ff5",
   "metadata": {},
   "outputs": [],
   "source": [
    "import numpy as np"
   ]
  },
  {
   "cell_type": "markdown",
   "id": "617c481f",
   "metadata": {},
   "source": [
    "## Basics e tipi di dato"
   ]
  },
  {
   "cell_type": "code",
   "execution_count": 2,
   "id": "a2c127cc",
   "metadata": {},
   "outputs": [],
   "source": [
    "A = np.array([[1, 2, 3], [4, 5, 6]])\n",
    "Af = np.array([1, 2, 3], float)"
   ]
  },
  {
   "cell_type": "code",
   "execution_count": 18,
   "id": "3027dbe2",
   "metadata": {},
   "outputs": [],
   "source": [
    "x0 = np.arange(0, 1, 0.25)\n",
    "x1 = np.linspace(0, 2*np.pi, 4)\n",
    "x2 = np.zeros((2,3))"
   ]
  },
  {
   "cell_type": "code",
   "execution_count": 19,
   "id": "5e2dd0c1",
   "metadata": {},
   "outputs": [
    {
     "name": "stdout",
     "output_type": "stream",
     "text": [
      "[0.         2.0943951  4.1887902  6.28318531]\n"
     ]
    }
   ],
   "source": [
    "print(x1)"
   ]
  },
  {
   "cell_type": "code",
   "execution_count": 26,
   "id": "f2a9575b",
   "metadata": {},
   "outputs": [],
   "source": [
    "r1 = np.random.random((2,3))\n",
    "r2 = np.random.normal(loc=1.0, scale=2.0, size=(6, 4))\n",
    "np.savetxt(\"./data/a_out.txt\", r1)\n",
    "r3 = np.loadtxt(\"./data/a_out.txt\")"
   ]
  },
  {
   "cell_type": "markdown",
   "id": "72123ac6",
   "metadata": {},
   "source": [
    "## Slicing e scrittura di dati (gli array sono oggeti mutable)"
   ]
  },
  {
   "cell_type": "code",
   "execution_count": 37,
   "id": "3e77908f",
   "metadata": {},
   "outputs": [
    {
     "data": {
      "text/plain": [
       "array([[ 1.68208832,  0.73665661, -0.5786053 , -0.80110188],\n",
       "       [ 1.73103216, -1.57118553,  0.22640992, -0.47848067],\n",
       "       [-0.39169535,  4.98218167, -0.72434653,  2.29168136],\n",
       "       [-1.62414099, -0.79050145,  0.92291361,  2.24408918],\n",
       "       [ 2.99170455,  0.24405749,  2.0785409 ,  0.0507408 ],\n",
       "       [ 1.13455132,  6.30768962, -0.69451674, -0.80238853]])"
      ]
     },
     "execution_count": 37,
     "metadata": {},
     "output_type": "execute_result"
    }
   ],
   "source": [
    "r2"
   ]
  },
  {
   "cell_type": "markdown",
   "id": "a71528c1",
   "metadata": {},
   "source": [
    "### Esempio di plot 2d dei dati in r2"
   ]
  },
  {
   "cell_type": "code",
   "execution_count": null,
   "id": "a26c9446",
   "metadata": {},
   "outputs": [],
   "source": [
    "import matplotlib.pyplot as plt"
   ]
  },
  {
   "cell_type": "code",
   "execution_count": null,
   "id": "b3bc3f26",
   "metadata": {},
   "outputs": [],
   "source": []
  },
  {
   "cell_type": "markdown",
   "id": "33f5021c",
   "metadata": {},
   "source": [
    "## Metodi di utilità dell'oggetto array"
   ]
  },
  {
   "cell_type": "code",
   "execution_count": 38,
   "id": "f2b71e85",
   "metadata": {},
   "outputs": [
    {
     "name": "stdout",
     "output_type": "stream",
     "text": [
      "dimensionalità 2\n",
      "struttura (6, 4)\n",
      "numero di elementi 24\n",
      "trasposta [[ 1.68208832  1.73103216 -0.39169535 -1.62414099  2.99170455  1.13455132]\n",
      " [ 0.73665661 -1.57118553  4.98218167 -0.79050145  0.24405749  6.30768962]\n",
      " [-0.5786053   0.22640992 -0.72434653  0.92291361  2.0785409  -0.69451674]\n",
      " [-0.80110188 -0.47848067  2.29168136  2.24408918  0.0507408  -0.80238853]]\n",
      "tipo di dati float64\n"
     ]
    }
   ],
   "source": [
    "print('dimensionalità', r2.ndim )\n",
    "print('struttura', r2.shape )\n",
    "print('numero di elementi', r2.size )\n",
    "print('trasposta', r2.T )\n",
    "print('tipo di dati', r2.dtype )"
   ]
  },
  {
   "cell_type": "markdown",
   "id": "9ce471f6",
   "metadata": {},
   "source": [
    "## Operazioni di base"
   ]
  },
  {
   "cell_type": "code",
   "execution_count": 42,
   "id": "0ed9b287",
   "metadata": {},
   "outputs": [],
   "source": [
    "a, b = np.arange(10), np.linspace(0, 1, 10)"
   ]
  },
  {
   "cell_type": "code",
   "execution_count": 44,
   "id": "078d0283",
   "metadata": {},
   "outputs": [
    {
     "data": {
      "text/plain": [
       "array([0.        , 0.11111111, 0.44444444, 1.        , 1.77777778,\n",
       "       2.77777778, 4.        , 5.44444444, 7.11111111, 9.        ])"
      ]
     },
     "execution_count": 44,
     "metadata": {},
     "output_type": "execute_result"
    }
   ],
   "source": [
    "a * b"
   ]
  },
  {
   "cell_type": "code",
   "execution_count": 47,
   "id": "9f0f3514",
   "metadata": {},
   "outputs": [
    {
     "data": {
      "text/plain": [
       "array([0.        , 0.88888889, 1.77777778, 2.66666667, 3.55555556,\n",
       "       4.44444444, 5.33333333, 6.22222222, 7.11111111, 8.        ])"
      ]
     },
     "execution_count": 47,
     "metadata": {},
     "output_type": "execute_result"
    }
   ],
   "source": [
    "a - b"
   ]
  },
  {
   "cell_type": "markdown",
   "id": "8942b4ad",
   "metadata": {},
   "source": [
    "### Compatibilità con liste"
   ]
  },
  {
   "cell_type": "code",
   "execution_count": 61,
   "id": "a3340890",
   "metadata": {},
   "outputs": [],
   "source": [
    "data = []\n",
    "for i in np.arange(0, 10, 1):\n",
    "    data.append([i]*3)\n",
    "a = np.array(data)"
   ]
  },
  {
   "cell_type": "code",
   "execution_count": null,
   "id": "b9724e10",
   "metadata": {},
   "outputs": [],
   "source": []
  },
  {
   "cell_type": "markdown",
   "id": "6a294746",
   "metadata": {},
   "source": [
    "### Broadcasting\n",
    "Se gli array hanno shape diversa, le dimensioni sono considerate compatibili se i) **sono della stessa grandezza** e ii) **una delle due è uguale a 1** "
   ]
  },
  {
   "cell_type": "code",
   "execution_count": 76,
   "id": "0b34a84e",
   "metadata": {},
   "outputs": [],
   "source": [
    "b = a * 10 + 10\n",
    "c = b[1:3,1:3]\n",
    "d = b[0]\n",
    "e = b[:,0].reshape(-1, 1)\n",
    "f = b[0,:]"
   ]
  },
  {
   "cell_type": "code",
   "execution_count": 88,
   "id": "8e773099",
   "metadata": {},
   "outputs": [
    {
     "data": {
      "text/plain": [
       "array([[ 20,  20,  20],\n",
       "       [ 30,  30,  30],\n",
       "       [ 40,  40,  40],\n",
       "       [ 50,  50,  50],\n",
       "       [ 60,  60,  60],\n",
       "       [ 70,  70,  70],\n",
       "       [ 80,  80,  80],\n",
       "       [ 90,  90,  90],\n",
       "       [100, 100, 100],\n",
       "       [110, 110, 110]])"
      ]
     },
     "execution_count": 88,
     "metadata": {},
     "output_type": "execute_result"
    }
   ],
   "source": [
    "e + f"
   ]
  },
  {
   "cell_type": "markdown",
   "id": "330edf58",
   "metadata": {},
   "source": [
    "## Operazioni fra vettori e matrici\n",
    "[inner product](https://mathworld.wolfram.com/InnerProduct.html), [outer product](https://en.wikipedia.org/wiki/Outer_product), [dot product](https://mathworld.wolfram.com/DotProduct.html)"
   ]
  },
  {
   "cell_type": "code",
   "execution_count": 95,
   "id": "03daacf7",
   "metadata": {},
   "outputs": [],
   "source": [
    "a = [4, 5, 6]\n",
    "b = [1, 1, 2]"
   ]
  },
  {
   "cell_type": "code",
   "execution_count": 96,
   "id": "dd05073c",
   "metadata": {},
   "outputs": [
    {
     "data": {
      "text/plain": [
       "21"
      ]
     },
     "execution_count": 96,
     "metadata": {},
     "output_type": "execute_result"
    }
   ],
   "source": [
    "np.inner(a, b)"
   ]
  },
  {
   "cell_type": "code",
   "execution_count": 97,
   "id": "6ab06d0e",
   "metadata": {},
   "outputs": [
    {
     "data": {
      "text/plain": [
       "array([[ 4,  4,  8],\n",
       "       [ 5,  5, 10],\n",
       "       [ 6,  6, 12]])"
      ]
     },
     "execution_count": 97,
     "metadata": {},
     "output_type": "execute_result"
    }
   ],
   "source": [
    "np.outer(a, b)"
   ]
  },
  {
   "cell_type": "code",
   "execution_count": 98,
   "id": "d86eb474",
   "metadata": {},
   "outputs": [
    {
     "data": {
      "text/plain": [
       "21"
      ]
     },
     "execution_count": 98,
     "metadata": {},
     "output_type": "execute_result"
    }
   ],
   "source": [
    "np.dot(a, b)"
   ]
  },
  {
   "cell_type": "code",
   "execution_count": 101,
   "id": "b992f035",
   "metadata": {},
   "outputs": [],
   "source": [
    "m1 = np.ones((3, 2))\n",
    "m2 = np.ones((2, 3))"
   ]
  },
  {
   "cell_type": "code",
   "execution_count": 102,
   "id": "ecb2f0a8",
   "metadata": {},
   "outputs": [
    {
     "data": {
      "text/plain": [
       "array([[2., 2., 2.],\n",
       "       [2., 2., 2.],\n",
       "       [2., 2., 2.]])"
      ]
     },
     "execution_count": 102,
     "metadata": {},
     "output_type": "execute_result"
    }
   ],
   "source": [
    "m1.dot(m2)"
   ]
  },
  {
   "cell_type": "code",
   "execution_count": 104,
   "id": "f63340dc",
   "metadata": {},
   "outputs": [
    {
     "data": {
      "text/plain": [
       "array([[3., 3.],\n",
       "       [3., 3.]])"
      ]
     },
     "execution_count": 104,
     "metadata": {},
     "output_type": "execute_result"
    }
   ],
   "source": [
    "m1.T.dot(m2.T)"
   ]
  },
  {
   "cell_type": "markdown",
   "id": "f965c599",
   "metadata": {},
   "source": [
    "## Operazioni sugli assi dell'array"
   ]
  },
  {
   "cell_type": "code",
   "execution_count": 113,
   "id": "d3da3fb6",
   "metadata": {},
   "outputs": [],
   "source": [
    "a = np.arange(100).reshape(-1, 2)"
   ]
  },
  {
   "cell_type": "code",
   "execution_count": 115,
   "id": "30321b47",
   "metadata": {},
   "outputs": [
    {
     "data": {
      "text/plain": [
       "4950"
      ]
     },
     "execution_count": 115,
     "metadata": {},
     "output_type": "execute_result"
    }
   ],
   "source": [
    "a.sum()"
   ]
  },
  {
   "cell_type": "code",
   "execution_count": 116,
   "id": "3b802e84",
   "metadata": {},
   "outputs": [
    {
     "data": {
      "text/plain": [
       "array([2450, 2500])"
      ]
     },
     "execution_count": 116,
     "metadata": {},
     "output_type": "execute_result"
    }
   ],
   "source": [
    "a.sum(axis=0)"
   ]
  },
  {
   "cell_type": "code",
   "execution_count": 117,
   "id": "65dd6a1f",
   "metadata": {},
   "outputs": [
    {
     "data": {
      "text/plain": [
       "array([  1,   5,   9,  13,  17,  21,  25,  29,  33,  37,  41,  45,  49,\n",
       "        53,  57,  61,  65,  69,  73,  77,  81,  85,  89,  93,  97, 101,\n",
       "       105, 109, 113, 117, 121, 125, 129, 133, 137, 141, 145, 149, 153,\n",
       "       157, 161, 165, 169, 173, 177, 181, 185, 189, 193, 197])"
      ]
     },
     "execution_count": 117,
     "metadata": {},
     "output_type": "execute_result"
    }
   ],
   "source": [
    "a.sum(axis=1)"
   ]
  },
  {
   "cell_type": "markdown",
   "id": "f201968d",
   "metadata": {},
   "source": [
    "## Altre operazioni su matrici"
   ]
  },
  {
   "cell_type": "code",
   "execution_count": 120,
   "id": "12b606d6",
   "metadata": {},
   "outputs": [],
   "source": [
    "import numpy.linalg as lg"
   ]
  },
  {
   "cell_type": "code",
   "execution_count": 126,
   "id": "7abd46bf",
   "metadata": {},
   "outputs": [],
   "source": [
    "i = np.eye(4)"
   ]
  },
  {
   "cell_type": "code",
   "execution_count": 129,
   "id": "b3a4f03a",
   "metadata": {},
   "outputs": [
    {
     "data": {
      "text/plain": [
       "3"
      ]
     },
     "execution_count": 129,
     "metadata": {},
     "output_type": "execute_result"
    }
   ],
   "source": [
    "np.trace(a) # somma lungo la diagonale"
   ]
  },
  {
   "cell_type": "code",
   "execution_count": 135,
   "id": "3016e057",
   "metadata": {},
   "outputs": [],
   "source": [
    "s1 = np.column_stack((a.T, np.array([[-1,-1], [-1,-1]])))"
   ]
  },
  {
   "cell_type": "code",
   "execution_count": 138,
   "id": "e0b4463e",
   "metadata": {},
   "outputs": [],
   "source": [
    "s2 = np.row_stack((a, np.array([[-1,-1], [-1,-1]])))"
   ]
  },
  {
   "cell_type": "code",
   "execution_count": 142,
   "id": "39cfc69d",
   "metadata": {},
   "outputs": [
    {
     "data": {
      "text/plain": [
       "array([[92, 93],\n",
       "       [94, 95],\n",
       "       [96, 97],\n",
       "       [98, 99],\n",
       "       [-1, -1],\n",
       "       [-1, -1]])"
      ]
     },
     "execution_count": 142,
     "metadata": {},
     "output_type": "execute_result"
    }
   ],
   "source": [
    "s2[-6:,:]"
   ]
  },
  {
   "cell_type": "code",
   "execution_count": null,
   "id": "4e93797a",
   "metadata": {},
   "outputs": [],
   "source": []
  }
 ],
 "metadata": {
  "kernelspec": {
   "display_name": "Python 3 (ipykernel)",
   "language": "python",
   "name": "python3"
  },
  "language_info": {
   "codemirror_mode": {
    "name": "ipython",
    "version": 3
   },
   "file_extension": ".py",
   "mimetype": "text/x-python",
   "name": "python",
   "nbconvert_exporter": "python",
   "pygments_lexer": "ipython3",
   "version": "3.8.8"
  },
  "toc": {
   "base_numbering": 1,
   "nav_menu": {},
   "number_sections": true,
   "sideBar": true,
   "skip_h1_title": false,
   "title_cell": "Table of Contents",
   "title_sidebar": "Contents",
   "toc_cell": false,
   "toc_position": {},
   "toc_section_display": true,
   "toc_window_display": false
  }
 },
 "nbformat": 4,
 "nbformat_minor": 5
}
