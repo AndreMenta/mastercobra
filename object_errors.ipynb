{
 "cells": [
  {
   "cell_type": "markdown",
   "id": "490677cc",
   "metadata": {},
   "source": [
    "# Simple example of a programming error in Python\n",
    "by Allen Downey\n",
    "http://thinkpython2.com"
   ]
  },
  {
   "cell_type": "code",
   "execution_count": 4,
   "id": "7d4fbcad",
   "metadata": {},
   "outputs": [],
   "source": [
    "from object_error import ErrorKangaroo\n",
    "import copy"
   ]
  },
  {
   "cell_type": "code",
   "execution_count": 5,
   "id": "5fd4689d",
   "metadata": {},
   "outputs": [
    {
     "name": "stdout",
     "output_type": "stream",
     "text": [
      "Kanga has pouch contents:\n",
      "    'wallet'\n",
      "    'car keys'\n",
      "Roo has pouch contents:\n",
      "    'wallet'\n",
      "    'car keys'\n"
     ]
    }
   ],
   "source": [
    "\n",
    "kanga = ErrorKangaroo('Kanga')\n",
    "\n",
    "roo = ErrorKangaroo('Roo')\n",
    "\n",
    "kanga.put_in_pouch('wallet')\n",
    "kanga.put_in_pouch('car keys')\n",
    "#kanga.put_in_pouch(roo)\n",
    "\n",
    "print(kanga)\n",
    "\n",
    "# If you run this program as is, it seems to work.\n",
    "# To see the problem, trying printing roo.\n",
    "\n",
    "print(roo)"
   ]
  },
  {
   "cell_type": "code",
   "execution_count": null,
   "id": "2409e568",
   "metadata": {},
   "outputs": [],
   "source": [
    "kanga"
   ]
  },
  {
   "cell_type": "code",
   "execution_count": null,
   "id": "6514ccec",
   "metadata": {},
   "outputs": [],
   "source": [
    "roo"
   ]
  },
  {
   "cell_type": "code",
   "execution_count": null,
   "id": "2cefc707",
   "metadata": {},
   "outputs": [],
   "source": []
  }
 ],
 "metadata": {
  "kernelspec": {
   "display_name": "Python 3 (ipykernel)",
   "language": "python",
   "name": "python3"
  },
  "language_info": {
   "codemirror_mode": {
    "name": "ipython",
    "version": 3
   },
   "file_extension": ".py",
   "mimetype": "text/x-python",
   "name": "python",
   "nbconvert_exporter": "python",
   "pygments_lexer": "ipython3",
   "version": "3.8.8"
  },
  "toc": {
   "base_numbering": 1,
   "nav_menu": {},
   "number_sections": true,
   "sideBar": true,
   "skip_h1_title": false,
   "title_cell": "Table of Contents",
   "title_sidebar": "Contents",
   "toc_cell": false,
   "toc_position": {},
   "toc_section_display": true,
   "toc_window_display": false
  }
 },
 "nbformat": 4,
 "nbformat_minor": 5
}
