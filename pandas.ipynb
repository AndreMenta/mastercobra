{
 "cells": [
  {
   "cell_type": "markdown",
   "metadata": {},
   "source": [
    "# Pandas introduction"
   ]
  },
  {
   "cell_type": "code",
   "execution_count": 1,
   "metadata": {},
   "outputs": [],
   "source": [
    "import numpy as np\n",
    "import pandas as pd\n",
    "from tqdm.notebook import tqdm"
   ]
  },
  {
   "cell_type": "code",
   "execution_count": 2,
   "metadata": {},
   "outputs": [],
   "source": [
    "a = ['alfio', 'ferrara', 28]\n",
    "b = {'nome': 'alfio', 'cognome': 'ferrara', 'eta': 28}\n",
    "c = {'a': 24, 'b': 28, 'c': 42}\n",
    "values, idx = [0, 1, 2, 3, 4], ['_0', 'c1', 'a2', 's3', 'a4']\n",
    "values2, idx2 = [4, 5, 1, 6, 4], ['_0', 'c1', 'a2', 's3', 'a4']"
   ]
  },
  {
   "cell_type": "code",
   "execution_count": 3,
   "metadata": {},
   "outputs": [],
   "source": [
    "s = pd.Series(data=values, index=idx)\n",
    "s2 = pd.Series(data=values2, index=idx2)"
   ]
  },
  {
   "cell_type": "code",
   "execution_count": 4,
   "metadata": {},
   "outputs": [],
   "source": [
    "D = {\n",
    "    's1': {'a': 3, 'b': 4, 'c': 1},\n",
    "    's2': {'a': 2, 'c': 1, 'd': 6}\n",
    "}\n",
    "\n",
    "X = [\n",
    "    {'a': 6, 'c': 't'},\n",
    "    {'a': 8, 'd': 2}\n",
    "]"
   ]
  },
  {
   "cell_type": "code",
   "execution_count": 5,
   "metadata": {},
   "outputs": [],
   "source": [
    "k = 'abcdef'\n",
    "df = pd.DataFrame(np.zeros((12, 6)), \n",
    "                  index=range(0, 12*4, 4),\n",
    "                  columns=[x for x in k]\n",
    "                 )"
   ]
  },
  {
   "cell_type": "code",
   "execution_count": null,
   "metadata": {},
   "outputs": [],
   "source": []
  },
  {
   "cell_type": "code",
   "execution_count": 6,
   "metadata": {},
   "outputs": [],
   "source": [
    "df['y'] = range(12)"
   ]
  },
  {
   "cell_type": "code",
   "execution_count": 7,
   "metadata": {},
   "outputs": [
    {
     "data": {
      "text/plain": [
       "Index(['c', 'd', 'e', 'f', 'y'], dtype='object')"
      ]
     },
     "execution_count": 7,
     "metadata": {},
     "output_type": "execute_result"
    }
   ],
   "source": [
    "df.columns[2:]"
   ]
  },
  {
   "cell_type": "code",
   "execution_count": 8,
   "metadata": {},
   "outputs": [
    {
     "data": {
      "text/html": [
       "<div>\n",
       "<style scoped>\n",
       "    .dataframe tbody tr th:only-of-type {\n",
       "        vertical-align: middle;\n",
       "    }\n",
       "\n",
       "    .dataframe tbody tr th {\n",
       "        vertical-align: top;\n",
       "    }\n",
       "\n",
       "    .dataframe thead th {\n",
       "        text-align: right;\n",
       "    }\n",
       "</style>\n",
       "<table border=\"1\" class=\"dataframe\">\n",
       "  <thead>\n",
       "    <tr style=\"text-align: right;\">\n",
       "      <th></th>\n",
       "      <th>c</th>\n",
       "      <th>d</th>\n",
       "      <th>e</th>\n",
       "      <th>f</th>\n",
       "      <th>y</th>\n",
       "    </tr>\n",
       "  </thead>\n",
       "  <tbody>\n",
       "    <tr>\n",
       "      <th>0</th>\n",
       "      <td>0.0</td>\n",
       "      <td>0.0</td>\n",
       "      <td>0.0</td>\n",
       "      <td>0.0</td>\n",
       "      <td>0</td>\n",
       "    </tr>\n",
       "    <tr>\n",
       "      <th>4</th>\n",
       "      <td>0.0</td>\n",
       "      <td>0.0</td>\n",
       "      <td>0.0</td>\n",
       "      <td>0.0</td>\n",
       "      <td>1</td>\n",
       "    </tr>\n",
       "    <tr>\n",
       "      <th>8</th>\n",
       "      <td>0.0</td>\n",
       "      <td>0.0</td>\n",
       "      <td>0.0</td>\n",
       "      <td>0.0</td>\n",
       "      <td>2</td>\n",
       "    </tr>\n",
       "  </tbody>\n",
       "</table>\n",
       "</div>"
      ],
      "text/plain": [
       "     c    d    e    f  y\n",
       "0  0.0  0.0  0.0  0.0  0\n",
       "4  0.0  0.0  0.0  0.0  1\n",
       "8  0.0  0.0  0.0  0.0  2"
      ]
     },
     "execution_count": 8,
     "metadata": {},
     "output_type": "execute_result"
    }
   ],
   "source": [
    "df.iloc[:3][df.columns[2:]]"
   ]
  },
  {
   "cell_type": "markdown",
   "metadata": {},
   "source": [
    "## Get data from files"
   ]
  },
  {
   "cell_type": "code",
   "execution_count": 10,
   "metadata": {},
   "outputs": [],
   "source": [
    "f = 'data/us_elections.csv'"
   ]
  },
  {
   "cell_type": "code",
   "execution_count": 11,
   "metadata": {},
   "outputs": [],
   "source": [
    "df = pd.read_csv(f)"
   ]
  },
  {
   "cell_type": "code",
   "execution_count": 12,
   "metadata": {},
   "outputs": [
    {
     "data": {
      "text/html": [
       "<div>\n",
       "<style scoped>\n",
       "    .dataframe tbody tr th:only-of-type {\n",
       "        vertical-align: middle;\n",
       "    }\n",
       "\n",
       "    .dataframe tbody tr th {\n",
       "        vertical-align: top;\n",
       "    }\n",
       "\n",
       "    .dataframe thead th {\n",
       "        text-align: right;\n",
       "    }\n",
       "</style>\n",
       "<table border=\"1\" class=\"dataframe\">\n",
       "  <thead>\n",
       "    <tr style=\"text-align: right;\">\n",
       "      <th></th>\n",
       "      <th>State</th>\n",
       "      <th>Source</th>\n",
       "      <th>Official/Unofficial</th>\n",
       "      <th>Total Ballots Counted (Estimate)</th>\n",
       "      <th>Vote for Highest Office (President)</th>\n",
       "      <th>VEP Turnout Rate</th>\n",
       "      <th>Voting-Eligible Population (VEP)</th>\n",
       "      <th>Voting-Age Population (VAP)</th>\n",
       "      <th>% Non-citizen</th>\n",
       "      <th>Prison</th>\n",
       "      <th>Probation</th>\n",
       "      <th>Parole</th>\n",
       "      <th>Total Ineligible Felon</th>\n",
       "      <th>Overseas Eligible</th>\n",
       "      <th>State Abv</th>\n",
       "    </tr>\n",
       "  </thead>\n",
       "  <tbody>\n",
       "    <tr>\n",
       "      <th>0</th>\n",
       "      <td>United States</td>\n",
       "      <td>NaN</td>\n",
       "      <td>NaN</td>\n",
       "      <td>158,835,004</td>\n",
       "      <td>NaN</td>\n",
       "      <td>66.4%</td>\n",
       "      <td>239,247,182</td>\n",
       "      <td>257,605,088</td>\n",
       "      <td>7.8%</td>\n",
       "      <td>1,461,074</td>\n",
       "      <td>1,962,811</td>\n",
       "      <td>616,440</td>\n",
       "      <td>3,294,457</td>\n",
       "      <td>4,971,025</td>\n",
       "      <td>NaN</td>\n",
       "    </tr>\n",
       "    <tr>\n",
       "      <th>1</th>\n",
       "      <td>Alabama</td>\n",
       "      <td>https://www2.alabamavotes.gov/electionnight/st...</td>\n",
       "      <td>Unofficial</td>\n",
       "      <td>2,306,587</td>\n",
       "      <td>2,297,295</td>\n",
       "      <td>62.6%</td>\n",
       "      <td>3,683,055</td>\n",
       "      <td>3,837,540</td>\n",
       "      <td>2.3%</td>\n",
       "      <td>25,898</td>\n",
       "      <td>50,997</td>\n",
       "      <td>10,266</td>\n",
       "      <td>67,782</td>\n",
       "      <td>NaN</td>\n",
       "      <td>AL</td>\n",
       "    </tr>\n",
       "    <tr>\n",
       "      <th>2</th>\n",
       "      <td>Alaska</td>\n",
       "      <td>https://www.elections.alaska.gov/results/20GEN...</td>\n",
       "      <td>NaN</td>\n",
       "      <td>367,000</td>\n",
       "      <td>NaN</td>\n",
       "      <td>69.8%</td>\n",
       "      <td>525,568</td>\n",
       "      <td>551,117</td>\n",
       "      <td>3.4%</td>\n",
       "      <td>4,293</td>\n",
       "      <td>2,074</td>\n",
       "      <td>1,348</td>\n",
       "      <td>6,927</td>\n",
       "      <td>NaN</td>\n",
       "      <td>AK</td>\n",
       "    </tr>\n",
       "    <tr>\n",
       "      <th>3</th>\n",
       "      <td>Arizona</td>\n",
       "      <td>https://results.arizona.vote/#/featured/18/0</td>\n",
       "      <td>NaN</td>\n",
       "      <td>3,400,000</td>\n",
       "      <td>NaN</td>\n",
       "      <td>65.5%</td>\n",
       "      <td>5,189,000</td>\n",
       "      <td>5,798,473</td>\n",
       "      <td>8.9%</td>\n",
       "      <td>38,520</td>\n",
       "      <td>76,844</td>\n",
       "      <td>7,536</td>\n",
       "      <td>93,699</td>\n",
       "      <td>NaN</td>\n",
       "      <td>AZ</td>\n",
       "    </tr>\n",
       "    <tr>\n",
       "      <th>4</th>\n",
       "      <td>Arkansas</td>\n",
       "      <td>https://results.enr.clarityelections.com/AR/10...</td>\n",
       "      <td>Unofficial</td>\n",
       "      <td>1,212,030</td>\n",
       "      <td>1,206,697</td>\n",
       "      <td>55.5%</td>\n",
       "      <td>2,182,375</td>\n",
       "      <td>2,331,171</td>\n",
       "      <td>3.6%</td>\n",
       "      <td>17,510</td>\n",
       "      <td>36,719</td>\n",
       "      <td>24,698</td>\n",
       "      <td>64,974</td>\n",
       "      <td>NaN</td>\n",
       "      <td>AR</td>\n",
       "    </tr>\n",
       "  </tbody>\n",
       "</table>\n",
       "</div>"
      ],
      "text/plain": [
       "           State                                             Source  \\\n",
       "0  United States                                                NaN   \n",
       "1        Alabama  https://www2.alabamavotes.gov/electionnight/st...   \n",
       "2         Alaska  https://www.elections.alaska.gov/results/20GEN...   \n",
       "3        Arizona       https://results.arizona.vote/#/featured/18/0   \n",
       "4       Arkansas  https://results.enr.clarityelections.com/AR/10...   \n",
       "\n",
       "  Official/Unofficial Total Ballots Counted (Estimate)  \\\n",
       "0                 NaN                      158,835,004   \n",
       "1          Unofficial                        2,306,587   \n",
       "2                 NaN                          367,000   \n",
       "3                 NaN                        3,400,000   \n",
       "4          Unofficial                        1,212,030   \n",
       "\n",
       "  Vote for Highest Office (President) VEP Turnout Rate  \\\n",
       "0                                 NaN            66.4%   \n",
       "1                           2,297,295            62.6%   \n",
       "2                                 NaN            69.8%   \n",
       "3                                 NaN            65.5%   \n",
       "4                           1,206,697            55.5%   \n",
       "\n",
       "  Voting-Eligible Population (VEP) Voting-Age Population (VAP) % Non-citizen  \\\n",
       "0                      239,247,182                 257,605,088          7.8%   \n",
       "1                        3,683,055                   3,837,540          2.3%   \n",
       "2                          525,568                     551,117          3.4%   \n",
       "3                        5,189,000                   5,798,473          8.9%   \n",
       "4                        2,182,375                   2,331,171          3.6%   \n",
       "\n",
       "      Prison  Probation   Parole Total Ineligible Felon Overseas Eligible  \\\n",
       "0  1,461,074  1,962,811  616,440              3,294,457         4,971,025   \n",
       "1     25,898     50,997   10,266                 67,782               NaN   \n",
       "2      4,293      2,074    1,348                  6,927               NaN   \n",
       "3     38,520     76,844    7,536                 93,699               NaN   \n",
       "4     17,510     36,719   24,698                 64,974               NaN   \n",
       "\n",
       "  State Abv  \n",
       "0       NaN  \n",
       "1        AL  \n",
       "2        AK  \n",
       "3        AZ  \n",
       "4        AR  "
      ]
     },
     "execution_count": 12,
     "metadata": {},
     "output_type": "execute_result"
    }
   ],
   "source": [
    "df.head()"
   ]
  },
  {
   "cell_type": "code",
   "execution_count": 13,
   "metadata": {},
   "outputs": [
    {
     "data": {
      "text/plain": [
       "State                                  object\n",
       "Source                                 object\n",
       "Official/Unofficial                    object\n",
       "Total Ballots Counted (Estimate)       object\n",
       "Vote for Highest Office (President)    object\n",
       "VEP Turnout Rate                       object\n",
       "Voting-Eligible Population (VEP)       object\n",
       "Voting-Age Population (VAP)            object\n",
       "% Non-citizen                          object\n",
       "Prison                                 object\n",
       "Probation                              object\n",
       "Parole                                 object\n",
       "Total Ineligible Felon                 object\n",
       "Overseas Eligible                      object\n",
       "State Abv                              object\n",
       "dtype: object"
      ]
     },
     "execution_count": 13,
     "metadata": {},
     "output_type": "execute_result"
    }
   ],
   "source": [
    "df.dtypes"
   ]
  },
  {
   "cell_type": "code",
   "execution_count": 20,
   "metadata": {},
   "outputs": [],
   "source": [
    "def thousands(x):\n",
    "    if pd.isnull(x):\n",
    "        return x\n",
    "    else:\n",
    "        try:\n",
    "            return float(x.replace(',', ''))\n",
    "        except ValueError:\n",
    "            return np.nan"
   ]
  },
  {
   "cell_type": "code",
   "execution_count": 21,
   "metadata": {},
   "outputs": [],
   "source": [
    "converters = {\n",
    "    3: thousands, 6: thousands, 7: thousands, 9: thousands, 10: thousands, 11: thousands,\n",
    "    12: thousands, 13: thousands\n",
    "}"
   ]
  },
  {
   "cell_type": "code",
   "execution_count": 22,
   "metadata": {},
   "outputs": [],
   "source": [
    "df2 = pd.read_csv(f, converters=converters)"
   ]
  },
  {
   "cell_type": "code",
   "execution_count": 23,
   "metadata": {},
   "outputs": [
    {
     "data": {
      "text/html": [
       "<div>\n",
       "<style scoped>\n",
       "    .dataframe tbody tr th:only-of-type {\n",
       "        vertical-align: middle;\n",
       "    }\n",
       "\n",
       "    .dataframe tbody tr th {\n",
       "        vertical-align: top;\n",
       "    }\n",
       "\n",
       "    .dataframe thead th {\n",
       "        text-align: right;\n",
       "    }\n",
       "</style>\n",
       "<table border=\"1\" class=\"dataframe\">\n",
       "  <thead>\n",
       "    <tr style=\"text-align: right;\">\n",
       "      <th></th>\n",
       "      <th>State</th>\n",
       "      <th>Source</th>\n",
       "      <th>Official/Unofficial</th>\n",
       "      <th>Total Ballots Counted (Estimate)</th>\n",
       "      <th>Vote for Highest Office (President)</th>\n",
       "      <th>VEP Turnout Rate</th>\n",
       "      <th>Voting-Eligible Population (VEP)</th>\n",
       "      <th>Voting-Age Population (VAP)</th>\n",
       "      <th>% Non-citizen</th>\n",
       "      <th>Prison</th>\n",
       "      <th>Probation</th>\n",
       "      <th>Parole</th>\n",
       "      <th>Total Ineligible Felon</th>\n",
       "      <th>Overseas Eligible</th>\n",
       "      <th>State Abv</th>\n",
       "    </tr>\n",
       "  </thead>\n",
       "  <tbody>\n",
       "    <tr>\n",
       "      <th>0</th>\n",
       "      <td>United States</td>\n",
       "      <td>NaN</td>\n",
       "      <td>NaN</td>\n",
       "      <td>158835004.0</td>\n",
       "      <td>NaN</td>\n",
       "      <td>66.4%</td>\n",
       "      <td>239247182.0</td>\n",
       "      <td>257605088.0</td>\n",
       "      <td>7.8%</td>\n",
       "      <td>1461074.0</td>\n",
       "      <td>1962811.0</td>\n",
       "      <td>616440.0</td>\n",
       "      <td>3294457.0</td>\n",
       "      <td>4971025.0</td>\n",
       "      <td>NaN</td>\n",
       "    </tr>\n",
       "    <tr>\n",
       "      <th>1</th>\n",
       "      <td>Alabama</td>\n",
       "      <td>https://www2.alabamavotes.gov/electionnight/st...</td>\n",
       "      <td>Unofficial</td>\n",
       "      <td>2306587.0</td>\n",
       "      <td>2,297,295</td>\n",
       "      <td>62.6%</td>\n",
       "      <td>3683055.0</td>\n",
       "      <td>3837540.0</td>\n",
       "      <td>2.3%</td>\n",
       "      <td>25898.0</td>\n",
       "      <td>50997.0</td>\n",
       "      <td>10266.0</td>\n",
       "      <td>67782.0</td>\n",
       "      <td>NaN</td>\n",
       "      <td>AL</td>\n",
       "    </tr>\n",
       "    <tr>\n",
       "      <th>2</th>\n",
       "      <td>Alaska</td>\n",
       "      <td>https://www.elections.alaska.gov/results/20GEN...</td>\n",
       "      <td>NaN</td>\n",
       "      <td>367000.0</td>\n",
       "      <td>NaN</td>\n",
       "      <td>69.8%</td>\n",
       "      <td>525568.0</td>\n",
       "      <td>551117.0</td>\n",
       "      <td>3.4%</td>\n",
       "      <td>4293.0</td>\n",
       "      <td>2074.0</td>\n",
       "      <td>1348.0</td>\n",
       "      <td>6927.0</td>\n",
       "      <td>NaN</td>\n",
       "      <td>AK</td>\n",
       "    </tr>\n",
       "    <tr>\n",
       "      <th>3</th>\n",
       "      <td>Arizona</td>\n",
       "      <td>https://results.arizona.vote/#/featured/18/0</td>\n",
       "      <td>NaN</td>\n",
       "      <td>3400000.0</td>\n",
       "      <td>NaN</td>\n",
       "      <td>65.5%</td>\n",
       "      <td>5189000.0</td>\n",
       "      <td>5798473.0</td>\n",
       "      <td>8.9%</td>\n",
       "      <td>38520.0</td>\n",
       "      <td>76844.0</td>\n",
       "      <td>7536.0</td>\n",
       "      <td>93699.0</td>\n",
       "      <td>NaN</td>\n",
       "      <td>AZ</td>\n",
       "    </tr>\n",
       "    <tr>\n",
       "      <th>4</th>\n",
       "      <td>Arkansas</td>\n",
       "      <td>https://results.enr.clarityelections.com/AR/10...</td>\n",
       "      <td>Unofficial</td>\n",
       "      <td>1212030.0</td>\n",
       "      <td>1,206,697</td>\n",
       "      <td>55.5%</td>\n",
       "      <td>2182375.0</td>\n",
       "      <td>2331171.0</td>\n",
       "      <td>3.6%</td>\n",
       "      <td>17510.0</td>\n",
       "      <td>36719.0</td>\n",
       "      <td>24698.0</td>\n",
       "      <td>64974.0</td>\n",
       "      <td>NaN</td>\n",
       "      <td>AR</td>\n",
       "    </tr>\n",
       "  </tbody>\n",
       "</table>\n",
       "</div>"
      ],
      "text/plain": [
       "           State                                             Source  \\\n",
       "0  United States                                                NaN   \n",
       "1        Alabama  https://www2.alabamavotes.gov/electionnight/st...   \n",
       "2         Alaska  https://www.elections.alaska.gov/results/20GEN...   \n",
       "3        Arizona       https://results.arizona.vote/#/featured/18/0   \n",
       "4       Arkansas  https://results.enr.clarityelections.com/AR/10...   \n",
       "\n",
       "  Official/Unofficial  Total Ballots Counted (Estimate)  \\\n",
       "0                 NaN                       158835004.0   \n",
       "1          Unofficial                         2306587.0   \n",
       "2                 NaN                          367000.0   \n",
       "3                 NaN                         3400000.0   \n",
       "4          Unofficial                         1212030.0   \n",
       "\n",
       "  Vote for Highest Office (President) VEP Turnout Rate  \\\n",
       "0                                 NaN            66.4%   \n",
       "1                           2,297,295            62.6%   \n",
       "2                                 NaN            69.8%   \n",
       "3                                 NaN            65.5%   \n",
       "4                           1,206,697            55.5%   \n",
       "\n",
       "   Voting-Eligible Population (VEP)  Voting-Age Population (VAP)  \\\n",
       "0                       239247182.0                  257605088.0   \n",
       "1                         3683055.0                    3837540.0   \n",
       "2                          525568.0                     551117.0   \n",
       "3                         5189000.0                    5798473.0   \n",
       "4                         2182375.0                    2331171.0   \n",
       "\n",
       "  % Non-citizen     Prison  Probation    Parole  Total Ineligible Felon  \\\n",
       "0          7.8%  1461074.0  1962811.0  616440.0               3294457.0   \n",
       "1          2.3%    25898.0    50997.0   10266.0                 67782.0   \n",
       "2          3.4%     4293.0     2074.0    1348.0                  6927.0   \n",
       "3          8.9%    38520.0    76844.0    7536.0                 93699.0   \n",
       "4          3.6%    17510.0    36719.0   24698.0                 64974.0   \n",
       "\n",
       "   Overseas Eligible State Abv  \n",
       "0          4971025.0       NaN  \n",
       "1                NaN        AL  \n",
       "2                NaN        AK  \n",
       "3                NaN        AZ  \n",
       "4                NaN        AR  "
      ]
     },
     "execution_count": 23,
     "metadata": {},
     "output_type": "execute_result"
    }
   ],
   "source": [
    "df2.head()"
   ]
  },
  {
   "cell_type": "code",
   "execution_count": 25,
   "metadata": {},
   "outputs": [
    {
     "data": {
      "text/plain": [
       "State                                   object\n",
       "Source                                  object\n",
       "Official/Unofficial                     object\n",
       "Total Ballots Counted (Estimate)       float64\n",
       "Vote for Highest Office (President)     object\n",
       "VEP Turnout Rate                        object\n",
       "Voting-Eligible Population (VEP)       float64\n",
       "Voting-Age Population (VAP)            float64\n",
       "% Non-citizen                           object\n",
       "Prison                                 float64\n",
       "Probation                              float64\n",
       "Parole                                 float64\n",
       "Total Ineligible Felon                 float64\n",
       "Overseas Eligible                      float64\n",
       "State Abv                               object\n",
       "dtype: object"
      ]
     },
     "execution_count": 25,
     "metadata": {},
     "output_type": "execute_result"
    }
   ],
   "source": [
    "df2.dtypes"
   ]
  },
  {
   "cell_type": "code",
   "execution_count": null,
   "metadata": {},
   "outputs": [],
   "source": []
  }
 ],
 "metadata": {
  "kernelspec": {
   "display_name": "Python 3",
   "language": "python",
   "name": "python3"
  },
  "language_info": {
   "codemirror_mode": {
    "name": "ipython",
    "version": 3
   },
   "file_extension": ".py",
   "mimetype": "text/x-python",
   "name": "python",
   "nbconvert_exporter": "python",
   "pygments_lexer": "ipython3",
   "version": "3.7.4"
  },
  "toc": {
   "base_numbering": 1,
   "nav_menu": {},
   "number_sections": true,
   "sideBar": true,
   "skip_h1_title": true,
   "title_cell": "Table of Contents",
   "title_sidebar": "Contents",
   "toc_cell": false,
   "toc_position": {},
   "toc_section_display": true,
   "toc_window_display": false
  }
 },
 "nbformat": 4,
 "nbformat_minor": 2
}
