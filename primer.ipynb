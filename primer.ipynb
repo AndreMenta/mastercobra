{
 "cells": [
  {
   "cell_type": "markdown",
   "id": "aa8dafee",
   "metadata": {},
   "source": [
    "# Small primer for Python"
   ]
  },
  {
   "cell_type": "code",
   "execution_count": 49,
   "id": "6e8b5629",
   "metadata": {},
   "outputs": [],
   "source": [
    "a = 'Corso_di programmazione in Python!'"
   ]
  },
  {
   "cell_type": "code",
   "execution_count": 58,
   "id": "4953a393",
   "metadata": {},
   "outputs": [],
   "source": [
    "b = a[-4:]"
   ]
  },
  {
   "cell_type": "code",
   "execution_count": 59,
   "id": "82d00a9b",
   "metadata": {},
   "outputs": [
    {
     "name": "stdout",
     "output_type": "stream",
     "text": [
      "hon!\n"
     ]
    }
   ],
   "source": [
    "print(b)"
   ]
  },
  {
   "cell_type": "markdown",
   "id": "3ba4db07",
   "metadata": {},
   "source": [
    "## Esercizi\n",
    "Data una stringa di lunghezza arbitria\n",
    "- ottenere la stringa composta dalla concatenazione dai primi e degli ultimi 4 elementi\n",
    "- stampare la stringa in ordine inverso"
   ]
  },
  {
   "cell_type": "code",
   "execution_count": null,
   "id": "b05a3587",
   "metadata": {},
   "outputs": [],
   "source": []
  }
 ],
 "metadata": {
  "kernelspec": {
   "display_name": "Python 3 (ipykernel)",
   "language": "python",
   "name": "python3"
  },
  "language_info": {
   "codemirror_mode": {
    "name": "ipython",
    "version": 3
   },
   "file_extension": ".py",
   "mimetype": "text/x-python",
   "name": "python",
   "nbconvert_exporter": "python",
   "pygments_lexer": "ipython3",
   "version": "3.8.8"
  },
  "toc": {
   "base_numbering": 1,
   "nav_menu": {},
   "number_sections": true,
   "sideBar": true,
   "skip_h1_title": false,
   "title_cell": "Table of Contents",
   "title_sidebar": "Contents",
   "toc_cell": false,
   "toc_position": {},
   "toc_section_display": true,
   "toc_window_display": false
  }
 },
 "nbformat": 4,
 "nbformat_minor": 5
}
