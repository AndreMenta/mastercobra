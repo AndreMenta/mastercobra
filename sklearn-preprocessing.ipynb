{
 "cells": [
  {
   "cell_type": "markdown",
   "id": "a4638817",
   "metadata": {},
   "source": [
    "# Librerie sklearn per il pre-processing di dati"
   ]
  },
  {
   "cell_type": "code",
   "execution_count": null,
   "id": "257d5589",
   "metadata": {},
   "outputs": [],
   "source": [
    "import pandas as pd\n",
    "import numpy as np\n",
    "from tqdm.notebook import tqdm"
   ]
  },
  {
   "cell_type": "markdown",
   "id": "64b8b83d",
   "metadata": {},
   "source": [
    "## Esempio"
   ]
  },
  {
   "cell_type": "code",
   "execution_count": null,
   "id": "d65a6a32",
   "metadata": {},
   "outputs": [],
   "source": [
    "import matplotlib.pyplot as plt"
   ]
  },
  {
   "cell_type": "code",
   "execution_count": null,
   "id": "cf25ef40",
   "metadata": {},
   "outputs": [],
   "source": [
    "from sklearn.cluster import KMeans"
   ]
  },
  {
   "cell_type": "code",
   "execution_count": null,
   "id": "8427856f",
   "metadata": {},
   "outputs": [],
   "source": [
    "data_file = 'data/fifa/fifa_2019.csv'\n",
    "D = pd.read_csv(data_file, index_col=0)"
   ]
  },
  {
   "cell_type": "code",
   "execution_count": null,
   "id": "0e0addae",
   "metadata": {},
   "outputs": [],
   "source": [
    "w = [int(x.replace('lbs', '')) * 0.45359237 if not pd.isnull(x) else np.nan for x in D.Weight.values]\n",
    "h = [float(x.replace(\"'\", '.')) * 0.3048 if not pd.isnull(x) else np.nan for x in D.Height.values]\n",
    "X = np.array([h, w]).T"
   ]
  },
  {
   "cell_type": "markdown",
   "id": "c4b61d53",
   "metadata": {},
   "source": [
    "## Manage missing values\n",
    "[SimpleImputer](https://scikit-learn.org/stable/modules/generated/sklearn.impute.SimpleImputer.html#sklearn.impute.SimpleImputer), [IterativeImputer](https://scikit-learn.org/stable/modules/generated/sklearn.impute.IterativeImputer.html#sklearn.impute.IterativeImputer), [KNNImputer](https://scikit-learn.org/stable/modules/generated/sklearn.impute.KNNImputer.html#sklearn.impute.KNNImputer)"
   ]
  },
  {
   "cell_type": "code",
   "execution_count": null,
   "id": "a67ec46e",
   "metadata": {},
   "outputs": [],
   "source": [
    "from sklearn.experimental import enable_iterative_imputer\n",
    "from sklearn.impute import SimpleImputer\n",
    "from sklearn.impute import IterativeImputer, KNNImputer"
   ]
  },
  {
   "cell_type": "code",
   "execution_count": null,
   "id": "d06a974b",
   "metadata": {},
   "outputs": [],
   "source": [
    "examples = [i for i, x in enumerate(X[:,0]) if pd.isnull(x)]"
   ]
  },
  {
   "cell_type": "code",
   "execution_count": null,
   "id": "61b27baf",
   "metadata": {},
   "outputs": [],
   "source": [
    "imp = SimpleImputer(missing_values=np.nan, strategy='mean')\n",
    "itp = IterativeImputer()\n",
    "itn = KNNImputer()\n",
    "Xi = imp.fit_transform(X)\n",
    "Xp = itp.fit_transform(X)\n",
    "Xn = itn.fit_transform(X)"
   ]
  },
  {
   "cell_type": "code",
   "execution_count": null,
   "id": "f46bf005",
   "metadata": {},
   "outputs": [],
   "source": [
    "Xi[examples][:2]"
   ]
  },
  {
   "cell_type": "code",
   "execution_count": null,
   "id": "c25979c9",
   "metadata": {},
   "outputs": [],
   "source": [
    "Xp[examples][:2]"
   ]
  },
  {
   "cell_type": "code",
   "execution_count": null,
   "id": "ffd8083e",
   "metadata": {},
   "outputs": [],
   "source": [
    "Xn[examples][:2]"
   ]
  },
  {
   "cell_type": "code",
   "execution_count": null,
   "id": "70c1f773",
   "metadata": {},
   "outputs": [],
   "source": [
    "kmeans = KMeans(n_clusters=2)\n",
    "clusters = kmeans.fit_predict(Xi)"
   ]
  },
  {
   "cell_type": "code",
   "execution_count": null,
   "id": "dbcd5b94",
   "metadata": {},
   "outputs": [],
   "source": [
    "fig, ax = plt.subplots(figsize=(6, 3), ncols=2)\n",
    "ax[0].scatter(X[:,0], X[:,1], alpha=.4)\n",
    "ax[1].scatter(X[:,0], X[:,1], alpha=.4, c=clusters)\n",
    "plt.tight_layout()\n",
    "plt.show()"
   ]
  },
  {
   "cell_type": "markdown",
   "id": "469e4329",
   "metadata": {},
   "source": [
    "## Scaling\n",
    "[StandardScaler](https://scikit-learn.org/stable/modules/generated/sklearn.preprocessing.StandardScaler.html#sklearn.preprocessing.StandardScaler)"
   ]
  },
  {
   "cell_type": "code",
   "execution_count": null,
   "id": "64ccb5bd",
   "metadata": {},
   "outputs": [],
   "source": [
    "from sklearn import preprocessing as pre"
   ]
  },
  {
   "cell_type": "code",
   "execution_count": null,
   "id": "d133ae7e",
   "metadata": {},
   "outputs": [],
   "source": [
    "std = pre.StandardScaler().fit(Xi)\n",
    "print(std.mean_, std.scale_)\n",
    "Xistd = std.transform(Xi)\n",
    "print(Xistd.mean(axis=0), Xistd.std(axis=0))"
   ]
  },
  {
   "cell_type": "code",
   "execution_count": null,
   "id": "69cc2b71",
   "metadata": {},
   "outputs": [],
   "source": [
    "kmeans = KMeans(n_clusters=2)\n",
    "clusters = kmeans.fit_predict(Xistd)"
   ]
  },
  {
   "cell_type": "code",
   "execution_count": null,
   "id": "cd2df1bb",
   "metadata": {},
   "outputs": [],
   "source": [
    "fig, ax = plt.subplots(figsize=(6, 3), ncols=2)\n",
    "ax[0].scatter(X[:,0], X[:,1], alpha=.4)\n",
    "ax[1].scatter(X[:,0], X[:,1], alpha=.4, c=clusters)\n",
    "plt.tight_layout()\n",
    "plt.show()"
   ]
  },
  {
   "cell_type": "markdown",
   "id": "8fc6cb86",
   "metadata": {},
   "source": [
    "### Altri metodi di scaling\n",
    "[https://scikit-learn.org/stable/modules/preprocessing.html#standardization-or-mean-removal-and-variance-scaling](https://scikit-learn.org/stable/modules/preprocessing.html#standardization-or-mean-removal-and-variance-scaling)"
   ]
  },
  {
   "cell_type": "code",
   "execution_count": null,
   "id": "4fc60e9e",
   "metadata": {},
   "outputs": [],
   "source": [
    "from IPython.display import display"
   ]
  },
  {
   "cell_type": "code",
   "execution_count": null,
   "id": "bb75dfc3",
   "metadata": {},
   "outputs": [],
   "source": [
    "scalers = [pre.StandardScaler(), pre.MinMaxScaler(), pre.MaxAbsScaler(), pre.RobustScaler()]\n",
    "for scaler in scalers:\n",
    "    Xt = scaler.fit_transform(Xi)\n",
    "    display(scaler.__class__.__name__)\n",
    "    display(pd.DataFrame(Xt).describe().T)"
   ]
  },
  {
   "cell_type": "markdown",
   "id": "a1f67cc2",
   "metadata": {},
   "source": [
    "## Trasformazioni non lineari\n",
    "\n",
    "[https://scikit-learn.org/stable/modules/generated/sklearn.preprocessing.QuantileTransformer.html#sklearn.preprocessing.QuantileTransformer](https://scikit-learn.org/stable/modules/generated/sklearn.preprocessing.QuantileTransformer.html#sklearn.preprocessing.QuantileTransformer)\n",
    "\n",
    "\n",
    "[https://scikit-learn.org/stable/modules/generated/sklearn.preprocessing.PowerTransformer.html#sklearn.preprocessing.PowerTransformer](https://scikit-learn.org/stable/modules/generated/sklearn.preprocessing.PowerTransformer.html#sklearn.preprocessing.PowerTransformer)"
   ]
  },
  {
   "cell_type": "code",
   "execution_count": null,
   "id": "f008d2d9",
   "metadata": {},
   "outputs": [],
   "source": [
    "np.percentile(Xi[:,0], [0, 25, 50, 75, 100])"
   ]
  },
  {
   "cell_type": "code",
   "execution_count": null,
   "id": "c3c4da74",
   "metadata": {},
   "outputs": [],
   "source": [
    "Xiq = pre.QuantileTransformer(output_distribution='normal').fit_transform(Xi)\n",
    "np.percentile(Xiq[:,0], [0, 25, 50, 75, 100])"
   ]
  },
  {
   "cell_type": "code",
   "execution_count": null,
   "id": "9db45e3c",
   "metadata": {},
   "outputs": [],
   "source": [
    "Xip = pre.PowerTransformer().fit_transform(Xi)"
   ]
  },
  {
   "cell_type": "code",
   "execution_count": null,
   "id": "86052453",
   "metadata": {},
   "outputs": [],
   "source": [
    "def scatter_hist(x, y, ax, ax_histx, ax_histy, colors):\n",
    "    ax_histx.tick_params(axis=\"x\", labelbottom=False)\n",
    "    ax_histy.tick_params(axis=\"y\", labelleft=False)\n",
    "    ax.scatter(x, y, alpha=0.4, c=colors)\n",
    "\n",
    "    binwidth = 0.25\n",
    "    xymax = max(np.max(np.abs(x)), np.max(np.abs(y)))\n",
    "    lim = (int(xymax/binwidth) + 1) * binwidth\n",
    "\n",
    "    bins = np.arange(-lim, lim + binwidth, binwidth)\n",
    "    ax_histx.hist(x, bins=bins)\n",
    "    ax_histy.hist(y, bins=bins, orientation='horizontal')"
   ]
  },
  {
   "cell_type": "code",
   "execution_count": null,
   "id": "db0b98e3",
   "metadata": {},
   "outputs": [],
   "source": [
    "def make_plot(data, colors):\n",
    "    left, width = 0.1, 0.65\n",
    "    bottom, height = 0.1, 0.65\n",
    "    spacing = 0.005\n",
    "    rect_scatter = [left, bottom, width, height]\n",
    "    rect_histx = [left, bottom + height + spacing, width, 0.2]\n",
    "    rect_histy = [left + width + spacing, bottom, 0.2, height]\n",
    "    fig = plt.figure(figsize=(4, 4))\n",
    "    ax = fig.add_axes(rect_scatter)\n",
    "    ax_histx = fig.add_axes(rect_histx, sharex=ax)\n",
    "    ax_histy = fig.add_axes(rect_histy, sharey=ax)\n",
    "    scatter_hist(data[:,0], data[:,1], ax, ax_histx, ax_histy, colors)\n",
    "    plt.show()"
   ]
  },
  {
   "cell_type": "code",
   "execution_count": null,
   "id": "06cd09df",
   "metadata": {},
   "outputs": [],
   "source": [
    "make_plot(Xip, colors=clusters)"
   ]
  },
  {
   "cell_type": "markdown",
   "id": "e97a3b43",
   "metadata": {},
   "source": [
    "### Sommario\n",
    "Si veda [https://scikit-learn.org/stable/auto_examples/preprocessing/plot_all_scaling.html#sphx-glr-auto-examples-preprocessing-plot-all-scaling-py](https://scikit-learn.org/stable/auto_examples/preprocessing/plot_all_scaling.html#sphx-glr-auto-examples-preprocessing-plot-all-scaling-py)"
   ]
  },
  {
   "cell_type": "markdown",
   "id": "b263c024",
   "metadata": {},
   "source": [
    "## Encoding categorical features"
   ]
  },
  {
   "cell_type": "code",
   "execution_count": null,
   "id": "d5bce0f0",
   "metadata": {},
   "outputs": [],
   "source": [
    "Y = D[['Age', 'Nationality', 'Overall', 'Club']].dropna().to_numpy()"
   ]
  },
  {
   "cell_type": "code",
   "execution_count": null,
   "id": "344130e3",
   "metadata": {},
   "outputs": [],
   "source": [
    "ordn = pre.OrdinalEncoder()\n",
    "Yo = ordn.fit_transform(Y)"
   ]
  },
  {
   "cell_type": "code",
   "execution_count": null,
   "id": "d8b36bd9",
   "metadata": {},
   "outputs": [],
   "source": [
    "ordn.categories_"
   ]
  },
  {
   "cell_type": "code",
   "execution_count": null,
   "id": "c03b7547",
   "metadata": {},
   "outputs": [],
   "source": [
    "Yo"
   ]
  },
  {
   "cell_type": "code",
   "execution_count": null,
   "id": "02fc61e5",
   "metadata": {},
   "outputs": [],
   "source": [
    "oneh = pre.OneHotEncoder()\n",
    "Yh = oneh.fit_transform(Y)"
   ]
  },
  {
   "cell_type": "code",
   "execution_count": null,
   "id": "8c6f6023",
   "metadata": {},
   "outputs": [],
   "source": [
    "oneh.categories_"
   ]
  },
  {
   "cell_type": "code",
   "execution_count": null,
   "id": "b64274c1",
   "metadata": {},
   "outputs": [],
   "source": [
    "Yh"
   ]
  },
  {
   "cell_type": "code",
   "execution_count": null,
   "id": "5eebc688",
   "metadata": {},
   "outputs": [],
   "source": [
    "Yh.toarray()"
   ]
  },
  {
   "cell_type": "markdown",
   "id": "b8996882",
   "metadata": {},
   "source": [
    "## Discretizzazione"
   ]
  },
  {
   "cell_type": "code",
   "execution_count": null,
   "id": "1145844a",
   "metadata": {},
   "outputs": [],
   "source": [
    "est = pre.KBinsDiscretizer(n_bins=3, encode='onehot', strategy='uniform')"
   ]
  },
  {
   "cell_type": "code",
   "execution_count": null,
   "id": "0a416b8c",
   "metadata": {},
   "outputs": [],
   "source": [
    "age = est.fit_transform(D.Age.values.reshape(-1, 1))"
   ]
  },
  {
   "cell_type": "code",
   "execution_count": null,
   "id": "370aefc0",
   "metadata": {},
   "outputs": [],
   "source": [
    "est.bin_edges_"
   ]
  },
  {
   "cell_type": "code",
   "execution_count": null,
   "id": "400eee51",
   "metadata": {},
   "outputs": [],
   "source": [
    "age.toarray()"
   ]
  },
  {
   "cell_type": "markdown",
   "id": "102a6f29",
   "metadata": {},
   "source": [
    "## Trasformazioni personalizzate"
   ]
  },
  {
   "cell_type": "code",
   "execution_count": null,
   "id": "c54bb3ac",
   "metadata": {},
   "outputs": [],
   "source": [
    "transformer = pre.FunctionTransformer(lambda x: 2*x + 10**4, validate=True)"
   ]
  },
  {
   "cell_type": "code",
   "execution_count": null,
   "id": "64b94c5f",
   "metadata": {},
   "outputs": [],
   "source": [
    "transformer.transform(Xi)"
   ]
  },
  {
   "cell_type": "code",
   "execution_count": null,
   "id": "124e8dd6",
   "metadata": {},
   "outputs": [],
   "source": []
  }
 ],
 "metadata": {
  "kernelspec": {
   "display_name": "Python 3 (ipykernel)",
   "language": "python",
   "name": "python3"
  },
  "language_info": {
   "codemirror_mode": {
    "name": "ipython",
    "version": 3
   },
   "file_extension": ".py",
   "mimetype": "text/x-python",
   "name": "python",
   "nbconvert_exporter": "python",
   "pygments_lexer": "ipython3",
   "version": "3.8.8"
  },
  "toc": {
   "base_numbering": 1,
   "nav_menu": {},
   "number_sections": true,
   "sideBar": true,
   "skip_h1_title": false,
   "title_cell": "Table of Contents",
   "title_sidebar": "Contents",
   "toc_cell": false,
   "toc_position": {},
   "toc_section_display": true,
   "toc_window_display": false
  }
 },
 "nbformat": 4,
 "nbformat_minor": 5
}
