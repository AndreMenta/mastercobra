{
 "cells": [
  {
   "cell_type": "markdown",
   "id": "3f47557d",
   "metadata": {},
   "source": [
    "# Semplice gioco per lavorare con controllo del flusso, funzioni, importazione di librerie e visualizzazione"
   ]
  },
  {
   "cell_type": "markdown",
   "id": "a3b3cb32",
   "metadata": {},
   "source": [
    "## TASK 1\n",
    "Implementare una funzione per giocare a 'indovina il numero'.\n",
    "- Generare un numero intero casuale entro un range definito come input della funzione\n",
    "- La funzione valuta un secondo input che è il tentativo del giocatore umano\n",
    "- Confrontando il tentativo con il valore corretto, la funzione restituisce un feedback sulla base del fatto che il numero da indovinare sia uguale al tentativo, superiore o inferiore"
   ]
  },
  {
   "cell_type": "code",
   "execution_count": 1,
   "id": "9e97a4ab",
   "metadata": {},
   "outputs": [],
   "source": [
    "import numpy as np"
   ]
  },
  {
   "cell_type": "code",
   "execution_count": 2,
   "id": "e18d4384",
   "metadata": {},
   "outputs": [
    {
     "data": {
      "text/plain": [
       "30"
      ]
     },
     "execution_count": 2,
     "metadata": {},
     "output_type": "execute_result"
    }
   ],
   "source": [
    "np.random.randint(0, 100)"
   ]
  },
  {
   "cell_type": "code",
   "execution_count": 3,
   "id": "577fc588",
   "metadata": {},
   "outputs": [],
   "source": [
    "def oracle(guess=1, correct=6):\n",
    "    if guess == correct:\n",
    "        result = 'WIN'\n",
    "    elif guess > correct:\n",
    "        result = 'TOO HIGH'\n",
    "    else:\n",
    "        result = 'TOO LOW'\n",
    "    return result"
   ]
  },
  {
   "cell_type": "code",
   "execution_count": 4,
   "id": "1e6bfc3e",
   "metadata": {},
   "outputs": [
    {
     "name": "stdout",
     "output_type": "stream",
     "text": [
      "TOO LOW\n"
     ]
    }
   ],
   "source": [
    "mn, mx = 0, 10\n",
    "jackpot = np.random.randint(low=mn, high=mx)\n",
    "outcome = oracle(guess=3, correct=jackpot)\n",
    "print(outcome)"
   ]
  },
  {
   "cell_type": "markdown",
   "id": "5a499642",
   "metadata": {},
   "source": [
    "## TASK 2\n",
    "Implementare un giocatore artificiale che competa con la funzione per indovinare il numero. Memorizzare l'esito dei testativi."
   ]
  },
  {
   "cell_type": "code",
   "execution_count": 5,
   "id": "9acddfd7",
   "metadata": {},
   "outputs": [],
   "source": [
    "mn, mx, plays = 0, 10, 1000\n",
    "history = []\n",
    "for match in range(plays):\n",
    "    jackpot = np.random.randint(low=mn, high=mx)\n",
    "    counter = 0\n",
    "    for n in range(mn, mx):\n",
    "        counter += 1\n",
    "        outcome = oracle(guess=n, correct=jackpot)\n",
    "        if outcome == 'WIN':\n",
    "            break\n",
    "    history.append(counter)"
   ]
  },
  {
   "cell_type": "code",
   "execution_count": null,
   "id": "01e3649a",
   "metadata": {},
   "outputs": [],
   "source": [
    "mn, mx, plays = 0, 10, 1000\n",
    "history2 = []\n",
    "for match in range(1000):\n",
    "    jackpot = np.random.randint(low=mn, high=mx)\n",
    "    counter = 0\n",
    "    initial_guess = (mx - mn) // 2\n",
    "    for n in range(mn, mx):\n",
    "        counter += 1\n",
    "        outcome = oracle(guess=initial_guess, correct=jackpot)\n",
    "        if outcome == 'WIN':\n",
    "            break\n",
    "        else:\n",
    "            if outcome == 'TOO HIGH':\n",
    "                initial_guess -= 1\n",
    "            else:\n",
    "                initial_guess += 1\n",
    "    history2.append(counter)"
   ]
  },
  {
   "cell_type": "code",
   "execution_count": null,
   "id": "b8046fb7",
   "metadata": {},
   "outputs": [],
   "source": [
    "print(sum(history) / plays, sum(history2) / plays)"
   ]
  },
  {
   "cell_type": "code",
   "execution_count": null,
   "id": "88d9ea05",
   "metadata": {},
   "outputs": [],
   "source": [
    "import matplotlib.pyplot as plt"
   ]
  },
  {
   "cell_type": "code",
   "execution_count": null,
   "id": "e93118ca",
   "metadata": {},
   "outputs": [],
   "source": [
    "fig, ax = plt.subplots(figsize=(10, 6))\n",
    "ax.plot(np.cumsum(history))\n",
    "ax.plot(np.cumsum(history2))\n",
    "plt.show()"
   ]
  },
  {
   "cell_type": "markdown",
   "id": "ced81782",
   "metadata": {},
   "source": [
    "## TASK 3\n",
    "Implementare più giocatori che applicano più strategie diverse, riutilizzando il codice comune ai diversi giocatori."
   ]
  },
  {
   "cell_type": "code",
   "execution_count": 18,
   "id": "6c7d671e",
   "metadata": {},
   "outputs": [],
   "source": [
    "class Player(object):\n",
    "    \n",
    "    def __init__(self, min_value, max_value, oracle):\n",
    "        self.mn = min_value\n",
    "        self.mx = max_value\n",
    "        self.oracle = oracle\n",
    "        self.history = []\n",
    "    \n",
    "    def play(self, jackpot):\n",
    "        trials = 0\n",
    "        for guess in range(self.mn, self.mx):\n",
    "            trials += 1\n",
    "            outcome = self.oracle(guess=guess, correct=jackpot)\n",
    "            if outcome == 'WIN':\n",
    "                break\n",
    "        self.history.append(trials)\n",
    "\n",
    "        \n",
    "class SmartPlayer(Player):\n",
    "    \n",
    "    def __init__(self, min_value, max_value, oracle):\n",
    "        super(SmartPlayer, self).__init__(min_value, max_value, oracle)\n",
    "    \n",
    "    def play(self, jackpot):\n",
    "        trials = 0\n",
    "        initial_guess = (mx - mn) // 2\n",
    "        for n in range(mn, mx):\n",
    "            trials += 1\n",
    "            outcome = oracle(guess=initial_guess, correct=jackpot)\n",
    "            if outcome == 'WIN':\n",
    "                break\n",
    "            else:\n",
    "                if outcome == 'TOO HIGH':\n",
    "                    initial_guess -= 1\n",
    "                else:\n",
    "                    initial_guess += 1\n",
    "        self.history.append(trials)"
   ]
  },
  {
   "cell_type": "code",
   "execution_count": 24,
   "id": "e91f7405",
   "metadata": {},
   "outputs": [],
   "source": [
    "mn, mx, plays = 0, 10, 1000\n",
    "dummy_player = Player(min_value=mn, max_value=mx, oracle=oracle)\n",
    "smart_player = SmartPlayer(min_value=mn, max_value=mx, oracle=oracle)\n",
    "players = [dummy_player, smart_player]"
   ]
  },
  {
   "cell_type": "code",
   "execution_count": 25,
   "id": "45f872e9",
   "metadata": {},
   "outputs": [],
   "source": [
    "for match in range(plays):\n",
    "    jackpot = np.random.randint(low=mn, high=mx)\n",
    "    for player in players:\n",
    "        player.play(jackpot)"
   ]
  },
  {
   "cell_type": "code",
   "execution_count": 29,
   "id": "eaa9b52b",
   "metadata": {},
   "outputs": [
    {
     "data": {
      "text/plain": [
       "[2, 5, 3, 1, 3, 5, 6, 6, 10, 2]"
      ]
     },
     "execution_count": 29,
     "metadata": {},
     "output_type": "execute_result"
    }
   ],
   "source": [
    "players[0].history[:10]"
   ]
  },
  {
   "cell_type": "code",
   "execution_count": 27,
   "id": "459dbd29",
   "metadata": {},
   "outputs": [
    {
     "data": {
      "text/plain": [
       "[5, 2, 4, 6, 4, 2, 1, 1, 5, 5]"
      ]
     },
     "execution_count": 27,
     "metadata": {},
     "output_type": "execute_result"
    }
   ],
   "source": [
    "smart_player.history[:10]"
   ]
  },
  {
   "cell_type": "markdown",
   "id": "9d6fe1eb",
   "metadata": {},
   "source": [
    "## TASK 4\n",
    "Eseguire più partite fra giocatori che utilizzano strategie diverse e raccogliere i risultati ottenuti."
   ]
  },
  {
   "cell_type": "markdown",
   "id": "c2ac6270",
   "metadata": {},
   "source": [
    "## TASK 5\n",
    "Visualizzare gli esiti dei diversi giocatori."
   ]
  },
  {
   "cell_type": "code",
   "execution_count": null,
   "id": "08c3ff50",
   "metadata": {},
   "outputs": [],
   "source": []
  }
 ],
 "metadata": {
  "kernelspec": {
   "display_name": "Python 3 (ipykernel)",
   "language": "python",
   "name": "python3"
  },
  "language_info": {
   "codemirror_mode": {
    "name": "ipython",
    "version": 3
   },
   "file_extension": ".py",
   "mimetype": "text/x-python",
   "name": "python",
   "nbconvert_exporter": "python",
   "pygments_lexer": "ipython3",
   "version": "3.8.8"
  },
  "toc": {
   "base_numbering": 1,
   "nav_menu": {},
   "number_sections": true,
   "sideBar": true,
   "skip_h1_title": false,
   "title_cell": "Table of Contents",
   "title_sidebar": "Contents",
   "toc_cell": false,
   "toc_position": {},
   "toc_section_display": true,
   "toc_window_display": false
  }
 },
 "nbformat": 4,
 "nbformat_minor": 5
}
