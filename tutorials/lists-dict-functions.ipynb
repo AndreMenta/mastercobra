{
 "cells": [
  {
   "cell_type": "markdown",
   "id": "cbb92414",
   "metadata": {},
   "source": [
    "# Overview of lists, dictionaries and functions\n",
    "[https://docs.python.org/3/tutorial/datastructures.html](https://docs.python.org/3/tutorial/datastructures.html)"
   ]
  },
  {
   "cell_type": "markdown",
   "id": "ea0e179b",
   "metadata": {},
   "source": [
    "## Lists"
   ]
  },
  {
   "cell_type": "code",
   "execution_count": 38,
   "id": "df62eb5c",
   "metadata": {},
   "outputs": [],
   "source": [
    "a = ['a', 3, 3.5, [9, 8]]"
   ]
  },
  {
   "cell_type": "code",
   "execution_count": 41,
   "id": "c9ac5be8",
   "metadata": {},
   "outputs": [],
   "source": [
    "a[1] = 'b'"
   ]
  },
  {
   "cell_type": "code",
   "execution_count": 76,
   "id": "8ed51318",
   "metadata": {},
   "outputs": [],
   "source": [
    "c = list('123456')"
   ]
  },
  {
   "cell_type": "code",
   "execution_count": 69,
   "id": "8c0f415e",
   "metadata": {},
   "outputs": [
    {
     "data": {
      "text/plain": [
       "['1', '2', '3', '4', '5', '6']"
      ]
     },
     "execution_count": 69,
     "metadata": {},
     "output_type": "execute_result"
    }
   ],
   "source": [
    "c"
   ]
  },
  {
   "cell_type": "code",
   "execution_count": 61,
   "id": "a9d4eab8",
   "metadata": {},
   "outputs": [
    {
     "name": "stdout",
     "output_type": "stream",
     "text": [
      "0\n",
      "2\n",
      "4\n",
      "6\n"
     ]
    }
   ],
   "source": [
    "idx = 0\n",
    "while True:\n",
    "    try:\n",
    "        current_index = c.index('a', idx)\n",
    "        print(current_index)\n",
    "        idx = current_index + 1\n",
    "    except ValueError:\n",
    "        break"
   ]
  },
  {
   "cell_type": "code",
   "execution_count": 62,
   "id": "76109855",
   "metadata": {},
   "outputs": [
    {
     "data": {
      "text/plain": [
       "4"
      ]
     },
     "execution_count": 62,
     "metadata": {},
     "output_type": "execute_result"
    }
   ],
   "source": [
    "c.count('a')"
   ]
  },
  {
   "cell_type": "code",
   "execution_count": 81,
   "id": "6b44c300",
   "metadata": {},
   "outputs": [],
   "source": [
    "power = [x*x for x in range(0,6)]"
   ]
  },
  {
   "cell_type": "code",
   "execution_count": 83,
   "id": "16299b1b",
   "metadata": {},
   "outputs": [],
   "source": [
    "matrix = [\n",
    "    [1, 2, 3, 4],\n",
    "    [5, 6, 7, 8],\n",
    "    [9, 10, 11, 12],\n",
    "]"
   ]
  },
  {
   "cell_type": "code",
   "execution_count": 85,
   "id": "d55cdff6",
   "metadata": {},
   "outputs": [
    {
     "data": {
      "text/plain": [
       "[[1, 5, 9], [2, 6, 10], [3, 7, 11]]"
      ]
     },
     "execution_count": 85,
     "metadata": {},
     "output_type": "execute_result"
    }
   ],
   "source": [
    "[[row[i] for row in matrix] for i in range(4)]"
   ]
  },
  {
   "cell_type": "code",
   "execution_count": 90,
   "id": "0b8b57f3",
   "metadata": {},
   "outputs": [
    {
     "name": "stdout",
     "output_type": "stream",
     "text": [
      "0 q\n",
      "1 u\n",
      "2 e\n",
      "3 s\n",
      "4 t\n",
      "5 a\n"
     ]
    }
   ],
   "source": [
    "c = list('questa')\n",
    "for i, x in enumerate(c):\n",
    "    print(i, x)"
   ]
  },
  {
   "cell_type": "code",
   "execution_count": 94,
   "id": "a2e8c77b",
   "metadata": {},
   "outputs": [
    {
     "name": "stdout",
     "output_type": "stream",
     "text": [
      "4 0 -> 15\n",
      "3 1 -> 11\n",
      "2 2 -> 8\n",
      "0 3 -> 6\n",
      "1 4 -> 6\n",
      "2 5 -> 5\n",
      "3 6 -> 3\n"
     ]
    }
   ],
   "source": [
    "n = [4, 3, 2, 0, 1, 2, 3]\n",
    "\n",
    "for i, x in enumerate(n):\n",
    "    s = n[i:]\n",
    "    print(x, i, '->', sum(s))"
   ]
  },
  {
   "cell_type": "markdown",
   "id": "a6ee7570",
   "metadata": {},
   "source": [
    "## Tuples"
   ]
  },
  {
   "cell_type": "code",
   "execution_count": 96,
   "id": "6a5894d3",
   "metadata": {},
   "outputs": [],
   "source": [
    "t = tuple(n)"
   ]
  },
  {
   "cell_type": "code",
   "execution_count": 100,
   "id": "13dceaa9",
   "metadata": {},
   "outputs": [],
   "source": [
    "def calculate(a, b):\n",
    "    s = a + b\n",
    "    d = a - b\n",
    "    p = a * b\n",
    "    v = a / b\n",
    "    return s, d, p, v"
   ]
  },
  {
   "cell_type": "code",
   "execution_count": 101,
   "id": "a37f3c02",
   "metadata": {},
   "outputs": [],
   "source": [
    "result = calculate(4, 6)"
   ]
  },
  {
   "cell_type": "code",
   "execution_count": 103,
   "id": "58638426",
   "metadata": {},
   "outputs": [],
   "source": [
    "summa, sottrazione, prodotto, divisione = calculate(4, 6)"
   ]
  },
  {
   "cell_type": "code",
   "execution_count": 104,
   "id": "bf7caf71",
   "metadata": {},
   "outputs": [
    {
     "name": "stdout",
     "output_type": "stream",
     "text": [
      "10 -2\n"
     ]
    }
   ],
   "source": [
    "print(summa, sottrazione)"
   ]
  },
  {
   "cell_type": "markdown",
   "id": "3866c808",
   "metadata": {},
   "source": [
    "### List comprehension VS Loop"
   ]
  },
  {
   "cell_type": "code",
   "execution_count": 156,
   "id": "1e82b986",
   "metadata": {},
   "outputs": [],
   "source": [
    "import time"
   ]
  },
  {
   "cell_type": "code",
   "execution_count": 166,
   "id": "7f62ca22",
   "metadata": {},
   "outputs": [
    {
     "name": "stdout",
     "output_type": "stream",
     "text": [
      "0.934333086013794\n"
     ]
    }
   ],
   "source": [
    "i = 10000000\n",
    "loop = time.time()\n",
    "l = []\n",
    "for x in range(i):\n",
    "    l.append(x)\n",
    "print(time.time() - loop)"
   ]
  },
  {
   "cell_type": "code",
   "execution_count": 167,
   "id": "4b80c58f",
   "metadata": {},
   "outputs": [
    {
     "name": "stdout",
     "output_type": "stream",
     "text": [
      "0.5185389518737793\n"
     ]
    }
   ],
   "source": [
    "loop = time.time()\n",
    "n = [x for x in range(i)]\n",
    "print(time.time() - loop)"
   ]
  },
  {
   "cell_type": "code",
   "execution_count": 168,
   "id": "706eeaa6",
   "metadata": {},
   "outputs": [
    {
     "name": "stdout",
     "output_type": "stream",
     "text": [
      "0.6093430519104004\n"
     ]
    }
   ],
   "source": [
    "loop = time.time()\n",
    "s = 0\n",
    "for x in range(i):\n",
    "    s + 1\n",
    "print(time.time() - loop)"
   ]
  },
  {
   "cell_type": "code",
   "execution_count": 169,
   "id": "7d0f4056",
   "metadata": {},
   "outputs": [
    {
     "name": "stdout",
     "output_type": "stream",
     "text": [
      "0.655785083770752\n"
     ]
    }
   ],
   "source": [
    "loop = time.time()\n",
    "n = [x + 1 for x in range(i)]\n",
    "print(time.time() - loop)"
   ]
  },
  {
   "cell_type": "markdown",
   "id": "3d50da15",
   "metadata": {},
   "source": [
    "## Sets"
   ]
  },
  {
   "cell_type": "code",
   "execution_count": 105,
   "id": "cc8b1c2d",
   "metadata": {},
   "outputs": [],
   "source": [
    "A = {'a', 'b', 'c'}\n",
    "B = {'b', 'c', 'd'}"
   ]
  },
  {
   "cell_type": "code",
   "execution_count": 111,
   "id": "2855e6e8",
   "metadata": {},
   "outputs": [],
   "source": [
    "S = set(['a', 'b', 'a', 'b' ,'a', 'b','a', 'b','a', 'b','a', 'b'])"
   ]
  },
  {
   "cell_type": "code",
   "execution_count": 113,
   "id": "4882eca3",
   "metadata": {},
   "outputs": [
    {
     "data": {
      "text/plain": [
       "{'b', 'c'}"
      ]
     },
     "execution_count": 113,
     "metadata": {},
     "output_type": "execute_result"
    }
   ],
   "source": [
    "A.intersection(B)"
   ]
  },
  {
   "cell_type": "code",
   "execution_count": 114,
   "id": "7b564e8d",
   "metadata": {},
   "outputs": [
    {
     "data": {
      "text/plain": [
       "{'a', 'x'}"
      ]
     },
     "execution_count": 114,
     "metadata": {},
     "output_type": "execute_result"
    }
   ],
   "source": [
    "A.difference(B)"
   ]
  },
  {
   "cell_type": "code",
   "execution_count": 115,
   "id": "c31c0342",
   "metadata": {},
   "outputs": [
    {
     "data": {
      "text/plain": [
       "{'a', 'b', 'c', 'd', 'x'}"
      ]
     },
     "execution_count": 115,
     "metadata": {},
     "output_type": "execute_result"
    }
   ],
   "source": [
    "A.union(B)"
   ]
  },
  {
   "cell_type": "markdown",
   "id": "def121ae",
   "metadata": {},
   "source": [
    "## Dictionaries"
   ]
  },
  {
   "cell_type": "code",
   "execution_count": 118,
   "id": "ad49fa61",
   "metadata": {},
   "outputs": [],
   "source": [
    "C = {'nome': 'Gino', 'cognome': 'Bianchi'}\n",
    "L = {'nome': 'Lucia', 'cognome': 'Rossi'}"
   ]
  },
  {
   "cell_type": "code",
   "execution_count": 131,
   "id": "fc87b6a3",
   "metadata": {},
   "outputs": [
    {
     "name": "stdout",
     "output_type": "stream",
     "text": [
      "nome Lucia\n",
      "cognome Rossi\n",
      "eta 23\n"
     ]
    }
   ],
   "source": [
    "for key, value in L.items():\n",
    "    print(key, value)"
   ]
  },
  {
   "cell_type": "code",
   "execution_count": 132,
   "id": "99f7781d",
   "metadata": {},
   "outputs": [],
   "source": [
    "text = \"\"\"\n",
    "Born on the island of Corsica not long after its annexation by the Kingdom of France, \n",
    "Napoleon's modest family descended from minor Italian nobility. He supported the French Revolution in 1789 while serving in the French army, and tried to spread its ideals to his native Corsica. He rose rapidly in the Army after he saved the governing French Directory by firing on royalist insurgents. In April 1796, he began his first military campaign against the Austrians and their Italian allies, scoring a series of decisive victories and becoming a national hero. Two years later, he led a military expedition to Egypt that served as a springboard to political power. He engineered a coup in November 1799 and became First Consul of the Republic. Intractable differences with the British meant that the French were facing the War of the Third Coalition by 1805. Napoleon shattered this coalition with decisive victories in the Ulm Campaign, and a historic triumph at the Battle of Austerlitz, which led to the dissolving of the Holy Roman Empire. In 1806, the Fourth Coalition took up arms against him because Prussia became worried about growing French influence on the continent. Napoleon quickly knocked out Prussia at the battles of Jena and Auerstedt, then marched the Grande Armée deep into Eastern Europe, annihilating the Russians in June 1807 at Friedland, and forcing the defeated nations of the Fourth Coalition to accept the Treaties of Tilsit. Two years later, the Austrians challenged the French again during the War of the Fifth Coalition, but Napoleon solidified his grip over Europe after triumphing at the Battle of Wagram.\n",
    "\"\"\""
   ]
  },
  {
   "cell_type": "code",
   "execution_count": 144,
   "id": "e295dc6a",
   "metadata": {},
   "outputs": [],
   "source": [
    "charindex = {}\n",
    "for char in text.split():\n",
    "    try:\n",
    "        charindex[char] = charindex[char] + 1\n",
    "    except KeyError:\n",
    "        charindex[char] = 1"
   ]
  },
  {
   "cell_type": "code",
   "execution_count": null,
   "id": "2a18a59f",
   "metadata": {},
   "outputs": [],
   "source": []
  },
  {
   "cell_type": "markdown",
   "id": "52a08fdf",
   "metadata": {},
   "source": [
    "## Functions"
   ]
  },
  {
   "cell_type": "code",
   "execution_count": 146,
   "id": "b1e79c26",
   "metadata": {},
   "outputs": [],
   "source": [
    "def arg_function(*args):\n",
    "    print(list(args))\n",
    "\n",
    "def kwarg_function(**kwargs):\n",
    "    print(dict(kwargs))"
   ]
  },
  {
   "cell_type": "code",
   "execution_count": 148,
   "id": "90d716b9",
   "metadata": {},
   "outputs": [
    {
     "name": "stdout",
     "output_type": "stream",
     "text": [
      "[2, 3, 4, 5, 4, 5, 2, 1]\n"
     ]
    }
   ],
   "source": [
    "arg_function(2, 3, 4, 5, 4, 5, 2, 1)"
   ]
  },
  {
   "cell_type": "code",
   "execution_count": 150,
   "id": "784cd07b",
   "metadata": {},
   "outputs": [
    {
     "name": "stdout",
     "output_type": "stream",
     "text": [
      "{'a': 2, 'b': 3, 'c': 4, 'd': 5, 'g': 9}\n"
     ]
    }
   ],
   "source": [
    "kwarg_function(a=2, b=3, c=4, d=5, g=9)"
   ]
  },
  {
   "cell_type": "code",
   "execution_count": 151,
   "id": "1a694996",
   "metadata": {},
   "outputs": [],
   "source": [
    "def fib(size, series=[], verbose=False):\n",
    "    if verbose:\n",
    "        print(size, series)\n",
    "    if size == 0:\n",
    "        return series\n",
    "    if len(series) < 2:\n",
    "        return fib(size - 1, series + [1], verbose=verbose)\n",
    "    return fib(size - 1, series + [series[-1] + series[-2]], verbose=verbose)"
   ]
  },
  {
   "cell_type": "code",
   "execution_count": 155,
   "id": "fb611bb1",
   "metadata": {},
   "outputs": [
    {
     "name": "stdout",
     "output_type": "stream",
     "text": [
      "20 []\n",
      "19 [1]\n",
      "18 [1, 1]\n",
      "17 [1, 1, 2]\n",
      "16 [1, 1, 2, 3]\n",
      "15 [1, 1, 2, 3, 5]\n",
      "14 [1, 1, 2, 3, 5, 8]\n",
      "13 [1, 1, 2, 3, 5, 8, 13]\n",
      "12 [1, 1, 2, 3, 5, 8, 13, 21]\n",
      "11 [1, 1, 2, 3, 5, 8, 13, 21, 34]\n",
      "10 [1, 1, 2, 3, 5, 8, 13, 21, 34, 55]\n",
      "9 [1, 1, 2, 3, 5, 8, 13, 21, 34, 55, 89]\n",
      "8 [1, 1, 2, 3, 5, 8, 13, 21, 34, 55, 89, 144]\n",
      "7 [1, 1, 2, 3, 5, 8, 13, 21, 34, 55, 89, 144, 233]\n",
      "6 [1, 1, 2, 3, 5, 8, 13, 21, 34, 55, 89, 144, 233, 377]\n",
      "5 [1, 1, 2, 3, 5, 8, 13, 21, 34, 55, 89, 144, 233, 377, 610]\n",
      "4 [1, 1, 2, 3, 5, 8, 13, 21, 34, 55, 89, 144, 233, 377, 610, 987]\n",
      "3 [1, 1, 2, 3, 5, 8, 13, 21, 34, 55, 89, 144, 233, 377, 610, 987, 1597]\n",
      "2 [1, 1, 2, 3, 5, 8, 13, 21, 34, 55, 89, 144, 233, 377, 610, 987, 1597, 2584]\n",
      "1 [1, 1, 2, 3, 5, 8, 13, 21, 34, 55, 89, 144, 233, 377, 610, 987, 1597, 2584, 4181]\n",
      "0 [1, 1, 2, 3, 5, 8, 13, 21, 34, 55, 89, 144, 233, 377, 610, 987, 1597, 2584, 4181, 6765]\n"
     ]
    }
   ],
   "source": [
    "s = fib(20, verbose=True)"
   ]
  },
  {
   "cell_type": "code",
   "execution_count": 154,
   "id": "9aab48b0",
   "metadata": {},
   "outputs": [
    {
     "data": {
      "text/plain": [
       "[1,\n",
       " 1,\n",
       " 2,\n",
       " 3,\n",
       " 5,\n",
       " 8,\n",
       " 13,\n",
       " 21,\n",
       " 34,\n",
       " 55,\n",
       " 89,\n",
       " 144,\n",
       " 233,\n",
       " 377,\n",
       " 610,\n",
       " 987,\n",
       " 1597,\n",
       " 2584,\n",
       " 4181,\n",
       " 6765]"
      ]
     },
     "execution_count": 154,
     "metadata": {},
     "output_type": "execute_result"
    }
   ],
   "source": [
    "s"
   ]
  },
  {
   "cell_type": "code",
   "execution_count": null,
   "id": "71ad5f91",
   "metadata": {},
   "outputs": [],
   "source": []
  }
 ],
 "metadata": {
  "kernelspec": {
   "display_name": "Python 3 (ipykernel)",
   "language": "python",
   "name": "python3"
  },
  "language_info": {
   "codemirror_mode": {
    "name": "ipython",
    "version": 3
   },
   "file_extension": ".py",
   "mimetype": "text/x-python",
   "name": "python",
   "nbconvert_exporter": "python",
   "pygments_lexer": "ipython3",
   "version": "3.8.8"
  },
  "toc": {
   "base_numbering": 1,
   "nav_menu": {},
   "number_sections": true,
   "sideBar": true,
   "skip_h1_title": false,
   "title_cell": "Table of Contents",
   "title_sidebar": "Contents",
   "toc_cell": false,
   "toc_position": {},
   "toc_section_display": true,
   "toc_window_display": false
  }
 },
 "nbformat": 4,
 "nbformat_minor": 5
}
