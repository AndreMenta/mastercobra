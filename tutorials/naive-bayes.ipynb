{
 "cells": [
  {
   "cell_type": "markdown",
   "id": "d2dfb98a",
   "metadata": {},
   "source": [
    "## Implementation from scratch of a simple Naive Bayes classifier\n",
    "\n",
    "Problem: given a class $K$ and a set of observed data about an item $x$, estimate\n",
    "\n",
    "$$\n",
    "P(K=1 \\mid x ),\n",
    "$$\n",
    "\n",
    "where $K=1$ means that $x$ is an item of the class $K$.\n",
    "\n",
    "Note that:\n",
    "$$\n",
    "P(K = 1 \\mid x) = \\frac{P(K=1)P(x \\mid K=1)}{P(x)} \\approx P(K=1)P(x \\mid K=1)\n",
    "$$\n",
    "\n",
    "$$\n",
    "P(K = 1 \\mid x) \\approx P(K=1) \\prod\\limits_{i=0}^{N}P(x_i \\mid K=1)\n",
    "$$"
   ]
  },
  {
   "cell_type": "code",
   "execution_count": 2,
   "id": "6a0474b4",
   "metadata": {},
   "outputs": [],
   "source": [
    "import pandas as pd\n",
    "import numpy as np\n",
    "from tqdm.notebook import tqdm"
   ]
  },
  {
   "cell_type": "code",
   "execution_count": 4,
   "id": "9a3aab98",
   "metadata": {},
   "outputs": [],
   "source": [
    "from sklearn.model_selection import train_test_split"
   ]
  },
  {
   "cell_type": "code",
   "execution_count": 49,
   "id": "85306c82",
   "metadata": {},
   "outputs": [],
   "source": [
    "from collections import defaultdict, Counter"
   ]
  },
  {
   "cell_type": "code",
   "execution_count": 138,
   "id": "b7e49352",
   "metadata": {},
   "outputs": [],
   "source": [
    "T = pd.read_csv('./data/zoo/zoo.csv')\n",
    "C = pd.read_csv('./data/zoo/class.csv')"
   ]
  },
  {
   "cell_type": "markdown",
   "id": "d76924c1",
   "metadata": {},
   "source": [
    "## Progettazione\n",
    "- *Pre-processing dei dati*\n",
    "- *Split train e test set*\n",
    "- Training (fit)\n",
    "- Test (prediction)\n",
    "- Evaluate"
   ]
  },
  {
   "cell_type": "code",
   "execution_count": 125,
   "id": "f38cc223",
   "metadata": {},
   "outputs": [],
   "source": [
    "class Dataset(object):\n",
    "    \n",
    "    def __init__(self, dataframe: pd.DataFrame):\n",
    "        self.df = dataframe\n",
    "        self.classes = None\n",
    "        \n",
    "    def onehot(self, variable, prefix):\n",
    "        oneh = pd.get_dummies(self.df[variable], prefix=prefix)\n",
    "        df = self.df[[x for x in self.df.columns if x != variable]]\n",
    "        self.df = df.join(oneh)\n",
    "    \n",
    "    def clean(self, variable):\n",
    "        self.df = self.df[[x for x in self.df.columns if x != variable]]\n",
    "    \n",
    "    def features_class(self, variable):\n",
    "        self.classes = self.df[variable].values\n",
    "        self.clean(variable)\n",
    "    \n",
    "    def train_test_split(self, test_size=0.3):\n",
    "        return train_test_split(self.df, self.classes, test_size=test_size, random_state=42)\n",
    "\n",
    "    \n",
    "class Classifier(object):\n",
    "    \n",
    "    def __init__(self, X_train, y_train):\n",
    "        self.X = X_train\n",
    "        self.y = y_train\n",
    "        self.priors = defaultdict(lambda: 0)\n",
    "        self.likelihoods = pd.DataFrame(defaultdict(lambda: defaultdict(lambda: 0)))\n",
    "        \n",
    "    def _get_prior(self):\n",
    "        self.priors = dict([(x, y / self.y.shape[0]) for x, y in Counter(self.y).most_common()])\n",
    "    \n",
    "    def _split_by_class(self, class_index):\n",
    "        indexes = [i for i, x in enumerate(self.y) if x == class_index]\n",
    "        return self.X.iloc[indexes]\n",
    "    \n",
    "    def _likelihood(self, class_index):\n",
    "        split = self._split_by_class(class_index)\n",
    "        return (split.sum(axis=0) + 1) / (split.shape[0] + 1)\n",
    "    \n",
    "    def _matrix_likelihood(self):\n",
    "        self.likelihoods = pd.DataFrame(\n",
    "            [self._likelihood(i) for i in list(self.priors.keys())], \n",
    "            index=list(self.priors.keys())).T\n",
    "    \n",
    "    def fit(self):\n",
    "        self._get_prior()\n",
    "        self._matrix_likelihood()\n",
    "        \n",
    "    def get_prior(self, class_index):\n",
    "        return self.priors[class_index]\n",
    "    \n",
    "    def get_likelihood(self, class_index, feature):\n",
    "        return self.likelihoods.loc[feature][class_index]\n",
    "    \n",
    "    def predict(self, data: pd.DataFrame):\n",
    "        y_hat, list_classes = [], sorted(K.priors.keys())\n",
    "        features = [[k for k, v in row.items() if v == 1] for i, row in data.iterrows()]\n",
    "        for item in features:\n",
    "            class_predictions = []\n",
    "            for classindex in list_classes:\n",
    "                pred = np.prod([self.get_likelihood(classindex, x) for x in item]) * self.get_prior(classindex)\n",
    "                class_predictions.append(pred)\n",
    "            prediction_index = np.argmax(class_predictions)\n",
    "            y_hat.append(list_classes[prediction_index])\n",
    "        return y_hat\n",
    "            "
   ]
  },
  {
   "cell_type": "code",
   "execution_count": 126,
   "id": "18997485",
   "metadata": {},
   "outputs": [],
   "source": [
    "zoo = Dataset(dataframe=T)\n",
    "zoo.onehot('legs', prefix='legs')\n",
    "zoo.clean('animal_name')\n",
    "zoo.features_class('class_type')\n",
    "X_train, X_test, y_train, y_test = zoo.train_test_split(test_size=0.25)"
   ]
  },
  {
   "cell_type": "code",
   "execution_count": 127,
   "id": "f79210a6",
   "metadata": {},
   "outputs": [],
   "source": [
    "K = Classifier(X_train, y_train)\n",
    "K.fit()"
   ]
  },
  {
   "cell_type": "code",
   "execution_count": 128,
   "id": "d6f6b810",
   "metadata": {},
   "outputs": [],
   "source": [
    "y_pred = K.predict(X_test)"
   ]
  },
  {
   "cell_type": "markdown",
   "id": "b20d1313",
   "metadata": {},
   "source": [
    "## Evaluation\n",
    "True Positive, False Positive, False Negative, True Negative"
   ]
  },
  {
   "cell_type": "code",
   "execution_count": 146,
   "id": "7c823a7f",
   "metadata": {},
   "outputs": [],
   "source": [
    "from sklearn.metrics import confusion_matrix, ConfusionMatrixDisplay, classification_report"
   ]
  },
  {
   "cell_type": "code",
   "execution_count": 147,
   "id": "4b4bcc71",
   "metadata": {},
   "outputs": [],
   "source": [
    "import matplotlib.pyplot as plt"
   ]
  },
  {
   "cell_type": "code",
   "execution_count": 149,
   "id": "f496ea36",
   "metadata": {},
   "outputs": [
    {
     "name": "stdout",
     "output_type": "stream",
     "text": [
      "              precision    recall  f1-score   support\n",
      "\n",
      "           1       1.00      1.00      1.00        13\n",
      "           2       1.00      1.00      1.00         2\n",
      "           3       0.00      0.00      0.00         1\n",
      "           4       0.50      1.00      0.67         2\n",
      "           5       1.00      1.00      1.00         2\n",
      "           6       1.00      1.00      1.00         4\n",
      "           7       1.00      0.50      0.67         2\n",
      "\n",
      "    accuracy                           0.92        26\n",
      "   macro avg       0.79      0.79      0.76        26\n",
      "weighted avg       0.92      0.92      0.91        26\n",
      "\n"
     ]
    }
   ],
   "source": [
    "print(classification_report(y_test, y_pred, zero_division=0))"
   ]
  },
  {
   "cell_type": "code",
   "execution_count": 145,
   "id": "96298ee3",
   "metadata": {
    "scrolled": true
   },
   "outputs": [
    {
     "data": {
      "image/png": "[encoded data removed]",
      "text/plain": [
       "<Figure size 720x720 with 2 Axes>"
      ]
     },
     "metadata": {
      "needs_background": "light"
     },
     "output_type": "display_data"
    }
   ],
   "source": [
    "class_labels = [C[C.Class_Number == x].Class_Type.values[0] for x in sorted(K.priors.keys())]\n",
    "cm = confusion_matrix(y_test, y_pred)\n",
    "fig, ax = plt.subplots(figsize=(10, 10))\n",
    "disp = ConfusionMatrixDisplay(confusion_matrix=cm, display_labels=class_labels)\n",
    "disp.plot(ax=ax)\n",
    "plt.tight_layout()\n",
    "plt.show()"
   ]
  },
  {
   "cell_type": "markdown",
   "id": "b931bc48",
   "metadata": {},
   "source": [
    "## Esercizio\n",
    "L'implementazione contiene alcuni errori e bias che rendono l'algoritmo poco efficace. Revisionare il codice per sitemare gli errori. Osservare in particolare:\n",
    "- Smooth: come gestire la probabilità 0 per una singola osservazione in modo che non annulli le altre\n",
    "- Sbilanciamento del dataset: come possiamo allenare l'algoritmo a stimare le probabilità senza sovrastimare la classe più numerosa?"
   ]
  },
  {
   "cell_type": "code",
   "execution_count": 2,
   "id": "abafcf62",
   "metadata": {},
   "outputs": [],
   "source": [
    "T = pd.read_csv('./data/zoo/zoo.csv')\n",
    "K = pd.read_csv('./data/zoo/class.csv')"
   ]
  },
  {
   "cell_type": "code",
   "execution_count": 72,
   "id": "905b267d",
   "metadata": {
    "scrolled": false
   },
   "outputs": [
    {
     "data": {
      "text/plain": [
       "animal_name    chicken\n",
       "hair                 0\n",
       "feathers             1\n",
       "eggs                 1\n",
       "milk                 0\n",
       "airborne             1\n",
       "aquatic              0\n",
       "predator             0\n",
       "toothed              0\n",
       "backbone             1\n",
       "breathes             1\n",
       "venomous             0\n",
       "fins                 0\n",
       "legs                 2\n",
       "tail                 1\n",
       "domestic             1\n",
       "catsize              0\n",
       "class_type           2\n",
       "Name: 11, dtype: object"
      ]
     },
     "execution_count": 72,
     "metadata": {},
     "output_type": "execute_result"
    }
   ],
   "source": [
    "T.loc[11]"
   ]
  },
  {
   "cell_type": "code",
   "execution_count": 4,
   "id": "fe482a8c",
   "metadata": {},
   "outputs": [],
   "source": [
    "T_bool = T[[x for x in T.columns if x not in ['legs', 'animal_name']]]"
   ]
  },
  {
   "cell_type": "code",
   "execution_count": 5,
   "id": "0e2dde8a",
   "metadata": {},
   "outputs": [],
   "source": [
    "legs_df = pd.get_dummies(T.legs, prefix='legs')"
   ]
  },
  {
   "cell_type": "code",
   "execution_count": 6,
   "id": "5f2b37ae",
   "metadata": {},
   "outputs": [],
   "source": [
    "D = T_bool.join(legs_df)"
   ]
  },
  {
   "cell_type": "code",
   "execution_count": 7,
   "id": "1ba28d5e",
   "metadata": {},
   "outputs": [],
   "source": [
    "def likelihood(class_name, feature):\n",
    "    return (D[D.class_type==classname(\n",
    "        class_name)][feature].sum() + 1) / (D[\n",
    "        D.class_type==classname(class_name)].shape[0] +1)"
   ]
  },
  {
   "cell_type": "code",
   "execution_count": 8,
   "id": "37622cee",
   "metadata": {},
   "outputs": [],
   "source": [
    "class_dist = T.groupby('class_type').count()['animal_name']"
   ]
  },
  {
   "cell_type": "code",
   "execution_count": 9,
   "id": "b062162c",
   "metadata": {},
   "outputs": [],
   "source": [
    "def prior(x):\n",
    "    return (class_dist / class_dist.sum()).loc[x]\n",
    "\n",
    "classname = lambda name: K[K['Class_Type'] == name].Class_Number.values[0]\n",
    "getname = lambda name: K[K['Class_Number'] == name].Class_Type.values[0]"
   ]
  },
  {
   "cell_type": "code",
   "execution_count": 10,
   "id": "863223f2",
   "metadata": {},
   "outputs": [
    {
     "data": {
      "text/plain": [
       "0.7619047619047619"
      ]
     },
     "execution_count": 10,
     "metadata": {},
     "output_type": "execute_result"
    }
   ],
   "source": [
    "likelihood('Mammal', 'legs_4')"
   ]
  },
  {
   "cell_type": "code",
   "execution_count": 11,
   "id": "bb22fc10",
   "metadata": {
    "scrolled": true
   },
   "outputs": [
    {
     "data": {
      "text/html": [
       "<div>\n",
       "<style scoped>\n",
       "    .dataframe tbody tr th:only-of-type {\n",
       "        vertical-align: middle;\n",
       "    }\n",
       "\n",
       "    .dataframe tbody tr th {\n",
       "        vertical-align: top;\n",
       "    }\n",
       "\n",
       "    .dataframe thead th {\n",
       "        text-align: right;\n",
       "    }\n",
       "</style>\n",
       "<table border=\"1\" class=\"dataframe\">\n",
       "  <thead>\n",
       "    <tr style=\"text-align: right;\">\n",
       "      <th></th>\n",
       "      <th>Class_Number</th>\n",
       "      <th>Number_Of_Animal_Species_In_Class</th>\n",
       "      <th>Class_Type</th>\n",
       "      <th>Animal_Names</th>\n",
       "    </tr>\n",
       "  </thead>\n",
       "  <tbody>\n",
       "    <tr>\n",
       "      <th>0</th>\n",
       "      <td>1</td>\n",
       "      <td>41</td>\n",
       "      <td>Mammal</td>\n",
       "      <td>aardvark, antelope, bear, boar, buffalo, calf,...</td>\n",
       "    </tr>\n",
       "    <tr>\n",
       "      <th>1</th>\n",
       "      <td>2</td>\n",
       "      <td>20</td>\n",
       "      <td>Bird</td>\n",
       "      <td>chicken, crow, dove, duck, flamingo, gull, haw...</td>\n",
       "    </tr>\n",
       "    <tr>\n",
       "      <th>2</th>\n",
       "      <td>3</td>\n",
       "      <td>5</td>\n",
       "      <td>Reptile</td>\n",
       "      <td>pitviper, seasnake, slowworm, tortoise, tuatara</td>\n",
       "    </tr>\n",
       "    <tr>\n",
       "      <th>3</th>\n",
       "      <td>4</td>\n",
       "      <td>13</td>\n",
       "      <td>Fish</td>\n",
       "      <td>bass, carp, catfish, chub, dogfish, haddock, h...</td>\n",
       "    </tr>\n",
       "    <tr>\n",
       "      <th>4</th>\n",
       "      <td>5</td>\n",
       "      <td>4</td>\n",
       "      <td>Amphibian</td>\n",
       "      <td>frog, frog, newt, toad</td>\n",
       "    </tr>\n",
       "    <tr>\n",
       "      <th>5</th>\n",
       "      <td>6</td>\n",
       "      <td>8</td>\n",
       "      <td>Bug</td>\n",
       "      <td>flea, gnat, honeybee, housefly, ladybird, moth...</td>\n",
       "    </tr>\n",
       "    <tr>\n",
       "      <th>6</th>\n",
       "      <td>7</td>\n",
       "      <td>10</td>\n",
       "      <td>Invertebrate</td>\n",
       "      <td>clam, crab, crayfish, lobster, octopus, scorpi...</td>\n",
       "    </tr>\n",
       "  </tbody>\n",
       "</table>\n",
       "</div>"
      ],
      "text/plain": [
       "   Class_Number  Number_Of_Animal_Species_In_Class    Class_Type  \\\n",
       "0             1                                 41        Mammal   \n",
       "1             2                                 20          Bird   \n",
       "2             3                                  5       Reptile   \n",
       "3             4                                 13          Fish   \n",
       "4             5                                  4     Amphibian   \n",
       "5             6                                  8           Bug   \n",
       "6             7                                 10  Invertebrate   \n",
       "\n",
       "                                        Animal_Names  \n",
       "0  aardvark, antelope, bear, boar, buffalo, calf,...  \n",
       "1  chicken, crow, dove, duck, flamingo, gull, haw...  \n",
       "2    pitviper, seasnake, slowworm, tortoise, tuatara  \n",
       "3  bass, carp, catfish, chub, dogfish, haddock, h...  \n",
       "4                             frog, frog, newt, toad  \n",
       "5  flea, gnat, honeybee, housefly, ladybird, moth...  \n",
       "6  clam, crab, crayfish, lobster, octopus, scorpi...  "
      ]
     },
     "execution_count": 11,
     "metadata": {},
     "output_type": "execute_result"
    }
   ],
   "source": [
    "K"
   ]
  },
  {
   "cell_type": "markdown",
   "id": "dae307a2",
   "metadata": {},
   "source": [
    "## Pre-processing"
   ]
  },
  {
   "cell_type": "code",
   "execution_count": 12,
   "id": "58019434",
   "metadata": {},
   "outputs": [],
   "source": [
    "def extract_features(animal_index, df):\n",
    "    features = []\n",
    "    row = df.loc[animal_index]\n",
    "    for k, v in row.items():\n",
    "        if v > 0:\n",
    "            features.append(k)\n",
    "    return features\n",
    "\n",
    "def get_class(animal_index, df):\n",
    "    ctype = df.loc[animal_index].class_type\n",
    "    return getname(ctype)"
   ]
  },
  {
   "cell_type": "code",
   "execution_count": 15,
   "id": "f7c57315",
   "metadata": {},
   "outputs": [],
   "source": [
    "def predict(animal_i, klass):\n",
    "    features = extract_features(animal_index=animal_i, df=D)\n",
    "    p = 1.0\n",
    "    for feature in features:\n",
    "        p = p * likelihood(klass, feature)\n",
    "    return prior(classname(klass)) * p"
   ]
  },
  {
   "cell_type": "code",
   "execution_count": 16,
   "id": "55fe87a2",
   "metadata": {},
   "outputs": [],
   "source": [
    "def read_prediction(animal):\n",
    "    all_classes = np.array([predict(animal, k) for k in K.Class_Type.values])\n",
    "    return K.Class_Type.values[all_classes.argmax()]"
   ]
  },
  {
   "cell_type": "code",
   "execution_count": 20,
   "id": "8513219f",
   "metadata": {},
   "outputs": [],
   "source": [
    "predictions = []\n",
    "for animal in T.index.values:\n",
    "    predictions.append({\n",
    "        'animal': T.loc[animal].animal_name, 'real_class': get_class(animal, T),\n",
    "        'prediction': read_prediction(animal)\n",
    "    })\n",
    "pred = pd.DataFrame(predictions)"
   ]
  },
  {
   "cell_type": "code",
   "execution_count": 22,
   "id": "4024eda8",
   "metadata": {},
   "outputs": [
    {
     "data": {
      "text/html": [
       "<div>\n",
       "<style scoped>\n",
       "    .dataframe tbody tr th:only-of-type {\n",
       "        vertical-align: middle;\n",
       "    }\n",
       "\n",
       "    .dataframe tbody tr th {\n",
       "        vertical-align: top;\n",
       "    }\n",
       "\n",
       "    .dataframe thead th {\n",
       "        text-align: right;\n",
       "    }\n",
       "</style>\n",
       "<table border=\"1\" class=\"dataframe\">\n",
       "  <thead>\n",
       "    <tr style=\"text-align: right;\">\n",
       "      <th></th>\n",
       "      <th>animal</th>\n",
       "      <th>real_class</th>\n",
       "      <th>prediction</th>\n",
       "    </tr>\n",
       "  </thead>\n",
       "  <tbody>\n",
       "    <tr>\n",
       "      <th>0</th>\n",
       "      <td>aardvark</td>\n",
       "      <td>Mammal</td>\n",
       "      <td>Mammal</td>\n",
       "    </tr>\n",
       "    <tr>\n",
       "      <th>1</th>\n",
       "      <td>antelope</td>\n",
       "      <td>Mammal</td>\n",
       "      <td>Mammal</td>\n",
       "    </tr>\n",
       "    <tr>\n",
       "      <th>2</th>\n",
       "      <td>bass</td>\n",
       "      <td>Fish</td>\n",
       "      <td>Fish</td>\n",
       "    </tr>\n",
       "    <tr>\n",
       "      <th>3</th>\n",
       "      <td>bear</td>\n",
       "      <td>Mammal</td>\n",
       "      <td>Mammal</td>\n",
       "    </tr>\n",
       "    <tr>\n",
       "      <th>4</th>\n",
       "      <td>boar</td>\n",
       "      <td>Mammal</td>\n",
       "      <td>Mammal</td>\n",
       "    </tr>\n",
       "    <tr>\n",
       "      <th>...</th>\n",
       "      <td>...</td>\n",
       "      <td>...</td>\n",
       "      <td>...</td>\n",
       "    </tr>\n",
       "    <tr>\n",
       "      <th>96</th>\n",
       "      <td>wallaby</td>\n",
       "      <td>Mammal</td>\n",
       "      <td>Mammal</td>\n",
       "    </tr>\n",
       "    <tr>\n",
       "      <th>97</th>\n",
       "      <td>wasp</td>\n",
       "      <td>Bug</td>\n",
       "      <td>Bug</td>\n",
       "    </tr>\n",
       "    <tr>\n",
       "      <th>98</th>\n",
       "      <td>wolf</td>\n",
       "      <td>Mammal</td>\n",
       "      <td>Mammal</td>\n",
       "    </tr>\n",
       "    <tr>\n",
       "      <th>99</th>\n",
       "      <td>worm</td>\n",
       "      <td>Invertebrate</td>\n",
       "      <td>Invertebrate</td>\n",
       "    </tr>\n",
       "    <tr>\n",
       "      <th>100</th>\n",
       "      <td>wren</td>\n",
       "      <td>Bird</td>\n",
       "      <td>Bird</td>\n",
       "    </tr>\n",
       "  </tbody>\n",
       "</table>\n",
       "<p>101 rows × 3 columns</p>\n",
       "</div>"
      ],
      "text/plain": [
       "       animal    real_class    prediction\n",
       "0    aardvark        Mammal        Mammal\n",
       "1    antelope        Mammal        Mammal\n",
       "2        bass          Fish          Fish\n",
       "3        bear        Mammal        Mammal\n",
       "4        boar        Mammal        Mammal\n",
       "..        ...           ...           ...\n",
       "96    wallaby        Mammal        Mammal\n",
       "97       wasp           Bug           Bug\n",
       "98       wolf        Mammal        Mammal\n",
       "99       worm  Invertebrate  Invertebrate\n",
       "100      wren          Bird          Bird\n",
       "\n",
       "[101 rows x 3 columns]"
      ]
     },
     "execution_count": 22,
     "metadata": {},
     "output_type": "execute_result"
    }
   ],
   "source": [
    "pred"
   ]
  },
  {
   "cell_type": "code",
   "execution_count": 19,
   "id": "06991a9a",
   "metadata": {},
   "outputs": [
    {
     "data": {
      "text/html": [
       "<div>\n",
       "<style scoped>\n",
       "    .dataframe tbody tr th:only-of-type {\n",
       "        vertical-align: middle;\n",
       "    }\n",
       "\n",
       "    .dataframe tbody tr th {\n",
       "        vertical-align: top;\n",
       "    }\n",
       "\n",
       "    .dataframe thead th {\n",
       "        text-align: right;\n",
       "    }\n",
       "</style>\n",
       "<table border=\"1\" class=\"dataframe\">\n",
       "  <thead>\n",
       "    <tr style=\"text-align: right;\">\n",
       "      <th></th>\n",
       "      <th>legs_0</th>\n",
       "      <th>legs_2</th>\n",
       "      <th>legs_4</th>\n",
       "      <th>legs_5</th>\n",
       "      <th>legs_6</th>\n",
       "      <th>legs_8</th>\n",
       "    </tr>\n",
       "  </thead>\n",
       "  <tbody>\n",
       "    <tr>\n",
       "      <th>0</th>\n",
       "      <td>0</td>\n",
       "      <td>0</td>\n",
       "      <td>1</td>\n",
       "      <td>0</td>\n",
       "      <td>0</td>\n",
       "      <td>0</td>\n",
       "    </tr>\n",
       "    <tr>\n",
       "      <th>1</th>\n",
       "      <td>0</td>\n",
       "      <td>0</td>\n",
       "      <td>1</td>\n",
       "      <td>0</td>\n",
       "      <td>0</td>\n",
       "      <td>0</td>\n",
       "    </tr>\n",
       "    <tr>\n",
       "      <th>2</th>\n",
       "      <td>1</td>\n",
       "      <td>0</td>\n",
       "      <td>0</td>\n",
       "      <td>0</td>\n",
       "      <td>0</td>\n",
       "      <td>0</td>\n",
       "    </tr>\n",
       "    <tr>\n",
       "      <th>3</th>\n",
       "      <td>0</td>\n",
       "      <td>0</td>\n",
       "      <td>1</td>\n",
       "      <td>0</td>\n",
       "      <td>0</td>\n",
       "      <td>0</td>\n",
       "    </tr>\n",
       "    <tr>\n",
       "      <th>4</th>\n",
       "      <td>0</td>\n",
       "      <td>0</td>\n",
       "      <td>1</td>\n",
       "      <td>0</td>\n",
       "      <td>0</td>\n",
       "      <td>0</td>\n",
       "    </tr>\n",
       "    <tr>\n",
       "      <th>...</th>\n",
       "      <td>...</td>\n",
       "      <td>...</td>\n",
       "      <td>...</td>\n",
       "      <td>...</td>\n",
       "      <td>...</td>\n",
       "      <td>...</td>\n",
       "    </tr>\n",
       "    <tr>\n",
       "      <th>96</th>\n",
       "      <td>0</td>\n",
       "      <td>1</td>\n",
       "      <td>0</td>\n",
       "      <td>0</td>\n",
       "      <td>0</td>\n",
       "      <td>0</td>\n",
       "    </tr>\n",
       "    <tr>\n",
       "      <th>97</th>\n",
       "      <td>0</td>\n",
       "      <td>0</td>\n",
       "      <td>0</td>\n",
       "      <td>0</td>\n",
       "      <td>1</td>\n",
       "      <td>0</td>\n",
       "    </tr>\n",
       "    <tr>\n",
       "      <th>98</th>\n",
       "      <td>0</td>\n",
       "      <td>0</td>\n",
       "      <td>1</td>\n",
       "      <td>0</td>\n",
       "      <td>0</td>\n",
       "      <td>0</td>\n",
       "    </tr>\n",
       "    <tr>\n",
       "      <th>99</th>\n",
       "      <td>1</td>\n",
       "      <td>0</td>\n",
       "      <td>0</td>\n",
       "      <td>0</td>\n",
       "      <td>0</td>\n",
       "      <td>0</td>\n",
       "    </tr>\n",
       "    <tr>\n",
       "      <th>100</th>\n",
       "      <td>0</td>\n",
       "      <td>1</td>\n",
       "      <td>0</td>\n",
       "      <td>0</td>\n",
       "      <td>0</td>\n",
       "      <td>0</td>\n",
       "    </tr>\n",
       "  </tbody>\n",
       "</table>\n",
       "<p>101 rows × 6 columns</p>\n",
       "</div>"
      ],
      "text/plain": [
       "     legs_0  legs_2  legs_4  legs_5  legs_6  legs_8\n",
       "0         0       0       1       0       0       0\n",
       "1         0       0       1       0       0       0\n",
       "2         1       0       0       0       0       0\n",
       "3         0       0       1       0       0       0\n",
       "4         0       0       1       0       0       0\n",
       "..      ...     ...     ...     ...     ...     ...\n",
       "96        0       1       0       0       0       0\n",
       "97        0       0       0       0       1       0\n",
       "98        0       0       1       0       0       0\n",
       "99        1       0       0       0       0       0\n",
       "100       0       1       0       0       0       0\n",
       "\n",
       "[101 rows x 6 columns]"
      ]
     },
     "execution_count": 19,
     "metadata": {},
     "output_type": "execute_result"
    }
   ],
   "source": [
    "pd.get_dummies(T['legs'], prefix='legs')"
   ]
  },
  {
   "cell_type": "markdown",
   "id": "22bd8962",
   "metadata": {},
   "source": [
    "## Train and test"
   ]
  },
  {
   "cell_type": "code",
   "execution_count": 12,
   "id": "07f23769",
   "metadata": {},
   "outputs": [],
   "source": [
    "from collections import defaultdict"
   ]
  },
  {
   "cell_type": "code",
   "execution_count": 5,
   "id": "243c40c0",
   "metadata": {},
   "outputs": [],
   "source": [
    "X_train, X_test, y_train, y_test = train_test_split(T[T.columns[:-1]], T.class_type, test_size=0.2, random_state=42)"
   ]
  },
  {
   "cell_type": "code",
   "execution_count": 14,
   "id": "647c42e9",
   "metadata": {},
   "outputs": [],
   "source": [
    "cnt = defaultdict(lambda: 0)\n",
    "for k, v in y_train.items():\n",
    "    cnt[v] += 1"
   ]
  },
  {
   "cell_type": "code",
   "execution_count": 15,
   "id": "2b810428",
   "metadata": {},
   "outputs": [
    {
     "data": {
      "text/plain": [
       "defaultdict(<function __main__.<lambda>()>,\n",
       "            {5: 4, 6: 5, 1: 29, 7: 9, 2: 18, 3: 4, 4: 11})"
      ]
     },
     "execution_count": 15,
     "metadata": {},
     "output_type": "execute_result"
    }
   ],
   "source": [
    "cnt"
   ]
  },
  {
   "cell_type": "code",
   "execution_count": null,
   "id": "bf6f9b0e",
   "metadata": {},
   "outputs": [],
   "source": []
  }
 ],
 "metadata": {
  "kernelspec": {
   "display_name": "Python 3 (ipykernel)",
   "language": "python",
   "name": "python3"
  },
  "language_info": {
   "codemirror_mode": {
    "name": "ipython",
    "version": 3
   },
   "file_extension": ".py",
   "mimetype": "text/x-python",
   "name": "python",
   "nbconvert_exporter": "python",
   "pygments_lexer": "ipython3",
   "version": "3.8.8"
  },
  "toc": {
   "base_numbering": 1,
   "nav_menu": {},
   "number_sections": true,
   "sideBar": true,
   "skip_h1_title": false,
   "title_cell": "Table of Contents",
   "title_sidebar": "Contents",
   "toc_cell": false,
   "toc_position": {},
   "toc_section_display": true,
   "toc_window_display": false
  }
 },
 "nbformat": 4,
 "nbformat_minor": 5
}
