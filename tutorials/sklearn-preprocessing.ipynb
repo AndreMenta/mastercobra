{
 "cells": [
  {
   "cell_type": "markdown",
   "id": "a4638817",
   "metadata": {},
   "source": [
    "# Librerie sklearn per il pre-processing di dati"
   ]
  },
  {
   "cell_type": "code",
   "execution_count": 1,
   "id": "39a83e06",
   "metadata": {},
   "outputs": [],
   "source": [
    "import pandas as pd\n",
    "import numpy as np\n",
    "from tqdm.notebook import tqdm"
   ]
  },
  {
   "cell_type": "markdown",
   "id": "eeb36de3",
   "metadata": {},
   "source": [
    "## Esempio"
   ]
  },
  {
   "cell_type": "code",
   "execution_count": 2,
   "id": "a27472b2",
   "metadata": {},
   "outputs": [],
   "source": [
    "import matplotlib.pyplot as plt"
   ]
  },
  {
   "cell_type": "code",
   "execution_count": 63,
   "id": "c75a56e7",
   "metadata": {},
   "outputs": [],
   "source": [
    "from sklearn.cluster import KMeans, AffinityPropagation, AgglomerativeClustering"
   ]
  },
  {
   "cell_type": "code",
   "execution_count": 4,
   "id": "af61fd09",
   "metadata": {},
   "outputs": [],
   "source": [
    "data_file = 'data/fifa/fifa_2019.csv'\n",
    "D = pd.read_csv(data_file, index_col=0)"
   ]
  },
  {
   "cell_type": "code",
   "execution_count": 7,
   "id": "c5eef7c5",
   "metadata": {},
   "outputs": [
    {
     "data": {
      "text/html": [
       "<div>\n",
       "<style scoped>\n",
       "    .dataframe tbody tr th:only-of-type {\n",
       "        vertical-align: middle;\n",
       "    }\n",
       "\n",
       "    .dataframe tbody tr th {\n",
       "        vertical-align: top;\n",
       "    }\n",
       "\n",
       "    .dataframe thead th {\n",
       "        text-align: right;\n",
       "    }\n",
       "</style>\n",
       "<table border=\"1\" class=\"dataframe\">\n",
       "  <thead>\n",
       "    <tr style=\"text-align: right;\">\n",
       "      <th></th>\n",
       "      <th>Weight</th>\n",
       "      <th>Height</th>\n",
       "    </tr>\n",
       "  </thead>\n",
       "  <tbody>\n",
       "    <tr>\n",
       "      <th>0</th>\n",
       "      <td>159lbs</td>\n",
       "      <td>5'7</td>\n",
       "    </tr>\n",
       "    <tr>\n",
       "      <th>1</th>\n",
       "      <td>183lbs</td>\n",
       "      <td>6'2</td>\n",
       "    </tr>\n",
       "    <tr>\n",
       "      <th>2</th>\n",
       "      <td>150lbs</td>\n",
       "      <td>5'9</td>\n",
       "    </tr>\n",
       "    <tr>\n",
       "      <th>3</th>\n",
       "      <td>168lbs</td>\n",
       "      <td>6'4</td>\n",
       "    </tr>\n",
       "    <tr>\n",
       "      <th>4</th>\n",
       "      <td>154lbs</td>\n",
       "      <td>5'11</td>\n",
       "    </tr>\n",
       "    <tr>\n",
       "      <th>...</th>\n",
       "      <td>...</td>\n",
       "      <td>...</td>\n",
       "    </tr>\n",
       "    <tr>\n",
       "      <th>18202</th>\n",
       "      <td>134lbs</td>\n",
       "      <td>5'9</td>\n",
       "    </tr>\n",
       "    <tr>\n",
       "      <th>18203</th>\n",
       "      <td>170lbs</td>\n",
       "      <td>6'3</td>\n",
       "    </tr>\n",
       "    <tr>\n",
       "      <th>18204</th>\n",
       "      <td>148lbs</td>\n",
       "      <td>5'8</td>\n",
       "    </tr>\n",
       "    <tr>\n",
       "      <th>18205</th>\n",
       "      <td>154lbs</td>\n",
       "      <td>5'10</td>\n",
       "    </tr>\n",
       "    <tr>\n",
       "      <th>18206</th>\n",
       "      <td>176lbs</td>\n",
       "      <td>5'10</td>\n",
       "    </tr>\n",
       "  </tbody>\n",
       "</table>\n",
       "<p>18207 rows × 2 columns</p>\n",
       "</div>"
      ],
      "text/plain": [
       "       Weight Height\n",
       "0      159lbs    5'7\n",
       "1      183lbs    6'2\n",
       "2      150lbs    5'9\n",
       "3      168lbs    6'4\n",
       "4      154lbs   5'11\n",
       "...       ...    ...\n",
       "18202  134lbs    5'9\n",
       "18203  170lbs    6'3\n",
       "18204  148lbs    5'8\n",
       "18205  154lbs   5'10\n",
       "18206  176lbs   5'10\n",
       "\n",
       "[18207 rows x 2 columns]"
      ]
     },
     "execution_count": 7,
     "metadata": {},
     "output_type": "execute_result"
    }
   ],
   "source": [
    "D[['Weight', 'Height']]"
   ]
  },
  {
   "cell_type": "code",
   "execution_count": 13,
   "id": "1d900418",
   "metadata": {},
   "outputs": [],
   "source": [
    "w = [int(x.replace('lbs', '')) * 0.45359237 if not pd.isnull(x) else np.nan for x in D.Weight.values]\n",
    "h = [float(x.replace(\"'\", '.')) * 0.3048 if not pd.isnull(x) else np.nan for x in D.Height.values]\n",
    "X = np.array([h, w]).T"
   ]
  },
  {
   "cell_type": "code",
   "execution_count": 18,
   "id": "82b37a6e",
   "metadata": {},
   "outputs": [],
   "source": [
    "null_indexes = []\n",
    "for i, row in enumerate(X):\n",
    "    if pd.isnull(row[0]) or pd.isnull(row[1]):\n",
    "        null_indexes.append(i)"
   ]
  },
  {
   "cell_type": "code",
   "execution_count": 22,
   "id": "fae86ecf",
   "metadata": {},
   "outputs": [],
   "source": [
    "good_indexes = [x for x in range(X.shape[0]) if x not in null_indexes]"
   ]
  },
  {
   "cell_type": "code",
   "execution_count": 23,
   "id": "bb1bf555",
   "metadata": {},
   "outputs": [],
   "source": [
    "Xx = X[good_indexes]"
   ]
  },
  {
   "cell_type": "code",
   "execution_count": 24,
   "id": "e804850c",
   "metadata": {},
   "outputs": [
    {
     "data": {
      "text/plain": [
       "(18159, 2)"
      ]
     },
     "execution_count": 24,
     "metadata": {},
     "output_type": "execute_result"
    }
   ],
   "source": [
    "Xx.shape"
   ]
  },
  {
   "cell_type": "markdown",
   "id": "ab959f55",
   "metadata": {},
   "source": [
    "## Manage missing values\n",
    "[SimpleImputer](https://scikit-learn.org/stable/modules/generated/sklearn.impute.SimpleImputer.html#sklearn.impute.SimpleImputer), [IterativeImputer](https://scikit-learn.org/stable/modules/generated/sklearn.impute.IterativeImputer.html#sklearn.impute.IterativeImputer), [KNNImputer](https://scikit-learn.org/stable/modules/generated/sklearn.impute.KNNImputer.html#sklearn.impute.KNNImputer)"
   ]
  },
  {
   "cell_type": "code",
   "execution_count": 25,
   "id": "a23a0b22",
   "metadata": {},
   "outputs": [],
   "source": [
    "from sklearn.experimental import enable_iterative_imputer\n",
    "from sklearn.impute import SimpleImputer\n",
    "from sklearn.impute import IterativeImputer, KNNImputer"
   ]
  },
  {
   "cell_type": "code",
   "execution_count": 26,
   "id": "ab292dc8",
   "metadata": {},
   "outputs": [],
   "source": [
    "examples = [i for i, x in enumerate(X[:,0]) if pd.isnull(x)]"
   ]
  },
  {
   "cell_type": "code",
   "execution_count": 27,
   "id": "22e9d0e6",
   "metadata": {},
   "outputs": [],
   "source": [
    "imp = SimpleImputer(missing_values=np.nan, strategy='mean')\n",
    "itp = IterativeImputer()\n",
    "itn = KNNImputer()\n",
    "Xi = imp.fit_transform(X)\n",
    "Xp = itp.fit_transform(X)\n",
    "Xn = itn.fit_transform(X)"
   ]
  },
  {
   "cell_type": "code",
   "execution_count": 29,
   "id": "fbc767bd",
   "metadata": {},
   "outputs": [
    {
     "data": {
      "text/plain": [
       "array([[nan, nan],\n",
       "       [nan, nan]])"
      ]
     },
     "execution_count": 29,
     "metadata": {},
     "output_type": "execute_result"
    }
   ],
   "source": [
    "X[examples][:2]"
   ]
  },
  {
   "cell_type": "code",
   "execution_count": 28,
   "id": "461a80db",
   "metadata": {},
   "outputs": [
    {
     "data": {
      "text/plain": [
       "array([[ 1.76703751, 75.28686641],\n",
       "       [ 1.76703751, 75.28686641]])"
      ]
     },
     "execution_count": 28,
     "metadata": {},
     "output_type": "execute_result"
    }
   ],
   "source": [
    "Xi[examples][:2]"
   ]
  },
  {
   "cell_type": "code",
   "execution_count": 30,
   "id": "656b2265",
   "metadata": {},
   "outputs": [
    {
     "data": {
      "text/plain": [
       "array([[ 1.76703751, 75.28686641],\n",
       "       [ 1.76703751, 75.28686641]])"
      ]
     },
     "execution_count": 30,
     "metadata": {},
     "output_type": "execute_result"
    }
   ],
   "source": [
    "Xp[examples][:2]"
   ]
  },
  {
   "cell_type": "code",
   "execution_count": 31,
   "id": "1068bb31",
   "metadata": {},
   "outputs": [
    {
     "data": {
      "text/plain": [
       "array([[ 1.76703751, 75.28686641],\n",
       "       [ 1.76703751, 75.28686641]])"
      ]
     },
     "execution_count": 31,
     "metadata": {},
     "output_type": "execute_result"
    }
   ],
   "source": [
    "Xn[examples][:2]"
   ]
  },
  {
   "cell_type": "code",
   "execution_count": 32,
   "id": "a1167614",
   "metadata": {},
   "outputs": [
    {
     "data": {
      "text/plain": [
       "array([[ 1.73736   , 72.12118683],\n",
       "       [ 1.88976   , 83.00740371],\n",
       "       [ 1.79832   , 68.0388555 ],\n",
       "       ...,\n",
       "       [ 1.76784   , 67.13167076],\n",
       "       [ 1.55448   , 69.85322498],\n",
       "       [ 1.55448   , 79.83225712]])"
      ]
     },
     "execution_count": 32,
     "metadata": {},
     "output_type": "execute_result"
    }
   ],
   "source": [
    "Xi"
   ]
  },
  {
   "cell_type": "code",
   "execution_count": 64,
   "id": "fde9aab5",
   "metadata": {},
   "outputs": [],
   "source": [
    "aff = AgglomerativeClustering(n_clusters=4)\n",
    "clusters = aff.fit_predict(Xi)"
   ]
  },
  {
   "cell_type": "code",
   "execution_count": 65,
   "id": "6e0bb8f0",
   "metadata": {},
   "outputs": [
    {
     "data": {
      "image/png": "[encoded data removed]",
      "text/plain": [
       "<Figure size 576x288 with 2 Axes>"
      ]
     },
     "metadata": {
      "needs_background": "light"
     },
     "output_type": "display_data"
    }
   ],
   "source": [
    "fig, ax = plt.subplots(figsize=(8, 4), ncols=2)\n",
    "ax[0].scatter(X[:,0], X[:,1], alpha=.4)\n",
    "ax[1].scatter(X[:,0], X[:,1], alpha=.4, c=clusters)\n",
    "plt.tight_layout()\n",
    "plt.show()"
   ]
  },
  {
   "cell_type": "markdown",
   "id": "26fabda5",
   "metadata": {},
   "source": [
    "## Scaling\n",
    "[StandardScaler](https://scikit-learn.org/stable/modules/generated/sklearn.preprocessing.StandardScaler.html#sklearn.preprocessing.StandardScaler)"
   ]
  },
  {
   "cell_type": "code",
   "execution_count": 66,
   "id": "f79e76cb",
   "metadata": {},
   "outputs": [],
   "source": [
    "from sklearn import preprocessing as pre"
   ]
  },
  {
   "cell_type": "code",
   "execution_count": 67,
   "id": "41478248",
   "metadata": {},
   "outputs": [
    {
     "name": "stdout",
     "output_type": "stream",
     "text": [
      "[ 1.76703751 75.28686641] [0.13643725 7.06349792]\n",
      "[ 1.23321527e-16 -9.42863322e-16] [1. 1.]\n"
     ]
    }
   ],
   "source": [
    "std = pre.StandardScaler().fit(Xi)\n",
    "print(std.mean_, std.scale_)\n",
    "Xistd = std.transform(Xi)\n",
    "print(Xistd.mean(axis=0), Xistd.std(axis=0))"
   ]
  },
  {
   "cell_type": "code",
   "execution_count": 68,
   "id": "1d9d3d29",
   "metadata": {},
   "outputs": [
    {
     "data": {
      "text/plain": [
       "array([[-0.21751763, -0.44817449],\n",
       "       [ 0.89947941,  1.09301898]])"
      ]
     },
     "execution_count": 68,
     "metadata": {},
     "output_type": "execute_result"
    }
   ],
   "source": [
    "Xistd[:2]"
   ]
  },
  {
   "cell_type": "code",
   "execution_count": 69,
   "id": "7d6892a9",
   "metadata": {},
   "outputs": [],
   "source": [
    "aff = AgglomerativeClustering(n_clusters=4)\n",
    "clusters = aff.fit_predict(Xistd)"
   ]
  },
  {
   "cell_type": "code",
   "execution_count": 70,
   "id": "a62af756",
   "metadata": {},
   "outputs": [
    {
     "data": {
      "image/png": "[encoded data removed]",
      "text/plain": [
       "<Figure size 576x288 with 2 Axes>"
      ]
     },
     "metadata": {
      "needs_background": "light"
     },
     "output_type": "display_data"
    }
   ],
   "source": [
    "fig, ax = plt.subplots(figsize=(8, 4), ncols=2)\n",
    "ax[0].scatter(X[:,0], X[:,1], alpha=.4)\n",
    "ax[1].scatter(X[:,0], X[:,1], alpha=.4, c=clusters)\n",
    "plt.tight_layout()\n",
    "plt.show()"
   ]
  },
  {
   "cell_type": "markdown",
   "id": "2c6bfdae",
   "metadata": {},
   "source": [
    "### Altri metodi di scaling\n",
    "[https://scikit-learn.org/stable/modules/preprocessing.html#standardization-or-mean-removal-and-variance-scaling](https://scikit-learn.org/stable/modules/preprocessing.html#standardization-or-mean-removal-and-variance-scaling)"
   ]
  },
  {
   "cell_type": "code",
   "execution_count": 44,
   "id": "a9570d1f",
   "metadata": {},
   "outputs": [],
   "source": [
    "from IPython.display import display"
   ]
  },
  {
   "cell_type": "code",
   "execution_count": 45,
   "id": "e069ceaa",
   "metadata": {},
   "outputs": [
    {
     "data": {
      "text/plain": [
       "'StandardScaler'"
      ]
     },
     "metadata": {},
     "output_type": "display_data"
    },
    {
     "data": {
      "text/html": [
       "<div>\n",
       "<style scoped>\n",
       "    .dataframe tbody tr th:only-of-type {\n",
       "        vertical-align: middle;\n",
       "    }\n",
       "\n",
       "    .dataframe tbody tr th {\n",
       "        vertical-align: top;\n",
       "    }\n",
       "\n",
       "    .dataframe thead th {\n",
       "        text-align: right;\n",
       "    }\n",
       "</style>\n",
       "<table border=\"1\" class=\"dataframe\">\n",
       "  <thead>\n",
       "    <tr style=\"text-align: right;\">\n",
       "      <th></th>\n",
       "      <th>count</th>\n",
       "      <th>mean</th>\n",
       "      <th>std</th>\n",
       "      <th>min</th>\n",
       "      <th>25%</th>\n",
       "      <th>50%</th>\n",
       "      <th>75%</th>\n",
       "      <th>max</th>\n",
       "    </tr>\n",
       "  </thead>\n",
       "  <tbody>\n",
       "    <tr>\n",
       "      <th>0</th>\n",
       "      <td>18207.0</td>\n",
       "      <td>1.233215e-16</td>\n",
       "      <td>1.000027</td>\n",
       "      <td>-1.557914</td>\n",
       "      <td>-1.535574</td>\n",
       "      <td>0.229281</td>\n",
       "      <td>0.676080</td>\n",
       "      <td>2.463275</td>\n",
       "    </tr>\n",
       "    <tr>\n",
       "      <th>1</th>\n",
       "      <td>18207.0</td>\n",
       "      <td>-9.428633e-16</td>\n",
       "      <td>1.000027</td>\n",
       "      <td>-3.594778</td>\n",
       "      <td>-0.769256</td>\n",
       "      <td>-0.062876</td>\n",
       "      <td>0.643504</td>\n",
       "      <td>4.946003</td>\n",
       "    </tr>\n",
       "  </tbody>\n",
       "</table>\n",
       "</div>"
      ],
      "text/plain": [
       "     count          mean       std       min       25%       50%       75%  \\\n",
       "0  18207.0  1.233215e-16  1.000027 -1.557914 -1.535574  0.229281  0.676080   \n",
       "1  18207.0 -9.428633e-16  1.000027 -3.594778 -0.769256 -0.062876  0.643504   \n",
       "\n",
       "        max  \n",
       "0  2.463275  \n",
       "1  4.946003  "
      ]
     },
     "metadata": {},
     "output_type": "display_data"
    },
    {
     "data": {
      "text/plain": [
       "'MinMaxScaler'"
      ]
     },
     "metadata": {},
     "output_type": "display_data"
    },
    {
     "data": {
      "text/html": [
       "<div>\n",
       "<style scoped>\n",
       "    .dataframe tbody tr th:only-of-type {\n",
       "        vertical-align: middle;\n",
       "    }\n",
       "\n",
       "    .dataframe tbody tr th {\n",
       "        vertical-align: top;\n",
       "    }\n",
       "\n",
       "    .dataframe thead th {\n",
       "        text-align: right;\n",
       "    }\n",
       "</style>\n",
       "<table border=\"1\" class=\"dataframe\">\n",
       "  <thead>\n",
       "    <tr style=\"text-align: right;\">\n",
       "      <th></th>\n",
       "      <th>count</th>\n",
       "      <th>mean</th>\n",
       "      <th>std</th>\n",
       "      <th>min</th>\n",
       "      <th>25%</th>\n",
       "      <th>50%</th>\n",
       "      <th>75%</th>\n",
       "      <th>max</th>\n",
       "    </tr>\n",
       "  </thead>\n",
       "  <tbody>\n",
       "    <tr>\n",
       "      <th>0</th>\n",
       "      <td>18207.0</td>\n",
       "      <td>0.387426</td>\n",
       "      <td>0.248689</td>\n",
       "      <td>0.0</td>\n",
       "      <td>0.005556</td>\n",
       "      <td>0.444444</td>\n",
       "      <td>0.555556</td>\n",
       "      <td>1.0</td>\n",
       "    </tr>\n",
       "    <tr>\n",
       "      <th>1</th>\n",
       "      <td>18207.0</td>\n",
       "      <td>0.420896</td>\n",
       "      <td>0.117089</td>\n",
       "      <td>0.0</td>\n",
       "      <td>0.330827</td>\n",
       "      <td>0.413534</td>\n",
       "      <td>0.496241</td>\n",
       "      <td>1.0</td>\n",
       "    </tr>\n",
       "  </tbody>\n",
       "</table>\n",
       "</div>"
      ],
      "text/plain": [
       "     count      mean       std  min       25%       50%       75%  max\n",
       "0  18207.0  0.387426  0.248689  0.0  0.005556  0.444444  0.555556  1.0\n",
       "1  18207.0  0.420896  0.117089  0.0  0.330827  0.413534  0.496241  1.0"
      ]
     },
     "metadata": {},
     "output_type": "display_data"
    },
    {
     "data": {
      "text/plain": [
       "'MaxAbsScaler'"
      ]
     },
     "metadata": {},
     "output_type": "display_data"
    },
    {
     "data": {
      "text/html": [
       "<div>\n",
       "<style scoped>\n",
       "    .dataframe tbody tr th:only-of-type {\n",
       "        vertical-align: middle;\n",
       "    }\n",
       "\n",
       "    .dataframe tbody tr th {\n",
       "        vertical-align: top;\n",
       "    }\n",
       "\n",
       "    .dataframe thead th {\n",
       "        text-align: right;\n",
       "    }\n",
       "</style>\n",
       "<table border=\"1\" class=\"dataframe\">\n",
       "  <thead>\n",
       "    <tr style=\"text-align: right;\">\n",
       "      <th></th>\n",
       "      <th>count</th>\n",
       "      <th>mean</th>\n",
       "      <th>std</th>\n",
       "      <th>min</th>\n",
       "      <th>25%</th>\n",
       "      <th>50%</th>\n",
       "      <th>75%</th>\n",
       "      <th>max</th>\n",
       "    </tr>\n",
       "  </thead>\n",
       "  <tbody>\n",
       "    <tr>\n",
       "      <th>0</th>\n",
       "      <td>18207.0</td>\n",
       "      <td>0.840198</td>\n",
       "      <td>0.064876</td>\n",
       "      <td>0.739130</td>\n",
       "      <td>0.740580</td>\n",
       "      <td>0.855072</td>\n",
       "      <td>0.884058</td>\n",
       "      <td>1.0</td>\n",
       "    </tr>\n",
       "    <tr>\n",
       "      <th>1</th>\n",
       "      <td>18207.0</td>\n",
       "      <td>0.683042</td>\n",
       "      <td>0.064085</td>\n",
       "      <td>0.452675</td>\n",
       "      <td>0.633745</td>\n",
       "      <td>0.679012</td>\n",
       "      <td>0.724280</td>\n",
       "      <td>1.0</td>\n",
       "    </tr>\n",
       "  </tbody>\n",
       "</table>\n",
       "</div>"
      ],
      "text/plain": [
       "     count      mean       std       min       25%       50%       75%  max\n",
       "0  18207.0  0.840198  0.064876  0.739130  0.740580  0.855072  0.884058  1.0\n",
       "1  18207.0  0.683042  0.064085  0.452675  0.633745  0.679012  0.724280  1.0"
      ]
     },
     "metadata": {},
     "output_type": "display_data"
    },
    {
     "data": {
      "text/plain": [
       "'RobustScaler'"
      ]
     },
     "metadata": {},
     "output_type": "display_data"
    },
    {
     "data": {
      "text/html": [
       "<div>\n",
       "<style scoped>\n",
       "    .dataframe tbody tr th:only-of-type {\n",
       "        vertical-align: middle;\n",
       "    }\n",
       "\n",
       "    .dataframe tbody tr th {\n",
       "        vertical-align: top;\n",
       "    }\n",
       "\n",
       "    .dataframe thead th {\n",
       "        text-align: right;\n",
       "    }\n",
       "</style>\n",
       "<table border=\"1\" class=\"dataframe\">\n",
       "  <thead>\n",
       "    <tr style=\"text-align: right;\">\n",
       "      <th></th>\n",
       "      <th>count</th>\n",
       "      <th>mean</th>\n",
       "      <th>std</th>\n",
       "      <th>min</th>\n",
       "      <th>25%</th>\n",
       "      <th>50%</th>\n",
       "      <th>75%</th>\n",
       "      <th>max</th>\n",
       "    </tr>\n",
       "  </thead>\n",
       "  <tbody>\n",
       "    <tr>\n",
       "      <th>0</th>\n",
       "      <td>18207.0</td>\n",
       "      <td>-0.103670</td>\n",
       "      <td>0.452163</td>\n",
       "      <td>-0.808081</td>\n",
       "      <td>-0.79798</td>\n",
       "      <td>0.0</td>\n",
       "      <td>0.20202</td>\n",
       "      <td>1.010101</td>\n",
       "    </tr>\n",
       "    <tr>\n",
       "      <th>1</th>\n",
       "      <td>18207.0</td>\n",
       "      <td>0.044506</td>\n",
       "      <td>0.707853</td>\n",
       "      <td>-2.500000</td>\n",
       "      <td>-0.50000</td>\n",
       "      <td>0.0</td>\n",
       "      <td>0.50000</td>\n",
       "      <td>3.545455</td>\n",
       "    </tr>\n",
       "  </tbody>\n",
       "</table>\n",
       "</div>"
      ],
      "text/plain": [
       "     count      mean       std       min      25%  50%      75%       max\n",
       "0  18207.0 -0.103670  0.452163 -0.808081 -0.79798  0.0  0.20202  1.010101\n",
       "1  18207.0  0.044506  0.707853 -2.500000 -0.50000  0.0  0.50000  3.545455"
      ]
     },
     "metadata": {},
     "output_type": "display_data"
    }
   ],
   "source": [
    "scalers = [pre.StandardScaler(), pre.MinMaxScaler(), pre.MaxAbsScaler(), pre.RobustScaler()]\n",
    "for scaler in scalers:\n",
    "    Xt = scaler.fit_transform(Xi)\n",
    "    display(scaler.__class__.__name__)\n",
    "    display(pd.DataFrame(Xt).describe().T)"
   ]
  },
  {
   "cell_type": "markdown",
   "id": "d2b12b1e",
   "metadata": {},
   "source": [
    "### Pipeline"
   ]
  },
  {
   "cell_type": "code",
   "execution_count": 46,
   "id": "15b1d11c",
   "metadata": {},
   "outputs": [],
   "source": [
    "from sklearn.pipeline import Pipeline"
   ]
  },
  {
   "cell_type": "code",
   "execution_count": 56,
   "id": "02a7407a",
   "metadata": {},
   "outputs": [],
   "source": [
    "pipe = Pipeline([('scaler', pre.MinMaxScaler()), ('kmeans', KMeans(n_clusters=4))])"
   ]
  },
  {
   "cell_type": "code",
   "execution_count": 57,
   "id": "130a5122",
   "metadata": {},
   "outputs": [
    {
     "data": {
      "text/plain": [
       "array([[ 1.73736   , 72.12118683],\n",
       "       [ 1.88976   , 83.00740371],\n",
       "       [ 1.79832   , 68.0388555 ],\n",
       "       ...,\n",
       "       [ 1.76784   , 67.13167076],\n",
       "       [ 1.55448   , 69.85322498],\n",
       "       [ 1.55448   , 79.83225712]])"
      ]
     },
     "execution_count": 57,
     "metadata": {},
     "output_type": "execute_result"
    }
   ],
   "source": [
    "Xi"
   ]
  },
  {
   "cell_type": "code",
   "execution_count": 58,
   "id": "ee6d7d71",
   "metadata": {},
   "outputs": [],
   "source": [
    "clusters = pipe.fit_predict(Xi)"
   ]
  },
  {
   "cell_type": "code",
   "execution_count": 59,
   "id": "f8f2dff2",
   "metadata": {},
   "outputs": [
    {
     "data": {
      "image/png": "[encoded data removed]",
      "text/plain": [
       "<Figure size 576x288 with 2 Axes>"
      ]
     },
     "metadata": {
      "needs_background": "light"
     },
     "output_type": "display_data"
    }
   ],
   "source": [
    "fig, ax = plt.subplots(figsize=(8, 4), ncols=2)\n",
    "ax[0].scatter(X[:,0], X[:,1], alpha=.4)\n",
    "ax[1].scatter(X[:,0], X[:,1], alpha=.4, c=clusters)\n",
    "plt.tight_layout()\n",
    "plt.show()"
   ]
  },
  {
   "cell_type": "markdown",
   "id": "a41ecb3c",
   "metadata": {},
   "source": [
    "## Trasformazioni non lineari\n",
    "\n",
    "[https://scikit-learn.org/stable/modules/generated/sklearn.preprocessing.QuantileTransformer.html#sklearn.preprocessing.QuantileTransformer](https://scikit-learn.org/stable/modules/generated/sklearn.preprocessing.QuantileTransformer.html#sklearn.preprocessing.QuantileTransformer)\n",
    "\n",
    "\n",
    "[https://scikit-learn.org/stable/modules/generated/sklearn.preprocessing.PowerTransformer.html#sklearn.preprocessing.PowerTransformer](https://scikit-learn.org/stable/modules/generated/sklearn.preprocessing.PowerTransformer.html#sklearn.preprocessing.PowerTransformer)"
   ]
  },
  {
   "cell_type": "code",
   "execution_count": 71,
   "id": "9c34f47a",
   "metadata": {},
   "outputs": [
    {
     "data": {
      "text/plain": [
       "array([1.55448 , 1.557528, 1.79832 , 1.85928 , 2.10312 ])"
      ]
     },
     "execution_count": 71,
     "metadata": {},
     "output_type": "execute_result"
    }
   ],
   "source": [
    "np.percentile(Xi[:,0], [0, 25, 50, 75, 100])"
   ]
  },
  {
   "cell_type": "code",
   "execution_count": 82,
   "id": "64bf2c21",
   "metadata": {},
   "outputs": [
    {
     "data": {
      "text/plain": [
       "array([0.        , 0.1956957 , 0.44894895, 0.72072072, 1.        ])"
      ]
     },
     "execution_count": 82,
     "metadata": {},
     "output_type": "execute_result"
    }
   ],
   "source": [
    "Xiq = pre.QuantileTransformer(output_distribution='uniform').fit_transform(Xi)\n",
    "np.percentile(Xiq[:,0], [0, 25, 50, 75, 100])"
   ]
  },
  {
   "cell_type": "code",
   "execution_count": 78,
   "id": "a8028e00",
   "metadata": {},
   "outputs": [],
   "source": [
    "Xip = pre.PowerTransformer().fit_transform(Xi)"
   ]
  },
  {
   "cell_type": "code",
   "execution_count": 79,
   "id": "75d2b20b",
   "metadata": {},
   "outputs": [],
   "source": [
    "def scatter_hist(x, y, ax, ax_histx, ax_histy, colors):\n",
    "    ax_histx.tick_params(axis=\"x\", labelbottom=False)\n",
    "    ax_histy.tick_params(axis=\"y\", labelleft=False)\n",
    "    ax.scatter(x, y, alpha=0.4, c=colors)\n",
    "\n",
    "    binwidth = 0.25\n",
    "    xymax = max(np.max(np.abs(x)), np.max(np.abs(y)))\n",
    "    lim = (int(xymax/binwidth) + 1) * binwidth\n",
    "\n",
    "    bins = np.arange(-lim, lim + binwidth, binwidth)\n",
    "    ax_histx.hist(x, bins=bins)\n",
    "    ax_histy.hist(y, bins=bins, orientation='horizontal')"
   ]
  },
  {
   "cell_type": "code",
   "execution_count": 80,
   "id": "b5d8456f",
   "metadata": {},
   "outputs": [],
   "source": [
    "def make_plot(data, colors):\n",
    "    left, width = 0.1, 0.65\n",
    "    bottom, height = 0.1, 0.65\n",
    "    spacing = 0.005\n",
    "    rect_scatter = [left, bottom, width, height]\n",
    "    rect_histx = [left, bottom + height + spacing, width, 0.2]\n",
    "    rect_histy = [left + width + spacing, bottom, 0.2, height]\n",
    "    fig = plt.figure(figsize=(8, 8))\n",
    "    ax = fig.add_axes(rect_scatter)\n",
    "    ax_histx = fig.add_axes(rect_histx, sharex=ax)\n",
    "    ax_histy = fig.add_axes(rect_histy, sharey=ax)\n",
    "    scatter_hist(data[:,0], data[:,1], ax, ax_histx, ax_histy, colors)\n",
    "    plt.show()"
   ]
  },
  {
   "cell_type": "code",
   "execution_count": 83,
   "id": "007f3f67",
   "metadata": {},
   "outputs": [
    {
     "data": {
      "image/png": "[encoded data removed]",
      "text/plain": [
       "<Figure size 576x576 with 3 Axes>"
      ]
     },
     "metadata": {
      "needs_background": "light"
     },
     "output_type": "display_data"
    }
   ],
   "source": [
    "make_plot(Xiq, colors=clusters)"
   ]
  },
  {
   "cell_type": "markdown",
   "id": "83171293",
   "metadata": {},
   "source": [
    "### Sommario\n",
    "Si veda [https://scikit-learn.org/stable/auto_examples/preprocessing/plot_all_scaling.html#sphx-glr-auto-examples-preprocessing-plot-all-scaling-py](https://scikit-learn.org/stable/auto_examples/preprocessing/plot_all_scaling.html#sphx-glr-auto-examples-preprocessing-plot-all-scaling-py)"
   ]
  },
  {
   "cell_type": "markdown",
   "id": "680f3a08",
   "metadata": {},
   "source": [
    "## Encoding categorical features"
   ]
  },
  {
   "cell_type": "code",
   "execution_count": 84,
   "id": "5fe73372",
   "metadata": {},
   "outputs": [],
   "source": [
    "Y = D[['Age', 'Nationality', 'Overall', 'Club']].dropna().to_numpy()"
   ]
  },
  {
   "cell_type": "code",
   "execution_count": 85,
   "id": "22331b5a",
   "metadata": {},
   "outputs": [
    {
     "data": {
      "text/plain": [
       "array([[31, 'Argentina', 94, 'FC Barcelona'],\n",
       "       [33, 'Portugal', 94, 'Juventus'],\n",
       "       [26, 'Brazil', 92, 'Paris Saint-Germain'],\n",
       "       ...,\n",
       "       [16, 'England', 47, 'Cambridge United'],\n",
       "       [17, 'England', 47, 'Tranmere Rovers'],\n",
       "       [16, 'England', 46, 'Tranmere Rovers']], dtype=object)"
      ]
     },
     "execution_count": 85,
     "metadata": {},
     "output_type": "execute_result"
    }
   ],
   "source": [
    "Y"
   ]
  },
  {
   "cell_type": "code",
   "execution_count": 86,
   "id": "5217f1d3",
   "metadata": {},
   "outputs": [],
   "source": [
    "ordn = pre.OrdinalEncoder()\n",
    "Yo = ordn.fit_transform(Y)"
   ]
  },
  {
   "cell_type": "code",
   "execution_count": 88,
   "id": "bd4b4b39",
   "metadata": {},
   "outputs": [
    {
     "data": {
      "text/plain": [
       "[array([16, 17, 18, 19, 20, 21, 22, 23, 24, 25, 26, 27, 28, 29, 30, 31, 32,\n",
       "        33, 34, 35, 36, 37, 38, 39, 40, 41, 42, 44, 45], dtype=object),\n",
       " array(['Afghanistan', 'Albania', 'Algeria', 'Andorra', 'Angola',\n",
       "        'Antigua & Barbuda', 'Argentina', 'Armenia', 'Australia',\n",
       "        'Austria', 'Azerbaijan', 'Barbados', 'Belarus', 'Belgium',\n",
       "        'Belize', 'Benin', 'Bermuda', 'Bolivia', 'Bosnia Herzegovina',\n",
       "        'Botswana', 'Brazil', 'Bulgaria', 'Burkina Faso', 'Burundi',\n",
       "        'Cameroon', 'Canada', 'Cape Verde', 'Central African Rep.', 'Chad',\n",
       "        'Chile', 'China PR', 'Colombia', 'Comoros', 'Congo', 'Costa Rica',\n",
       "        'Croatia', 'Cuba', 'Curacao', 'Cyprus', 'Czech Republic',\n",
       "        'DR Congo', 'Denmark', 'Dominican Republic', 'Ecuador', 'Egypt',\n",
       "        'El Salvador', 'England', 'Equatorial Guinea', 'Eritrea',\n",
       "        'Estonia', 'Ethiopia', 'FYR Macedonia', 'Faroe Islands', 'Fiji',\n",
       "        'Finland', 'France', 'Gabon', 'Gambia', 'Georgia', 'Germany',\n",
       "        'Ghana', 'Greece', 'Grenada', 'Guam', 'Guatemala', 'Guinea',\n",
       "        'Guinea Bissau', 'Guyana', 'Haiti', 'Honduras', 'Hong Kong',\n",
       "        'Hungary', 'Iceland', 'Indonesia', 'Iran', 'Iraq', 'Israel',\n",
       "        'Italy', 'Ivory Coast', 'Jamaica', 'Japan', 'Jordan', 'Kazakhstan',\n",
       "        'Kenya', 'Korea DPR', 'Korea Republic', 'Kosovo', 'Kuwait',\n",
       "        'Latvia', 'Lebanon', 'Liberia', 'Libya', 'Liechtenstein',\n",
       "        'Lithuania', 'Luxembourg', 'Madagascar', 'Mali', 'Malta',\n",
       "        'Mauritania', 'Mauritius', 'Mexico', 'Moldova', 'Montenegro',\n",
       "        'Montserrat', 'Morocco', 'Mozambique', 'Namibia', 'Netherlands',\n",
       "        'New Caledonia', 'New Zealand', 'Nicaragua', 'Niger', 'Nigeria',\n",
       "        'Northern Ireland', 'Norway', 'Oman', 'Palestine', 'Panama',\n",
       "        'Paraguay', 'Peru', 'Philippines', 'Poland', 'Portugal',\n",
       "        'Puerto Rico', 'Qatar', 'Republic of Ireland', 'Romania', 'Russia',\n",
       "        'Rwanda', 'Saudi Arabia', 'Scotland', 'Senegal', 'Serbia',\n",
       "        'Sierra Leone', 'Slovakia', 'Slovenia', 'South Africa',\n",
       "        'South Sudan', 'Spain', 'St Kitts Nevis', 'St Lucia', 'Sudan',\n",
       "        'Suriname', 'Sweden', 'Switzerland', 'Syria',\n",
       "        'São Tomé & Príncipe', 'Tanzania', 'Thailand', 'Togo',\n",
       "        'Trinidad & Tobago', 'Tunisia', 'Turkey', 'Uganda', 'Ukraine',\n",
       "        'United Arab Emirates', 'United States', 'Uruguay', 'Uzbekistan',\n",
       "        'Venezuela', 'Wales', 'Zambia', 'Zimbabwe'], dtype=object),\n",
       " array([46, 47, 48, 49, 50, 51, 52, 53, 54, 55, 56, 57, 58, 59, 60, 61, 62,\n",
       "        63, 64, 65, 66, 67, 68, 69, 70, 71, 72, 73, 74, 75, 76, 77, 78, 79,\n",
       "        80, 81, 82, 83, 84, 85, 86, 87, 88, 89, 90, 91, 92, 94],\n",
       "       dtype=object),\n",
       " array([' SSV Jahn Regensburg', '1. FC Heidenheim 1846',\n",
       "        '1. FC Kaiserslautern', '1. FC Köln', '1. FC Magdeburg',\n",
       "        '1. FC Nürnberg', '1. FC Union Berlin', '1. FSV Mainz 05',\n",
       "        'AC Ajaccio', 'AC Horsens', 'AD Alcorcón', 'ADO Den Haag',\n",
       "        'AEK Athens', 'AFC Wimbledon', 'AIK', 'AJ Auxerre', 'AS Béziers',\n",
       "        'AS Monaco', 'AS Nancy Lorraine', 'AS Saint-Étienne', 'AZ Alkmaar',\n",
       "        'Aalborg BK', 'Aarhus GF', 'Aberdeen', 'Accrington Stanley',\n",
       "        'Adelaide United', 'Ajax', 'Akhisar Belediyespor', 'Al Ahli',\n",
       "        'Al Batin', 'Al Faisaly', 'Al Fateh', 'Al Fayha', 'Al Hazem',\n",
       "        'Al Hilal', 'Al Ittihad', 'Al Nassr', 'Al Qadisiyah', 'Al Raed',\n",
       "        'Al Shabab', 'Al Taawoun', 'Al Wehda', 'Alanyaspor', 'Albacete BP',\n",
       "        'Alianza Petrolera', 'Amiens SC', 'América FC (Minas Gerais)',\n",
       "        'América de Cali', 'Angers SCO', 'Antalyaspor',\n",
       "        'Argentinos Juniors', 'Arka Gdynia', 'Arsenal', 'Ascoli',\n",
       "        'Aston Villa', 'Atalanta', 'Athletic Club de Bilbao',\n",
       "        'Atiker Konyaspor', 'Atlanta United', 'Atlético Bucaramanga',\n",
       "        'Atlético Huila', 'Atlético Madrid', 'Atlético Mineiro',\n",
       "        'Atlético Nacional', 'Atlético Paranaense', 'Atlético Tucumán',\n",
       "        'Audax Italiano', 'BB Erzurumspor', 'BK Häcken', 'BSC Young Boys',\n",
       "        'Bahia', 'Barnsley', 'Bayer 04 Leverkusen', 'Beijing Renhe FC',\n",
       "        'Beijing Sinobo Guoan FC', 'Belgrano de Córdoba', 'Benevento',\n",
       "        'Beşiktaş JK', 'Birmingham City', 'Blackburn Rovers', 'Blackpool',\n",
       "        'Boavista FC', 'Boca Juniors', 'Bohemian FC', 'Bologna',\n",
       "        'Bolton Wanderers', 'Borussia Dortmund',\n",
       "        'Borussia Mönchengladbach', 'Botafogo', 'Bournemouth',\n",
       "        'Boyacá Chicó FC', 'Bradford City', 'Bray Wanderers', 'Brentford',\n",
       "        'Brescia', 'Brighton & Hove Albion', 'Brisbane Roar',\n",
       "        'Bristol City', 'Bristol Rovers', 'Brøndby IF', 'Burnley',\n",
       "        'Bursaspor', 'Burton Albion', 'Bury', 'CA Osasuna',\n",
       "        'CD Antofagasta', 'CD Aves', 'CD Everton de Viña del Mar',\n",
       "        'CD Feirense', 'CD Huachipato', 'CD Leganés', 'CD Lugo',\n",
       "        'CD Nacional', 'CD Numancia', \"CD O'Higgins\", 'CD Palestino',\n",
       "        'CD Tenerife', 'CD Tondela', 'CD Universidad de Concepción',\n",
       "        'CF Rayo Majadahonda', 'CF Reus Deportiu', 'Cagliari',\n",
       "        'Cambridge United', 'Cardiff City', 'Carlisle United', 'Carpi',\n",
       "        'Ceará Sporting Club', 'Celtic', 'Central Coast Mariners',\n",
       "        'Cerezo Osaka', 'Chamois Niortais Football Club',\n",
       "        'Changchun Yatai FC', 'Chapecoense', 'Charlton Athletic',\n",
       "        'Chelsea', 'Cheltenham Town', 'Chicago Fire', 'Chievo Verona',\n",
       "        'Chongqing Dangdai Lifan FC SWM Team', 'Cittadella',\n",
       "        'Clermont Foot 63', 'Club América', 'Club Atlas',\n",
       "        'Club Atlético Aldosivi', 'Club Atlético Banfield',\n",
       "        'Club Atlético Colón', 'Club Atlético Huracán',\n",
       "        'Club Atlético Lanús', 'Club Atlético Talleres',\n",
       "        'Club Atlético Tigre', 'Club Brugge KV', 'Club Deportes Temuco',\n",
       "        'Club León', 'Club Necaxa', 'Club Tijuana', 'Clube Sport Marítimo',\n",
       "        'Colchester United', 'Colo-Colo', 'Colorado Rapids',\n",
       "        'Columbus Crew SC', 'Cork City', 'Cosenza', 'Coventry City',\n",
       "        'Cracovia', 'Crawley Town', 'Crewe Alexandra', 'Crotone',\n",
       "        'Cruz Azul', 'Cruzeiro', 'Crystal Palace', 'Curicó Unido',\n",
       "        'Cádiz CF', 'Córdoba CF', 'DC United', 'DSC Arminia Bielefeld',\n",
       "        'Daegu FC', 'Dalian YiFang FC', 'Dalkurd FF', 'De Graafschap',\n",
       "        'Defensa y Justicia', 'Deportes Iquique', 'Deportes Tolima',\n",
       "        'Deportivo Alavés', 'Deportivo Cali', 'Deportivo Pasto',\n",
       "        'Deportivo Toluca', 'Deportivo de La Coruña', 'Derby County',\n",
       "        'Derry City', 'Dijon FCO', 'Dinamo Zagreb', 'Djurgårdens IF',\n",
       "        'Doncaster Rovers', 'Dundalk', 'Dundee FC', 'Dynamo Kyiv',\n",
       "        'ESTAC Troyes', 'Eintracht Braunschweig', 'Eintracht Frankfurt',\n",
       "        'Elche CF', 'Empoli', 'En Avant de Guingamp', 'Envigado FC',\n",
       "        'Esbjerg fB', 'Estudiantes de La Plata', 'Ettifaq FC', 'Everton',\n",
       "        'Excelsior', 'Exeter City', 'Extremadura UD',\n",
       "        'FC Admira Wacker Mödling', 'FC Augsburg', 'FC Barcelona',\n",
       "        'FC Basel 1893', 'FC Bayern München', 'FC Carl Zeiss Jena',\n",
       "        'FC Dallas', 'FC Emmen', 'FC Energie Cottbus', 'FC Erzgebirge Aue',\n",
       "        'FC Girondins de Bordeaux', 'FC Groningen', 'FC Hansa Rostock',\n",
       "        'FC Ingolstadt 04', 'FC København', 'FC Lorient', 'FC Lugano',\n",
       "        'FC Luzern', 'FC Metz', 'FC Midtjylland', 'FC Nantes',\n",
       "        'FC Nordsjælland', 'FC Porto', 'FC Red Bull Salzburg',\n",
       "        'FC Schalke 04', 'FC Seoul', 'FC Sion', 'FC Sochaux-Montbéliard',\n",
       "        'FC St. Gallen', 'FC St. Pauli', 'FC Thun', 'FC Tokyo',\n",
       "        'FC Utrecht', 'FC Wacker Innsbruck', 'FC Würzburger Kickers',\n",
       "        'FC Zürich', 'FK Austria Wien', 'FK Bodø/Glimt', 'FK Haugesund',\n",
       "        'FSV Zwickau', 'Fenerbahçe SK', 'Feyenoord', 'Fiorentina',\n",
       "        'Fleetwood Town', 'Fluminense', 'Foggia', 'Forest Green Rovers',\n",
       "        'Fortuna Düsseldorf', 'Fortuna Sittard', 'Frosinone', 'Fulham',\n",
       "        'GD Chaves', 'GFC Ajaccio', 'GIF Sundsvall', 'Galatasaray SK',\n",
       "        'Gamba Osaka', 'Gangwon FC', 'Genoa', 'Getafe CF', 'Gillingham',\n",
       "        'Gimnasia y Esgrima La Plata', 'Gimnàstic de Tarragona',\n",
       "        'Girona FC', 'Godoy Cruz', 'Granada CF', 'Grasshopper Club Zürich',\n",
       "        'Grenoble Foot 38', 'Grimsby Town', 'Grêmio', 'Guadalajara',\n",
       "        'Guangzhou Evergrande Taobao FC', 'Guangzhou R&F; FC',\n",
       "        'Guizhou Hengfeng FC', 'Gyeongnam FC', 'Górnik Zabrze',\n",
       "        'Göztepe SK', 'HJK Helsinki', 'Hallescher FC', 'Hamburger SV',\n",
       "        'Hamilton Academical FC', 'Hammarby IF', 'Hannover 96',\n",
       "        'Heart of Midlothian', 'Hebei China Fortune FC', 'Hellas Verona',\n",
       "        'Henan Jianye FC', 'Heracles Almelo', 'Hertha BSC', 'Hibernian',\n",
       "        'Hobro IK', 'Hokkaido Consadole Sapporo', 'Holstein Kiel',\n",
       "        'Houston Dynamo', 'Huddersfield Town', 'Hull City',\n",
       "        'IF Brommapojkarna', 'IF Elfsborg', 'IFK Göteborg',\n",
       "        'IFK Norrköping', 'IK Sirius', 'IK Start', 'Incheon United FC',\n",
       "        'Independiente', 'Independiente Medellín',\n",
       "        'Independiente Santa Fe', 'Inter', 'Internacional', 'Ipswich Town',\n",
       "        'Itagüí Leones FC', 'Jagiellonia Białystok', 'Jaguares de Córdoba',\n",
       "        'Jeju United FC', 'Jeonbuk Hyundai Motors', 'Jeonnam Dragons',\n",
       "        'Jiangsu Suning FC', 'Junior FC', 'Juventus', 'Júbilo Iwata',\n",
       "        'KAA Gent', 'KAS Eupen', 'KFC Uerdingen 05', 'KRC Genk',\n",
       "        'KSV Cercle Brugge', 'KV Kortrijk', 'KV Oostende', 'Kaizer Chiefs',\n",
       "        'Kalmar FF', 'Karlsruher SC', 'Kashima Antlers', 'Kashiwa Reysol',\n",
       "        'Kasimpaşa SK', 'Kawasaki Frontale', 'Kayserispor', 'Kilmarnock',\n",
       "        'Korona Kielce', 'Kristiansund BK', 'LA Galaxy', 'LASK Linz',\n",
       "        'LOSC Lille', 'La Berrichonne de Châteauroux', 'La Equidad',\n",
       "        'Lazio', 'Le Havre AC', 'Lecce', 'Lech Poznań', 'Lechia Gdańsk',\n",
       "        'Leeds United', 'Legia Warszawa', 'Leicester City', 'Levante UD',\n",
       "        'Lillestrøm SK', 'Limerick FC', 'Lincoln City', 'Liverpool',\n",
       "        'Livingston FC', 'Livorno', 'Lobos BUAP', 'Lokomotiv Moscow',\n",
       "        'Los Angeles FC', 'Luton Town', 'MKE Ankaragücü', 'MSV Duisburg',\n",
       "        'Macclesfield Town', 'Malmö FF', 'Manchester City',\n",
       "        'Manchester United', 'Mansfield Town', 'Medipol Başakşehir FK',\n",
       "        'Melbourne City FC', 'Melbourne Victory', 'Middlesbrough',\n",
       "        'Miedź Legnica', 'Milan', 'Millonarios FC', 'Millwall',\n",
       "        'Milton Keynes Dons', 'Minnesota United FC', 'Molde FK',\n",
       "        'Monarcas Morelia', 'Monterrey', 'Montpellier HSC',\n",
       "        'Montreal Impact', 'Morecambe', 'Moreirense FC', 'Motherwell',\n",
       "        'Málaga CF', 'NAC Breda', 'Nagoya Grampus', 'Napoli',\n",
       "        'Neuchâtel Xamax', 'New England Revolution', 'New York City FC',\n",
       "        'New York Red Bulls', 'Newcastle Jets', 'Newcastle United',\n",
       "        \"Newell's Old Boys\", 'Newport County', 'Northampton Town',\n",
       "        'Norwich City', 'Nottingham Forest', 'Notts County',\n",
       "        'Nîmes Olympique', 'OGC Nice', 'Odds BK', 'Odense Boldklub',\n",
       "        'Ohod Club', 'Oldham Athletic', 'Olympiacos CFP',\n",
       "        'Olympique Lyonnais', 'Olympique de Marseille', 'Once Caldas',\n",
       "        'Orlando City SC', 'Orlando Pirates', 'Os Belenenses',\n",
       "        'Oxford United', 'PAOK', 'PEC Zwolle', 'PFC CSKA Moscow', 'PSV',\n",
       "        'Pachuca', 'Padova', 'Palermo', 'Panathinaikos FC', 'Paraná',\n",
       "        'Paris FC', 'Paris Saint-Germain', 'Parma', 'Patriotas Boyacá FC',\n",
       "        'Patronato', 'Perth Glory', 'Perugia', 'Pescara',\n",
       "        'Peterborough United', 'Philadelphia Union', 'Piast Gliwice',\n",
       "        'Plymouth Argyle', 'Pogoń Szczecin', 'Pohang Steelers',\n",
       "        'Port Vale', 'Portimonense SC', 'Portland Timbers', 'Portsmouth',\n",
       "        'Preston North End', 'Puebla FC', 'Queens Park Rangers',\n",
       "        'Querétaro', 'RB Leipzig', 'RC Celta', 'RC Strasbourg Alsace',\n",
       "        'RCD Espanyol', 'RCD Mallorca', 'RSC Anderlecht', 'Racing Club',\n",
       "        'Racing Club de Lens', 'Randers FC', 'Rangers FC',\n",
       "        'Ranheim Fotball', 'Rayo Vallecano', 'Reading', 'Real Betis',\n",
       "        'Real Madrid', 'Real Oviedo', 'Real Salt Lake', 'Real Sociedad',\n",
       "        'Real Sporting de Gijón', 'Real Valladolid CF', 'Real Zaragoza',\n",
       "        'Red Star FC', 'Rio Ave FC', 'Rionegro Águilas', 'River Plate',\n",
       "        'Rochdale', 'Roma', 'Rosario Central', 'Rosenborg BK',\n",
       "        'Rotherham United', 'Royal Antwerp FC', 'Royal Excel Mouscron',\n",
       "        'SC Braga', 'SC Fortuna Köln', 'SC Freiburg', 'SC Heerenveen',\n",
       "        'SC Paderborn 07', 'SC Preußen Münster', 'SCR Altach', 'SD Eibar',\n",
       "        'SD Huesca', 'SG Dynamo Dresden', 'SG Sonnenhof Großaspach',\n",
       "        'SK Brann', 'SK Rapid Wien', 'SK Slavia Praha', 'SK Sturm Graz',\n",
       "        'SKN St. Pölten', 'SL Benfica', 'SPAL', 'SV Darmstadt 98',\n",
       "        'SV Mattersburg', 'SV Meppen', 'SV Sandhausen',\n",
       "        'SV Wehen Wiesbaden', 'SV Werder Bremen', 'SV Zulte-Waregem',\n",
       "        'Sagan Tosu', 'Sampdoria', 'San Jose Earthquakes',\n",
       "        'San Lorenzo de Almagro', 'San Luis de Quillota',\n",
       "        'San Martin de Tucumán', 'San Martín de San Juan',\n",
       "        'Sandefjord Fotball', 'Sanfrecce Hiroshima', 'Sangju Sangmu FC',\n",
       "        'Santa Clara', 'Santos', 'Santos Laguna', 'Sarpsborg 08 FF',\n",
       "        'Sassuolo', 'Scunthorpe United', 'Seattle Sounders FC',\n",
       "        'Sevilla FC', 'Shakhtar Donetsk', 'Shamrock Rovers',\n",
       "        'Shandong Luneng TaiShan FC', 'Shanghai Greenland Shenhua FC',\n",
       "        'Shanghai SIPG FC', 'Sheffield United', 'Sheffield Wednesday',\n",
       "        'Shimizu S-Pulse', 'Shonan Bellmare', 'Shrewsbury',\n",
       "        'Sint-Truidense VV', 'Sivasspor', 'Sligo Rovers', 'Southampton',\n",
       "        'Southend United', 'SpVgg Greuther Fürth', 'SpVgg Unterhaching',\n",
       "        'Sparta Praha', 'Spartak Moscow', 'Spezia', 'Sport Club do Recife',\n",
       "        'Sporting CP', 'Sporting Kansas City', 'Sporting Lokeren',\n",
       "        'Sporting de Charleroi', 'St. Johnstone FC', 'St. Mirren',\n",
       "        \"St. Patrick's Athletic\", 'Stabæk Fotball', 'Stade Brestois 29',\n",
       "        'Stade Malherbe Caen', 'Stade Rennais FC', 'Stade de Reims',\n",
       "        'Standard de Liège', 'Stevenage', 'Stoke City', 'Strømsgodset IF',\n",
       "        'Sunderland', 'Suwon Samsung Bluewings', 'Swansea City',\n",
       "        'Swindon Town', 'Sydney FC', 'SønderjyskE', 'TSG 1899 Hoffenheim',\n",
       "        'TSV 1860 München', 'TSV Hartberg', 'Tianjin Quanjian FC',\n",
       "        'Tianjin TEDA FC', 'Tiburones Rojos de Veracruz',\n",
       "        'Tigres U.A.N.L.', 'Torino', 'Toronto FC', 'Tottenham Hotspur',\n",
       "        'Toulouse Football Club', 'Trabzonspor', 'Tranmere Rovers',\n",
       "        'Trelleborgs FF', 'Tromsø IL', 'U.N.A.M.', 'UD Almería',\n",
       "        'UD Las Palmas', 'US Cremonese', 'US Orléans Loiret Football',\n",
       "        'US Salernitana 1919', 'Udinese', 'Ulsan Hyundai FC',\n",
       "        'Universidad Católica', 'Universidad de Chile', 'Unión Española',\n",
       "        'Unión La Calera', 'Unión de Santa Fe', 'Urawa Red Diamonds',\n",
       "        'V-Varen Nagasaki', 'VVV-Venlo', 'Valencia CF', 'Valenciennes FC',\n",
       "        'Vancouver Whitecaps FC', 'Vegalta Sendai', 'Vejle Boldklub',\n",
       "        'Vendsyssel FF', 'Venezia FC', 'VfB Stuttgart', 'VfL Bochum 1848',\n",
       "        'VfL Osnabrück', 'VfL Sportfreunde Lotte', 'VfL Wolfsburg',\n",
       "        'VfR Aalen', 'Viktoria Plzeň', 'Villarreal CF', 'Vissel Kobe',\n",
       "        'Vitesse', 'Vitória', 'Vitória Guimarães', 'Vitória de Setúbal',\n",
       "        'Vålerenga Fotball', 'Vélez Sarsfield', 'Waasland-Beveren',\n",
       "        'Walsall', 'Waterford FC', 'Watford', 'Wellington Phoenix',\n",
       "        'West Bromwich Albion', 'West Ham United',\n",
       "        'Western Sydney Wanderers', 'Wigan Athletic', 'Willem II',\n",
       "        'Wisła Kraków', 'Wisła Płock', 'Wolfsberger AC',\n",
       "        'Wolverhampton Wanderers', 'Wycombe Wanderers', 'Yeni Malatyaspor',\n",
       "        'Yeovil Town', 'Yokohama F. Marinos', 'Zagłębie Lubin',\n",
       "        'Zagłębie Sosnowiec', 'Çaykur Rizespor', 'Örebro SK',\n",
       "        'Östersunds FK', 'Śląsk Wrocław'], dtype=object)]"
      ]
     },
     "execution_count": 88,
     "metadata": {},
     "output_type": "execute_result"
    }
   ],
   "source": [
    "ordn.categories_"
   ]
  },
  {
   "cell_type": "code",
   "execution_count": 87,
   "id": "83880179",
   "metadata": {},
   "outputs": [
    {
     "data": {
      "text/plain": [
       "array([[ 15.,   6.,  47., 212.],\n",
       "       [ 17., 122.,  47., 326.],\n",
       "       [ 10.,  20.,  46., 435.],\n",
       "       ...,\n",
       "       [  0.,  46.,   1., 122.],\n",
       "       [  1.,  46.,   1., 586.],\n",
       "       [  0.,  46.,   0., 586.]])"
      ]
     },
     "execution_count": 87,
     "metadata": {},
     "output_type": "execute_result"
    }
   ],
   "source": [
    "Yo"
   ]
  },
  {
   "cell_type": "code",
   "execution_count": 89,
   "id": "21b22cdb",
   "metadata": {},
   "outputs": [],
   "source": [
    "oneh = pre.OneHotEncoder()\n",
    "Yh = oneh.fit_transform(Y)"
   ]
  },
  {
   "cell_type": "code",
   "execution_count": 90,
   "id": "45337677",
   "metadata": {},
   "outputs": [
    {
     "data": {
      "text/plain": [
       "[array([16, 17, 18, 19, 20, 21, 22, 23, 24, 25, 26, 27, 28, 29, 30, 31, 32,\n",
       "        33, 34, 35, 36, 37, 38, 39, 40, 41, 42, 44, 45], dtype=object),\n",
       " array(['Afghanistan', 'Albania', 'Algeria', 'Andorra', 'Angola',\n",
       "        'Antigua & Barbuda', 'Argentina', 'Armenia', 'Australia',\n",
       "        'Austria', 'Azerbaijan', 'Barbados', 'Belarus', 'Belgium',\n",
       "        'Belize', 'Benin', 'Bermuda', 'Bolivia', 'Bosnia Herzegovina',\n",
       "        'Botswana', 'Brazil', 'Bulgaria', 'Burkina Faso', 'Burundi',\n",
       "        'Cameroon', 'Canada', 'Cape Verde', 'Central African Rep.', 'Chad',\n",
       "        'Chile', 'China PR', 'Colombia', 'Comoros', 'Congo', 'Costa Rica',\n",
       "        'Croatia', 'Cuba', 'Curacao', 'Cyprus', 'Czech Republic',\n",
       "        'DR Congo', 'Denmark', 'Dominican Republic', 'Ecuador', 'Egypt',\n",
       "        'El Salvador', 'England', 'Equatorial Guinea', 'Eritrea',\n",
       "        'Estonia', 'Ethiopia', 'FYR Macedonia', 'Faroe Islands', 'Fiji',\n",
       "        'Finland', 'France', 'Gabon', 'Gambia', 'Georgia', 'Germany',\n",
       "        'Ghana', 'Greece', 'Grenada', 'Guam', 'Guatemala', 'Guinea',\n",
       "        'Guinea Bissau', 'Guyana', 'Haiti', 'Honduras', 'Hong Kong',\n",
       "        'Hungary', 'Iceland', 'Indonesia', 'Iran', 'Iraq', 'Israel',\n",
       "        'Italy', 'Ivory Coast', 'Jamaica', 'Japan', 'Jordan', 'Kazakhstan',\n",
       "        'Kenya', 'Korea DPR', 'Korea Republic', 'Kosovo', 'Kuwait',\n",
       "        'Latvia', 'Lebanon', 'Liberia', 'Libya', 'Liechtenstein',\n",
       "        'Lithuania', 'Luxembourg', 'Madagascar', 'Mali', 'Malta',\n",
       "        'Mauritania', 'Mauritius', 'Mexico', 'Moldova', 'Montenegro',\n",
       "        'Montserrat', 'Morocco', 'Mozambique', 'Namibia', 'Netherlands',\n",
       "        'New Caledonia', 'New Zealand', 'Nicaragua', 'Niger', 'Nigeria',\n",
       "        'Northern Ireland', 'Norway', 'Oman', 'Palestine', 'Panama',\n",
       "        'Paraguay', 'Peru', 'Philippines', 'Poland', 'Portugal',\n",
       "        'Puerto Rico', 'Qatar', 'Republic of Ireland', 'Romania', 'Russia',\n",
       "        'Rwanda', 'Saudi Arabia', 'Scotland', 'Senegal', 'Serbia',\n",
       "        'Sierra Leone', 'Slovakia', 'Slovenia', 'South Africa',\n",
       "        'South Sudan', 'Spain', 'St Kitts Nevis', 'St Lucia', 'Sudan',\n",
       "        'Suriname', 'Sweden', 'Switzerland', 'Syria',\n",
       "        'São Tomé & Príncipe', 'Tanzania', 'Thailand', 'Togo',\n",
       "        'Trinidad & Tobago', 'Tunisia', 'Turkey', 'Uganda', 'Ukraine',\n",
       "        'United Arab Emirates', 'United States', 'Uruguay', 'Uzbekistan',\n",
       "        'Venezuela', 'Wales', 'Zambia', 'Zimbabwe'], dtype=object),\n",
       " array([46, 47, 48, 49, 50, 51, 52, 53, 54, 55, 56, 57, 58, 59, 60, 61, 62,\n",
       "        63, 64, 65, 66, 67, 68, 69, 70, 71, 72, 73, 74, 75, 76, 77, 78, 79,\n",
       "        80, 81, 82, 83, 84, 85, 86, 87, 88, 89, 90, 91, 92, 94],\n",
       "       dtype=object),\n",
       " array([' SSV Jahn Regensburg', '1. FC Heidenheim 1846',\n",
       "        '1. FC Kaiserslautern', '1. FC Köln', '1. FC Magdeburg',\n",
       "        '1. FC Nürnberg', '1. FC Union Berlin', '1. FSV Mainz 05',\n",
       "        'AC Ajaccio', 'AC Horsens', 'AD Alcorcón', 'ADO Den Haag',\n",
       "        'AEK Athens', 'AFC Wimbledon', 'AIK', 'AJ Auxerre', 'AS Béziers',\n",
       "        'AS Monaco', 'AS Nancy Lorraine', 'AS Saint-Étienne', 'AZ Alkmaar',\n",
       "        'Aalborg BK', 'Aarhus GF', 'Aberdeen', 'Accrington Stanley',\n",
       "        'Adelaide United', 'Ajax', 'Akhisar Belediyespor', 'Al Ahli',\n",
       "        'Al Batin', 'Al Faisaly', 'Al Fateh', 'Al Fayha', 'Al Hazem',\n",
       "        'Al Hilal', 'Al Ittihad', 'Al Nassr', 'Al Qadisiyah', 'Al Raed',\n",
       "        'Al Shabab', 'Al Taawoun', 'Al Wehda', 'Alanyaspor', 'Albacete BP',\n",
       "        'Alianza Petrolera', 'Amiens SC', 'América FC (Minas Gerais)',\n",
       "        'América de Cali', 'Angers SCO', 'Antalyaspor',\n",
       "        'Argentinos Juniors', 'Arka Gdynia', 'Arsenal', 'Ascoli',\n",
       "        'Aston Villa', 'Atalanta', 'Athletic Club de Bilbao',\n",
       "        'Atiker Konyaspor', 'Atlanta United', 'Atlético Bucaramanga',\n",
       "        'Atlético Huila', 'Atlético Madrid', 'Atlético Mineiro',\n",
       "        'Atlético Nacional', 'Atlético Paranaense', 'Atlético Tucumán',\n",
       "        'Audax Italiano', 'BB Erzurumspor', 'BK Häcken', 'BSC Young Boys',\n",
       "        'Bahia', 'Barnsley', 'Bayer 04 Leverkusen', 'Beijing Renhe FC',\n",
       "        'Beijing Sinobo Guoan FC', 'Belgrano de Córdoba', 'Benevento',\n",
       "        'Beşiktaş JK', 'Birmingham City', 'Blackburn Rovers', 'Blackpool',\n",
       "        'Boavista FC', 'Boca Juniors', 'Bohemian FC', 'Bologna',\n",
       "        'Bolton Wanderers', 'Borussia Dortmund',\n",
       "        'Borussia Mönchengladbach', 'Botafogo', 'Bournemouth',\n",
       "        'Boyacá Chicó FC', 'Bradford City', 'Bray Wanderers', 'Brentford',\n",
       "        'Brescia', 'Brighton & Hove Albion', 'Brisbane Roar',\n",
       "        'Bristol City', 'Bristol Rovers', 'Brøndby IF', 'Burnley',\n",
       "        'Bursaspor', 'Burton Albion', 'Bury', 'CA Osasuna',\n",
       "        'CD Antofagasta', 'CD Aves', 'CD Everton de Viña del Mar',\n",
       "        'CD Feirense', 'CD Huachipato', 'CD Leganés', 'CD Lugo',\n",
       "        'CD Nacional', 'CD Numancia', \"CD O'Higgins\", 'CD Palestino',\n",
       "        'CD Tenerife', 'CD Tondela', 'CD Universidad de Concepción',\n",
       "        'CF Rayo Majadahonda', 'CF Reus Deportiu', 'Cagliari',\n",
       "        'Cambridge United', 'Cardiff City', 'Carlisle United', 'Carpi',\n",
       "        'Ceará Sporting Club', 'Celtic', 'Central Coast Mariners',\n",
       "        'Cerezo Osaka', 'Chamois Niortais Football Club',\n",
       "        'Changchun Yatai FC', 'Chapecoense', 'Charlton Athletic',\n",
       "        'Chelsea', 'Cheltenham Town', 'Chicago Fire', 'Chievo Verona',\n",
       "        'Chongqing Dangdai Lifan FC SWM Team', 'Cittadella',\n",
       "        'Clermont Foot 63', 'Club América', 'Club Atlas',\n",
       "        'Club Atlético Aldosivi', 'Club Atlético Banfield',\n",
       "        'Club Atlético Colón', 'Club Atlético Huracán',\n",
       "        'Club Atlético Lanús', 'Club Atlético Talleres',\n",
       "        'Club Atlético Tigre', 'Club Brugge KV', 'Club Deportes Temuco',\n",
       "        'Club León', 'Club Necaxa', 'Club Tijuana', 'Clube Sport Marítimo',\n",
       "        'Colchester United', 'Colo-Colo', 'Colorado Rapids',\n",
       "        'Columbus Crew SC', 'Cork City', 'Cosenza', 'Coventry City',\n",
       "        'Cracovia', 'Crawley Town', 'Crewe Alexandra', 'Crotone',\n",
       "        'Cruz Azul', 'Cruzeiro', 'Crystal Palace', 'Curicó Unido',\n",
       "        'Cádiz CF', 'Córdoba CF', 'DC United', 'DSC Arminia Bielefeld',\n",
       "        'Daegu FC', 'Dalian YiFang FC', 'Dalkurd FF', 'De Graafschap',\n",
       "        'Defensa y Justicia', 'Deportes Iquique', 'Deportes Tolima',\n",
       "        'Deportivo Alavés', 'Deportivo Cali', 'Deportivo Pasto',\n",
       "        'Deportivo Toluca', 'Deportivo de La Coruña', 'Derby County',\n",
       "        'Derry City', 'Dijon FCO', 'Dinamo Zagreb', 'Djurgårdens IF',\n",
       "        'Doncaster Rovers', 'Dundalk', 'Dundee FC', 'Dynamo Kyiv',\n",
       "        'ESTAC Troyes', 'Eintracht Braunschweig', 'Eintracht Frankfurt',\n",
       "        'Elche CF', 'Empoli', 'En Avant de Guingamp', 'Envigado FC',\n",
       "        'Esbjerg fB', 'Estudiantes de La Plata', 'Ettifaq FC', 'Everton',\n",
       "        'Excelsior', 'Exeter City', 'Extremadura UD',\n",
       "        'FC Admira Wacker Mödling', 'FC Augsburg', 'FC Barcelona',\n",
       "        'FC Basel 1893', 'FC Bayern München', 'FC Carl Zeiss Jena',\n",
       "        'FC Dallas', 'FC Emmen', 'FC Energie Cottbus', 'FC Erzgebirge Aue',\n",
       "        'FC Girondins de Bordeaux', 'FC Groningen', 'FC Hansa Rostock',\n",
       "        'FC Ingolstadt 04', 'FC København', 'FC Lorient', 'FC Lugano',\n",
       "        'FC Luzern', 'FC Metz', 'FC Midtjylland', 'FC Nantes',\n",
       "        'FC Nordsjælland', 'FC Porto', 'FC Red Bull Salzburg',\n",
       "        'FC Schalke 04', 'FC Seoul', 'FC Sion', 'FC Sochaux-Montbéliard',\n",
       "        'FC St. Gallen', 'FC St. Pauli', 'FC Thun', 'FC Tokyo',\n",
       "        'FC Utrecht', 'FC Wacker Innsbruck', 'FC Würzburger Kickers',\n",
       "        'FC Zürich', 'FK Austria Wien', 'FK Bodø/Glimt', 'FK Haugesund',\n",
       "        'FSV Zwickau', 'Fenerbahçe SK', 'Feyenoord', 'Fiorentina',\n",
       "        'Fleetwood Town', 'Fluminense', 'Foggia', 'Forest Green Rovers',\n",
       "        'Fortuna Düsseldorf', 'Fortuna Sittard', 'Frosinone', 'Fulham',\n",
       "        'GD Chaves', 'GFC Ajaccio', 'GIF Sundsvall', 'Galatasaray SK',\n",
       "        'Gamba Osaka', 'Gangwon FC', 'Genoa', 'Getafe CF', 'Gillingham',\n",
       "        'Gimnasia y Esgrima La Plata', 'Gimnàstic de Tarragona',\n",
       "        'Girona FC', 'Godoy Cruz', 'Granada CF', 'Grasshopper Club Zürich',\n",
       "        'Grenoble Foot 38', 'Grimsby Town', 'Grêmio', 'Guadalajara',\n",
       "        'Guangzhou Evergrande Taobao FC', 'Guangzhou R&F; FC',\n",
       "        'Guizhou Hengfeng FC', 'Gyeongnam FC', 'Górnik Zabrze',\n",
       "        'Göztepe SK', 'HJK Helsinki', 'Hallescher FC', 'Hamburger SV',\n",
       "        'Hamilton Academical FC', 'Hammarby IF', 'Hannover 96',\n",
       "        'Heart of Midlothian', 'Hebei China Fortune FC', 'Hellas Verona',\n",
       "        'Henan Jianye FC', 'Heracles Almelo', 'Hertha BSC', 'Hibernian',\n",
       "        'Hobro IK', 'Hokkaido Consadole Sapporo', 'Holstein Kiel',\n",
       "        'Houston Dynamo', 'Huddersfield Town', 'Hull City',\n",
       "        'IF Brommapojkarna', 'IF Elfsborg', 'IFK Göteborg',\n",
       "        'IFK Norrköping', 'IK Sirius', 'IK Start', 'Incheon United FC',\n",
       "        'Independiente', 'Independiente Medellín',\n",
       "        'Independiente Santa Fe', 'Inter', 'Internacional', 'Ipswich Town',\n",
       "        'Itagüí Leones FC', 'Jagiellonia Białystok', 'Jaguares de Córdoba',\n",
       "        'Jeju United FC', 'Jeonbuk Hyundai Motors', 'Jeonnam Dragons',\n",
       "        'Jiangsu Suning FC', 'Junior FC', 'Juventus', 'Júbilo Iwata',\n",
       "        'KAA Gent', 'KAS Eupen', 'KFC Uerdingen 05', 'KRC Genk',\n",
       "        'KSV Cercle Brugge', 'KV Kortrijk', 'KV Oostende', 'Kaizer Chiefs',\n",
       "        'Kalmar FF', 'Karlsruher SC', 'Kashima Antlers', 'Kashiwa Reysol',\n",
       "        'Kasimpaşa SK', 'Kawasaki Frontale', 'Kayserispor', 'Kilmarnock',\n",
       "        'Korona Kielce', 'Kristiansund BK', 'LA Galaxy', 'LASK Linz',\n",
       "        'LOSC Lille', 'La Berrichonne de Châteauroux', 'La Equidad',\n",
       "        'Lazio', 'Le Havre AC', 'Lecce', 'Lech Poznań', 'Lechia Gdańsk',\n",
       "        'Leeds United', 'Legia Warszawa', 'Leicester City', 'Levante UD',\n",
       "        'Lillestrøm SK', 'Limerick FC', 'Lincoln City', 'Liverpool',\n",
       "        'Livingston FC', 'Livorno', 'Lobos BUAP', 'Lokomotiv Moscow',\n",
       "        'Los Angeles FC', 'Luton Town', 'MKE Ankaragücü', 'MSV Duisburg',\n",
       "        'Macclesfield Town', 'Malmö FF', 'Manchester City',\n",
       "        'Manchester United', 'Mansfield Town', 'Medipol Başakşehir FK',\n",
       "        'Melbourne City FC', 'Melbourne Victory', 'Middlesbrough',\n",
       "        'Miedź Legnica', 'Milan', 'Millonarios FC', 'Millwall',\n",
       "        'Milton Keynes Dons', 'Minnesota United FC', 'Molde FK',\n",
       "        'Monarcas Morelia', 'Monterrey', 'Montpellier HSC',\n",
       "        'Montreal Impact', 'Morecambe', 'Moreirense FC', 'Motherwell',\n",
       "        'Málaga CF', 'NAC Breda', 'Nagoya Grampus', 'Napoli',\n",
       "        'Neuchâtel Xamax', 'New England Revolution', 'New York City FC',\n",
       "        'New York Red Bulls', 'Newcastle Jets', 'Newcastle United',\n",
       "        \"Newell's Old Boys\", 'Newport County', 'Northampton Town',\n",
       "        'Norwich City', 'Nottingham Forest', 'Notts County',\n",
       "        'Nîmes Olympique', 'OGC Nice', 'Odds BK', 'Odense Boldklub',\n",
       "        'Ohod Club', 'Oldham Athletic', 'Olympiacos CFP',\n",
       "        'Olympique Lyonnais', 'Olympique de Marseille', 'Once Caldas',\n",
       "        'Orlando City SC', 'Orlando Pirates', 'Os Belenenses',\n",
       "        'Oxford United', 'PAOK', 'PEC Zwolle', 'PFC CSKA Moscow', 'PSV',\n",
       "        'Pachuca', 'Padova', 'Palermo', 'Panathinaikos FC', 'Paraná',\n",
       "        'Paris FC', 'Paris Saint-Germain', 'Parma', 'Patriotas Boyacá FC',\n",
       "        'Patronato', 'Perth Glory', 'Perugia', 'Pescara',\n",
       "        'Peterborough United', 'Philadelphia Union', 'Piast Gliwice',\n",
       "        'Plymouth Argyle', 'Pogoń Szczecin', 'Pohang Steelers',\n",
       "        'Port Vale', 'Portimonense SC', 'Portland Timbers', 'Portsmouth',\n",
       "        'Preston North End', 'Puebla FC', 'Queens Park Rangers',\n",
       "        'Querétaro', 'RB Leipzig', 'RC Celta', 'RC Strasbourg Alsace',\n",
       "        'RCD Espanyol', 'RCD Mallorca', 'RSC Anderlecht', 'Racing Club',\n",
       "        'Racing Club de Lens', 'Randers FC', 'Rangers FC',\n",
       "        'Ranheim Fotball', 'Rayo Vallecano', 'Reading', 'Real Betis',\n",
       "        'Real Madrid', 'Real Oviedo', 'Real Salt Lake', 'Real Sociedad',\n",
       "        'Real Sporting de Gijón', 'Real Valladolid CF', 'Real Zaragoza',\n",
       "        'Red Star FC', 'Rio Ave FC', 'Rionegro Águilas', 'River Plate',\n",
       "        'Rochdale', 'Roma', 'Rosario Central', 'Rosenborg BK',\n",
       "        'Rotherham United', 'Royal Antwerp FC', 'Royal Excel Mouscron',\n",
       "        'SC Braga', 'SC Fortuna Köln', 'SC Freiburg', 'SC Heerenveen',\n",
       "        'SC Paderborn 07', 'SC Preußen Münster', 'SCR Altach', 'SD Eibar',\n",
       "        'SD Huesca', 'SG Dynamo Dresden', 'SG Sonnenhof Großaspach',\n",
       "        'SK Brann', 'SK Rapid Wien', 'SK Slavia Praha', 'SK Sturm Graz',\n",
       "        'SKN St. Pölten', 'SL Benfica', 'SPAL', 'SV Darmstadt 98',\n",
       "        'SV Mattersburg', 'SV Meppen', 'SV Sandhausen',\n",
       "        'SV Wehen Wiesbaden', 'SV Werder Bremen', 'SV Zulte-Waregem',\n",
       "        'Sagan Tosu', 'Sampdoria', 'San Jose Earthquakes',\n",
       "        'San Lorenzo de Almagro', 'San Luis de Quillota',\n",
       "        'San Martin de Tucumán', 'San Martín de San Juan',\n",
       "        'Sandefjord Fotball', 'Sanfrecce Hiroshima', 'Sangju Sangmu FC',\n",
       "        'Santa Clara', 'Santos', 'Santos Laguna', 'Sarpsborg 08 FF',\n",
       "        'Sassuolo', 'Scunthorpe United', 'Seattle Sounders FC',\n",
       "        'Sevilla FC', 'Shakhtar Donetsk', 'Shamrock Rovers',\n",
       "        'Shandong Luneng TaiShan FC', 'Shanghai Greenland Shenhua FC',\n",
       "        'Shanghai SIPG FC', 'Sheffield United', 'Sheffield Wednesday',\n",
       "        'Shimizu S-Pulse', 'Shonan Bellmare', 'Shrewsbury',\n",
       "        'Sint-Truidense VV', 'Sivasspor', 'Sligo Rovers', 'Southampton',\n",
       "        'Southend United', 'SpVgg Greuther Fürth', 'SpVgg Unterhaching',\n",
       "        'Sparta Praha', 'Spartak Moscow', 'Spezia', 'Sport Club do Recife',\n",
       "        'Sporting CP', 'Sporting Kansas City', 'Sporting Lokeren',\n",
       "        'Sporting de Charleroi', 'St. Johnstone FC', 'St. Mirren',\n",
       "        \"St. Patrick's Athletic\", 'Stabæk Fotball', 'Stade Brestois 29',\n",
       "        'Stade Malherbe Caen', 'Stade Rennais FC', 'Stade de Reims',\n",
       "        'Standard de Liège', 'Stevenage', 'Stoke City', 'Strømsgodset IF',\n",
       "        'Sunderland', 'Suwon Samsung Bluewings', 'Swansea City',\n",
       "        'Swindon Town', 'Sydney FC', 'SønderjyskE', 'TSG 1899 Hoffenheim',\n",
       "        'TSV 1860 München', 'TSV Hartberg', 'Tianjin Quanjian FC',\n",
       "        'Tianjin TEDA FC', 'Tiburones Rojos de Veracruz',\n",
       "        'Tigres U.A.N.L.', 'Torino', 'Toronto FC', 'Tottenham Hotspur',\n",
       "        'Toulouse Football Club', 'Trabzonspor', 'Tranmere Rovers',\n",
       "        'Trelleborgs FF', 'Tromsø IL', 'U.N.A.M.', 'UD Almería',\n",
       "        'UD Las Palmas', 'US Cremonese', 'US Orléans Loiret Football',\n",
       "        'US Salernitana 1919', 'Udinese', 'Ulsan Hyundai FC',\n",
       "        'Universidad Católica', 'Universidad de Chile', 'Unión Española',\n",
       "        'Unión La Calera', 'Unión de Santa Fe', 'Urawa Red Diamonds',\n",
       "        'V-Varen Nagasaki', 'VVV-Venlo', 'Valencia CF', 'Valenciennes FC',\n",
       "        'Vancouver Whitecaps FC', 'Vegalta Sendai', 'Vejle Boldklub',\n",
       "        'Vendsyssel FF', 'Venezia FC', 'VfB Stuttgart', 'VfL Bochum 1848',\n",
       "        'VfL Osnabrück', 'VfL Sportfreunde Lotte', 'VfL Wolfsburg',\n",
       "        'VfR Aalen', 'Viktoria Plzeň', 'Villarreal CF', 'Vissel Kobe',\n",
       "        'Vitesse', 'Vitória', 'Vitória Guimarães', 'Vitória de Setúbal',\n",
       "        'Vålerenga Fotball', 'Vélez Sarsfield', 'Waasland-Beveren',\n",
       "        'Walsall', 'Waterford FC', 'Watford', 'Wellington Phoenix',\n",
       "        'West Bromwich Albion', 'West Ham United',\n",
       "        'Western Sydney Wanderers', 'Wigan Athletic', 'Willem II',\n",
       "        'Wisła Kraków', 'Wisła Płock', 'Wolfsberger AC',\n",
       "        'Wolverhampton Wanderers', 'Wycombe Wanderers', 'Yeni Malatyaspor',\n",
       "        'Yeovil Town', 'Yokohama F. Marinos', 'Zagłębie Lubin',\n",
       "        'Zagłębie Sosnowiec', 'Çaykur Rizespor', 'Örebro SK',\n",
       "        'Östersunds FK', 'Śląsk Wrocław'], dtype=object)]"
      ]
     },
     "execution_count": 90,
     "metadata": {},
     "output_type": "execute_result"
    }
   ],
   "source": [
    "oneh.categories_"
   ]
  },
  {
   "cell_type": "code",
   "execution_count": 93,
   "id": "e1dbed3d",
   "metadata": {},
   "outputs": [
    {
     "data": {
      "text/plain": [
       "0.0"
      ]
     },
     "execution_count": 93,
     "metadata": {},
     "output_type": "execute_result"
    }
   ],
   "source": [
    "Yh"
   ]
  },
  {
   "cell_type": "code",
   "execution_count": 92,
   "id": "79dc40e7",
   "metadata": {},
   "outputs": [
    {
     "data": {
      "text/plain": [
       "array([[0., 0., 0., ..., 0., 0., 0.],\n",
       "       [0., 0., 0., ..., 0., 0., 0.],\n",
       "       [0., 0., 0., ..., 0., 0., 0.],\n",
       "       ...,\n",
       "       [1., 0., 0., ..., 0., 0., 0.],\n",
       "       [0., 1., 0., ..., 0., 0., 0.],\n",
       "       [1., 0., 0., ..., 0., 0., 0.]])"
      ]
     },
     "execution_count": 92,
     "metadata": {},
     "output_type": "execute_result"
    }
   ],
   "source": [
    "Yh.toarray()"
   ]
  },
  {
   "cell_type": "markdown",
   "id": "add82076",
   "metadata": {},
   "source": [
    "## Discretizzazione"
   ]
  },
  {
   "cell_type": "code",
   "execution_count": 103,
   "id": "871b264d",
   "metadata": {},
   "outputs": [],
   "source": [
    "est = pre.KBinsDiscretizer(n_bins=3, encode='onehot', strategy='uniform')"
   ]
  },
  {
   "cell_type": "code",
   "execution_count": 104,
   "id": "489e1358",
   "metadata": {},
   "outputs": [],
   "source": [
    "age = est.fit_transform(D.Age.values.reshape(-1, 1))"
   ]
  },
  {
   "cell_type": "code",
   "execution_count": 105,
   "id": "ab662962",
   "metadata": {},
   "outputs": [
    {
     "data": {
      "text/plain": [
       "array([array([16.        , 25.66666667, 35.33333333, 45.        ])],\n",
       "      dtype=object)"
      ]
     },
     "execution_count": 105,
     "metadata": {},
     "output_type": "execute_result"
    }
   ],
   "source": [
    "est.bin_edges_"
   ]
  },
  {
   "cell_type": "code",
   "execution_count": 107,
   "id": "c2813c0d",
   "metadata": {},
   "outputs": [
    {
     "data": {
      "text/plain": [
       "array([[0., 1., 0.],\n",
       "       [0., 1., 0.],\n",
       "       [0., 1., 0.],\n",
       "       ...,\n",
       "       [1., 0., 0.],\n",
       "       [1., 0., 0.],\n",
       "       [1., 0., 0.]])"
      ]
     },
     "execution_count": 107,
     "metadata": {},
     "output_type": "execute_result"
    }
   ],
   "source": [
    "age.toarray()"
   ]
  },
  {
   "cell_type": "markdown",
   "id": "6098e464",
   "metadata": {},
   "source": [
    "## Trasformazioni personalizzate"
   ]
  },
  {
   "cell_type": "code",
   "execution_count": 110,
   "id": "0af801d5",
   "metadata": {},
   "outputs": [],
   "source": [
    "transformer = pre.FunctionTransformer(np.log, validate=True)"
   ]
  },
  {
   "cell_type": "code",
   "execution_count": 111,
   "id": "5f88606a",
   "metadata": {},
   "outputs": [
    {
     "data": {
      "text/plain": [
       "array([[0.55236672, 4.27834785],\n",
       "       [0.63644984, 4.41892981],\n",
       "       [0.5868529 , 4.22007895],\n",
       "       ...,\n",
       "       [0.56975846, 4.20665593],\n",
       "       [0.44114108, 4.24639625],\n",
       "       [0.44114108, 4.37992765]])"
      ]
     },
     "execution_count": 111,
     "metadata": {},
     "output_type": "execute_result"
    }
   ],
   "source": [
    "transformer.transform(Xi)"
   ]
  },
  {
   "cell_type": "code",
   "execution_count": null,
   "id": "0c5cc84e",
   "metadata": {},
   "outputs": [],
   "source": []
  }
 ],
 "metadata": {
  "kernelspec": {
   "display_name": "Python 3 (ipykernel)",
   "language": "python",
   "name": "python3"
  },
  "language_info": {
   "codemirror_mode": {
    "name": "ipython",
    "version": 3
   },
   "file_extension": ".py",
   "mimetype": "text/x-python",
   "name": "python",
   "nbconvert_exporter": "python",
   "pygments_lexer": "ipython3",
   "version": "3.8.8"
  },
  "toc": {
   "base_numbering": 1,
   "nav_menu": {},
   "number_sections": true,
   "sideBar": true,
   "skip_h1_title": false,
   "title_cell": "Table of Contents",
   "title_sidebar": "Contents",
   "toc_cell": false,
   "toc_position": {},
   "toc_section_display": true,
   "toc_window_display": false
  }
 },
 "nbformat": 4,
 "nbformat_minor": 5
}
