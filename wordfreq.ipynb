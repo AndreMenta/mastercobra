{
 "cells": [
  {
   "cell_type": "markdown",
   "metadata": {},
   "source": [
    "# numpy primer: exploits a text to estimate word frequencies"
   ]
  },
  {
   "cell_type": "code",
   "execution_count": 1,
   "metadata": {},
   "outputs": [],
   "source": [
    "import numpy as np\n",
    "from tqdm.notebook import tqdm"
   ]
  },
  {
   "cell_type": "code",
   "execution_count": 2,
   "metadata": {},
   "outputs": [],
   "source": [
    "with open('words/i_promessi_sposi.txt', 'r', encoding='latin-1') as infile:\n",
    "    ps_text = infile.read()"
   ]
  },
  {
   "cell_type": "markdown",
   "metadata": {},
   "source": [
    "## Document-word matrix\n",
    "Given the complete vocabulary $D$ of size $d$ of a text composed by $s$ sentences, we want to represent the relation between words and sentences as a matrix $M \\in \\mathbb{Z}_{\\geq 0}^{s \\times d}$, where $M_{i,j}$ represents the number of occurrences of the $j$th word in the $i$th sentence."
   ]
  },
  {
   "cell_type": "code",
   "execution_count": 3,
   "metadata": {},
   "outputs": [],
   "source": [
    "from nltk.tokenize import sent_tokenize, word_tokenize"
   ]
  },
  {
   "cell_type": "code",
   "execution_count": 4,
   "metadata": {},
   "outputs": [],
   "source": [
    "words = word_tokenize(ps_text, language='italian')"
   ]
  },
  {
   "cell_type": "code",
   "execution_count": 5,
   "metadata": {},
   "outputs": [
    {
     "data": {
      "application/vnd.jupyter.widget-view+json": {
       "model_id": "a6a1c30803e849a09856ee1cfa0be2e2",
       "version_major": 2,
       "version_minor": 0
      },
      "text/plain": [
       "HBox(children=(HTML(value=''), FloatProgress(value=0.0, max=266844.0), HTML(value='')))"
      ]
     },
     "metadata": {},
     "output_type": "display_data"
    },
    {
     "name": "stdout",
     "output_type": "stream",
     "text": [
      "\n"
     ]
    }
   ],
   "source": [
    "freq = {}\n",
    "for word in tqdm(words):\n",
    "    try:\n",
    "        freq[word.lower()] += 1\n",
    "    except KeyError:\n",
    "        freq[word.lower()] = 1"
   ]
  },
  {
   "cell_type": "code",
   "execution_count": 6,
   "metadata": {},
   "outputs": [],
   "source": [
    "wordlist, freqlist = [], []\n",
    "for k, v in freq.items():\n",
    "    wordlist.append(k)\n",
    "    freqlist.append(v)"
   ]
  },
  {
   "cell_type": "code",
   "execution_count": 7,
   "metadata": {},
   "outputs": [],
   "source": [
    "pos = dict([(w, i) for i, w in enumerate(wordlist)])"
   ]
  },
  {
   "cell_type": "code",
   "execution_count": 8,
   "metadata": {},
   "outputs": [],
   "source": [
    "wf = np.array(freqlist)"
   ]
  },
  {
   "cell_type": "code",
   "execution_count": 9,
   "metadata": {},
   "outputs": [],
   "source": [
    "S = [s for s in sent_tokenize(ps_text, language='italian')]"
   ]
  },
  {
   "cell_type": "code",
   "execution_count": 10,
   "metadata": {},
   "outputs": [],
   "source": [
    "M = np.zeros((len(S), len(wordlist)))"
   ]
  },
  {
   "cell_type": "code",
   "execution_count": 11,
   "metadata": {},
   "outputs": [
    {
     "data": {
      "application/vnd.jupyter.widget-view+json": {
       "model_id": "a0292aecf8194fd483282d43fe25c06d",
       "version_major": 2,
       "version_minor": 0
      },
      "text/plain": [
       "HBox(children=(HTML(value=''), FloatProgress(value=1.0, bar_style='info', layout=Layout(width='20px'), max=1.0…"
      ]
     },
     "metadata": {},
     "output_type": "display_data"
    },
    {
     "name": "stdout",
     "output_type": "stream",
     "text": [
      "\n"
     ]
    }
   ],
   "source": [
    "for i, sentence in tqdm(enumerate(S)):\n",
    "    for word in word_tokenize(sentence, language='italian'):\n",
    "        try:\n",
    "            word_pos = pos[word.lower()]\n",
    "            M[i, word_pos] += 1\n",
    "        except KeyError:\n",
    "            pass"
   ]
  },
  {
   "cell_type": "code",
   "execution_count": 12,
   "metadata": {},
   "outputs": [],
   "source": [
    "o = M.sum(axis=0)\n",
    "word_to_save = [i for i, w in enumerate(o) if w > 1]"
   ]
  },
  {
   "cell_type": "code",
   "execution_count": 13,
   "metadata": {},
   "outputs": [],
   "source": [
    "X = M[:,word_to_save]"
   ]
  },
  {
   "cell_type": "code",
   "execution_count": 14,
   "metadata": {},
   "outputs": [
    {
     "data": {
      "text/plain": [
       "(9804, 9937)"
      ]
     },
     "execution_count": 14,
     "metadata": {},
     "output_type": "execute_result"
    }
   ],
   "source": [
    "X.shape"
   ]
  },
  {
   "cell_type": "code",
   "execution_count": 15,
   "metadata": {},
   "outputs": [],
   "source": [
    "wlist = [w for i, w in enumerate(wordlist) if i in word_to_save]"
   ]
  },
  {
   "cell_type": "code",
   "execution_count": 16,
   "metadata": {},
   "outputs": [
    {
     "data": {
      "text/plain": [
       "9937"
      ]
     },
     "execution_count": 16,
     "metadata": {},
     "output_type": "execute_result"
    }
   ],
   "source": [
    "len(wlist)"
   ]
  },
  {
   "cell_type": "code",
   "execution_count": 17,
   "metadata": {},
   "outputs": [],
   "source": [
    "def query(text, X, wlist):\n",
    "    q = np.zeros(X.shape[1])\n",
    "    tokens = [x.lower() for x in \n",
    "              word_tokenize(text, language='italian') \n",
    "              if x.lower() in wlist]\n",
    "    for token in tokens:\n",
    "        q[wlist.index(token)] += 1\n",
    "    return q    "
   ]
  },
  {
   "cell_type": "code",
   "execution_count": 18,
   "metadata": {},
   "outputs": [
    {
     "data": {
      "text/plain": [
       "array([0., 0., 0., ..., 0., 0., 0.])"
      ]
     },
     "execution_count": 18,
     "metadata": {},
     "output_type": "execute_result"
    }
   ],
   "source": [
    "query('il lago di como è un ampio bacino acquatico collocato fra le montagne nei pressi di milano', X, wlist)"
   ]
  },
  {
   "cell_type": "code",
   "execution_count": 19,
   "metadata": {},
   "outputs": [],
   "source": [
    "from sklearn.metrics.pairwise import cosine_similarity"
   ]
  },
  {
   "cell_type": "code",
   "execution_count": 20,
   "metadata": {},
   "outputs": [],
   "source": [
    "q = query('il lago di como è un ampio bacino acquatico collocato fra le montagne nei pressi di milano', X, wlist)"
   ]
  },
  {
   "cell_type": "code",
   "execution_count": 21,
   "metadata": {},
   "outputs": [],
   "source": [
    "sigma = cosine_similarity(q.reshape(1, -1), X)"
   ]
  },
  {
   "cell_type": "code",
   "execution_count": 23,
   "metadata": {},
   "outputs": [
    {
     "data": {
      "text/plain": [
       "(1, 9937)"
      ]
     },
     "execution_count": 23,
     "metadata": {},
     "output_type": "execute_result"
    }
   ],
   "source": [
    "q.reshape(1, -1).shape"
   ]
  },
  {
   "cell_type": "code",
   "execution_count": 24,
   "metadata": {},
   "outputs": [
    {
     "data": {
      "text/plain": [
       "(9804, 9937)"
      ]
     },
     "execution_count": 24,
     "metadata": {},
     "output_type": "execute_result"
    }
   ],
   "source": [
    "X.shape"
   ]
  },
  {
   "cell_type": "code",
   "execution_count": 25,
   "metadata": {},
   "outputs": [
    {
     "data": {
      "text/plain": [
       "(1, 9804)"
      ]
     },
     "execution_count": 25,
     "metadata": {},
     "output_type": "execute_result"
    }
   ],
   "source": [
    "sigma.shape"
   ]
  },
  {
   "cell_type": "code",
   "execution_count": 22,
   "metadata": {},
   "outputs": [
    {
     "name": "stdout",
     "output_type": "stream",
     "text": [
      "3330 0.4517539514526256\n",
      "All'intorno era un batter di mani e di piedi, un frastono di mille grida di trionfo e d'imprecazione.\n",
      "\n",
      "\n",
      "963 0.427960492510913\n",
      "Le anticamere, il cortile e la strada formicolavan di servitori, di paggi, di bravi e di curiosi.\n",
      "\n",
      "\n",
      "5608 0.4187178946793119\n",
      "Di maniera che gli parve un sollievo il tornare a quella prima immagine di Lucia, contro la quale aveva cercato di rinfrancare il suo coraggio. \"\n",
      "\n",
      "\n",
      "774 0.4029114820126901\n",
      "Un bel mucchio di foglie secche di noce.\n",
      "\n",
      "\n",
      "7168 0.3988620176087328\n",
      "Le usciva di bocca dell'erba mezza rosicchiata, e le labbra facevano ancora quasi un atto di sforzo rabbioso...\n",
      "\n",
      "\n",
      "1129 0.3909001065607714\n",
      "Quivi un gran frastono confuso di forchette, di coltelli, di bicchieri, di piatti, e sopra tutto di voci discordi, che cercavano a vicenda di soverchiarsi.\n",
      "\n",
      "\n",
      "5159 0.39036002917941326\n",
      "Il fondo è un letto di ciottoloni, dove scorre un rigagnolo o torrentaccio, secondo la stagione: allora serviva di confine ai due stati.\n",
      "\n",
      "\n"
     ]
    }
   ],
   "source": [
    "for k, (i, s) in enumerate(sorted(enumerate(sigma[0]), key=lambda x: -x[1])):\n",
    "    print(i, s)\n",
    "    print(S[i])\n",
    "    print('\\n')\n",
    "    if k > 5:\n",
    "        break"
   ]
  },
  {
   "cell_type": "code",
   "execution_count": null,
   "metadata": {},
   "outputs": [],
   "source": []
  },
  {
   "cell_type": "markdown",
   "metadata": {},
   "source": [
    "## Get some stats from doc2terms matrix"
   ]
  },
  {
   "cell_type": "code",
   "execution_count": 26,
   "metadata": {},
   "outputs": [],
   "source": [
    "import matplotlib.pyplot as plt"
   ]
  },
  {
   "cell_type": "code",
   "execution_count": 27,
   "metadata": {},
   "outputs": [],
   "source": [
    "def sentence_values(doc2terms, sentence_id, words, threshold=0):\n",
    "    out = {}\n",
    "    for i, w in enumerate(doc2terms[sentence_id]):\n",
    "        if w > threshold:\n",
    "            out[words[i]] = w\n",
    "    return sorted(out.items(), key=lambda x: -x[1])\n",
    "\n",
    "def prints(sentence, stats):\n",
    "    print(S[sentence], '\\n')\n",
    "    print(\"\\t\".join([\"{} -> {}\".format(k, round(v, 2)) for k, v in stats]))"
   ]
  },
  {
   "cell_type": "code",
   "execution_count": 28,
   "metadata": {},
   "outputs": [
    {
     "name": "stdout",
     "output_type": "stream",
     "text": [
      "Il mio debol parere è questo: che non è solamente nell'affare del pane che si fanno delle bricconerie: e giacché oggi s'è visto chiaro che, a farsi sentire, s'ottiene quel che è giusto; bisogna andar avanti così, fin che non si sia messo rimedio a tutte quelle altre scelleratezze, e che il mondo vada un po' più da cristiani. \n",
      "\n",
      "che -> 6.0\tè -> 4.0\t, -> 4.0\t: -> 2.0\ta -> 2.0\te -> 2.0\tnon -> 2.0\t' -> 2.0\til -> 2.0\tsi -> 2.0\tquesto -> 1.0\tda -> 1.0\toggi -> 1.0\tdel -> 1.0\t. -> 1.0\tfanno -> 1.0\tpiù -> 1.0\tun -> 1.0\tsia -> 1.0\tquel -> 1.0\tcosì -> 1.0\tdelle -> 1.0\tmondo -> 1.0\tmio -> 1.0\t; -> 1.0\tpo -> 1.0\tquelle -> 1.0\ttutte -> 1.0\tgiacché -> 1.0\tmesso -> 1.0\tparere -> 1.0\tfin -> 1.0\tfarsi -> 1.0\ts -> 1.0\tandar -> 1.0\taltre -> 1.0\tavanti -> 1.0\tgiusto -> 1.0\tchiaro -> 1.0\tbisogna -> 1.0\tsentire -> 1.0\trimedio -> 1.0\tvisto -> 1.0\tvada -> 1.0\tpane -> 1.0\tcristiani -> 1.0\tsolamente -> 1.0\tbricconerie -> 1.0\tdebol -> 1.0\tnell'affare -> 1.0\ts'ottiene -> 1.0\tscelleratezze -> 1.0\n"
     ]
    }
   ],
   "source": [
    "sentence = 3634\n",
    "stats = sentence_values(X, sentence, wlist)\n",
    "prints(sentence, stats)"
   ]
  },
  {
   "cell_type": "code",
   "execution_count": 135,
   "metadata": {},
   "outputs": [
    {
     "data": {
      "image/png": "[encoded data removed]",
      "text/plain": [
       "<Figure size 1008x288 with 2 Axes>"
      ]
     },
     "metadata": {
      "needs_background": "light"
     },
     "output_type": "display_data"
    }
   ],
   "source": [
    "values = [y for _, y in stats]\n",
    "fig, ax = plt.subplots(figsize=(14, 4), ncols=2)\n",
    "ax[0].plot(values)\n",
    "ax[1].boxplot(values)\n",
    "plt.show()"
   ]
  },
  {
   "cell_type": "markdown",
   "metadata": {},
   "source": [
    "## Tf-Idf\n",
    "Given a term $t$ and a document $d$:\n",
    "\n",
    "$$\\textrm{Tf}(t, d) = k + (1-k) \\frac{count(t, d)}{\\max\\limits_{t' \\in d} count(t', d)}$$\n",
    "\n",
    "$$\\textrm{Idf}(t) = \\log \\frac{D}{\\mid \\{d_i : t \\in d_i\\} \\mid}$$\n",
    "\n",
    "$$\\textrm{TfIdf}(t, d) = \\textrm{Tf}(t, d)\\textrm{Idf}(t)$$"
   ]
  },
  {
   "cell_type": "markdown",
   "metadata": {},
   "source": [
    "### Get mx frequency per doc and calculate TF"
   ]
  },
  {
   "cell_type": "code",
   "execution_count": 33,
   "metadata": {},
   "outputs": [
    {
     "data": {
      "text/plain": [
       "(9937, 9804)"
      ]
     },
     "execution_count": 33,
     "metadata": {},
     "output_type": "execute_result"
    }
   ],
   "source": [
    "(X.T / X.max(axis=1)).T"
   ]
  },
  {
   "cell_type": "code",
   "execution_count": 35,
   "metadata": {},
   "outputs": [],
   "source": [
    "k = 0\n",
    "TF = k + (1-k) * (X.T / X.max(axis=1)).T"
   ]
  },
  {
   "cell_type": "code",
   "execution_count": 36,
   "metadata": {},
   "outputs": [
    {
     "name": "stdout",
     "output_type": "stream",
     "text": [
      "Il mio debol parere è questo: che non è solamente nell'affare del pane che si fanno delle bricconerie: e giacché oggi s'è visto chiaro che, a farsi sentire, s'ottiene quel che è giusto; bisogna andar avanti così, fin che non si sia messo rimedio a tutte quelle altre scelleratezze, e che il mondo vada un po' più da cristiani. \n",
      "\n",
      "che -> 1.0\tè -> 0.67\t, -> 0.67\t: -> 0.33\ta -> 0.33\te -> 0.33\tnon -> 0.33\t' -> 0.33\til -> 0.33\tsi -> 0.33\tquesto -> 0.17\tda -> 0.17\toggi -> 0.17\tdel -> 0.17\t. -> 0.17\tfanno -> 0.17\tpiù -> 0.17\tun -> 0.17\tsia -> 0.17\tquel -> 0.17\tcosì -> 0.17\tdelle -> 0.17\tmondo -> 0.17\tmio -> 0.17\t; -> 0.17\tpo -> 0.17\tquelle -> 0.17\ttutte -> 0.17\tgiacché -> 0.17\tmesso -> 0.17\tparere -> 0.17\tfin -> 0.17\tfarsi -> 0.17\ts -> 0.17\tandar -> 0.17\taltre -> 0.17\tavanti -> 0.17\tgiusto -> 0.17\tchiaro -> 0.17\tbisogna -> 0.17\tsentire -> 0.17\trimedio -> 0.17\tvisto -> 0.17\tvada -> 0.17\tpane -> 0.17\tcristiani -> 0.17\tsolamente -> 0.17\tbricconerie -> 0.17\tdebol -> 0.17\tnell'affare -> 0.17\ts'ottiene -> 0.17\tscelleratezze -> 0.17\n"
     ]
    }
   ],
   "source": [
    "sentence = 3634\n",
    "stats_tf = sentence_values(TF, sentence, wlist, threshold=0.0)\n",
    "prints(sentence, stats_tf)"
   ]
  },
  {
   "cell_type": "code",
   "execution_count": 37,
   "metadata": {},
   "outputs": [
    {
     "data": {
      "image/png": "[encoded data removed]",
      "text/plain": [
       "<Figure size 1008x288 with 2 Axes>"
      ]
     },
     "metadata": {
      "needs_background": "light"
     },
     "output_type": "display_data"
    }
   ],
   "source": [
    "values_tf = [y for _, y in stats_tf]\n",
    "fig, ax = plt.subplots(figsize=(14, 4), ncols=2)\n",
    "ax[0].plot(values_tf)\n",
    "ax[1].boxplot(values_tf)\n",
    "plt.show()"
   ]
  },
  {
   "cell_type": "markdown",
   "metadata": {},
   "source": [
    "### Get document frequency and calculate IDF"
   ]
  },
  {
   "cell_type": "code",
   "execution_count": 40,
   "metadata": {},
   "outputs": [],
   "source": [
    "r, c = X.nonzero()\n",
    "mask = list(zip(r, c))"
   ]
  },
  {
   "cell_type": "code",
   "execution_count": 41,
   "metadata": {},
   "outputs": [
    {
     "data": {
      "text/plain": [
       "[(0, 0), (0, 1)]"
      ]
     },
     "execution_count": 41,
     "metadata": {},
     "output_type": "execute_result"
    }
   ],
   "source": [
    "mask[:2]"
   ]
  },
  {
   "cell_type": "code",
   "execution_count": 42,
   "metadata": {},
   "outputs": [],
   "source": [
    "B = np.zeros(X.shape)\n",
    "for row, column in mask:\n",
    "    B[row, column] = 1"
   ]
  },
  {
   "cell_type": "code",
   "execution_count": 47,
   "metadata": {},
   "outputs": [
    {
     "data": {
      "text/plain": [
       "'manzoni'"
      ]
     },
     "execution_count": 47,
     "metadata": {},
     "output_type": "execute_result"
    }
   ],
   "source": [
    "B.sum(axis=0)\n",
    "wlist[1]"
   ]
  },
  {
   "cell_type": "code",
   "execution_count": 49,
   "metadata": {},
   "outputs": [],
   "source": [
    "DF = B.sum(axis=0)"
   ]
  },
  {
   "cell_type": "code",
   "execution_count": 50,
   "metadata": {},
   "outputs": [],
   "source": [
    "IDF = np.log(len(S) / DF)"
   ]
  },
  {
   "cell_type": "code",
   "execution_count": 53,
   "metadata": {},
   "outputs": [
    {
     "data": {
      "text/plain": [
       "2.3153136573714264"
      ]
     },
     "execution_count": 53,
     "metadata": {},
     "output_type": "execute_result"
    }
   ],
   "source": [
    "IDF[2]"
   ]
  },
  {
   "cell_type": "markdown",
   "metadata": {},
   "source": [
    "### TF-IDF"
   ]
  },
  {
   "cell_type": "code",
   "execution_count": 54,
   "metadata": {},
   "outputs": [],
   "source": [
    "TFIDF = TF * IDF"
   ]
  },
  {
   "cell_type": "code",
   "execution_count": 55,
   "metadata": {},
   "outputs": [
    {
     "name": "stdout",
     "output_type": "stream",
     "text": [
      "Il mio debol parere è questo: che non è solamente nell'affare del pane che si fanno delle bricconerie: e giacché oggi s'è visto chiaro che, a farsi sentire, s'ottiene quel che è giusto; bisogna andar avanti così, fin che non si sia messo rimedio a tutte quelle altre scelleratezze, e che il mondo vada un po' più da cristiani. \n",
      "\n",
      "debol -> 1.42\tnell'affare -> 1.42\ts'ottiene -> 1.42\tè -> 1.41\tbricconerie -> 1.3\tscelleratezze -> 1.3\tcristiani -> 1.19\trimedio -> 1.03\tsolamente -> 1.02\tvada -> 0.97\tgiusto -> 0.96\toggi -> 0.94\tchiaro -> 0.89\tparere -> 0.88\tche -> 0.85\ts -> 0.85\tvisto -> 0.84\tfarsi -> 0.84\tfanno -> 0.83\tgiacché -> 0.83\tsentire -> 0.82\tandar -> 0.82\tmesso -> 0.81\tbisogna -> 0.78\taltre -> 0.77\tfin -> 0.77\tmondo -> 0.75\tpane -> 0.75\tavanti -> 0.73\tmio -> 0.72\ttutte -> 0.68\tsia -> 0.66\tpo -> 0.63\tquelle -> 0.61\t' -> 0.6\tsi -> 0.59\tdelle -> 0.59\t: -> 0.5\tquesto -> 0.49\tcosì -> 0.47\tnon -> 0.44\til -> 0.41\tquel -> 0.4\ta -> 0.38\tdel -> 0.36\tpiù -> 0.34\tda -> 0.34\te -> 0.25\tun -> 0.24\t, -> 0.23\t; -> 0.2\t. -> 0.06\n"
     ]
    }
   ],
   "source": [
    "sentence = 3634\n",
    "stats_tfidf = sentence_values(TFIDF, sentence, wlist, threshold=0)\n",
    "prints(sentence, stats_tfidf)"
   ]
  },
  {
   "cell_type": "code",
   "execution_count": 56,
   "metadata": {},
   "outputs": [
    {
     "data": {
      "image/png": "[encoded data removed]",
      "text/plain": [
       "<Figure size 1008x288 with 2 Axes>"
      ]
     },
     "metadata": {
      "needs_background": "light"
     },
     "output_type": "display_data"
    }
   ],
   "source": [
    "values_tfidf = [y for _, y in stats_tfidf]\n",
    "fig, ax = plt.subplots(figsize=(14, 4), ncols=2)\n",
    "ax[0].plot(values_tfidf)\n",
    "ax[1].boxplot(values_tfidf)\n",
    "plt.show()"
   ]
  },
  {
   "cell_type": "markdown",
   "metadata": {},
   "source": [
    "### Effects on query"
   ]
  },
  {
   "cell_type": "code",
   "execution_count": 60,
   "metadata": {},
   "outputs": [],
   "source": [
    "q = query('abbondio è un mio amico che usa facebook', \n",
    "          TFIDF, wlist)"
   ]
  },
  {
   "cell_type": "code",
   "execution_count": 61,
   "metadata": {},
   "outputs": [],
   "source": [
    "sigma = cosine_similarity(q.reshape(1, -1), TFIDF)"
   ]
  },
  {
   "cell_type": "code",
   "execution_count": 62,
   "metadata": {},
   "outputs": [
    {
     "name": "stdout",
     "output_type": "stream",
     "text": [
      "652 0.3073080466252196\n",
      "È il mio caso, - disse Renzo.\n",
      "\n",
      "\n",
      "9195 0.2914364028851205\n",
      "non è lei sempre il mio padre?\n",
      "\n",
      "\n",
      "4051 0.28466599319362634\n",
      "- Un visibilio.\n",
      "\n",
      "\n",
      "3674 0.278314646371961\n",
      "- Conosco appunto un'osteria che farà al caso vostro; e vi raccomanderò al padrone, che è mio amico, e galantuomo.\n",
      "\n",
      "\n",
      "4164 0.2587377903796695\n",
      "Signor mio!\n",
      "\n",
      "\n",
      "8246 0.25449029907219484\n",
      "- È andato via che è un pezzo.\n",
      "\n",
      "\n",
      "388 0.24633525481643906\n",
      "- disse don Abbondio.\n",
      "\n",
      "\n"
     ]
    }
   ],
   "source": [
    "for k, (i, s) in enumerate(sorted(enumerate(sigma[0]), key=lambda x: -x[1])):\n",
    "    print(i, s)\n",
    "    print(S[i])\n",
    "    print('\\n')\n",
    "    if k > 5:\n",
    "        break"
   ]
  },
  {
   "cell_type": "code",
   "execution_count": 63,
   "metadata": {},
   "outputs": [],
   "source": [
    "import string"
   ]
  },
  {
   "cell_type": "code",
   "execution_count": 64,
   "metadata": {},
   "outputs": [
    {
     "data": {
      "text/plain": [
       "'!\"#$%&\\'()*+,-./:;<=>?@[\\\\]^_`{|}~'"
      ]
     },
     "execution_count": 64,
     "metadata": {},
     "output_type": "execute_result"
    }
   ],
   "source": [
    "string.punctuation"
   ]
  },
  {
   "cell_type": "code",
   "execution_count": null,
   "metadata": {},
   "outputs": [],
   "source": []
  }
 ],
 "metadata": {
  "kernelspec": {
   "display_name": "Python 3 (ipykernel)",
   "language": "python",
   "name": "python3"
  },
  "language_info": {
   "codemirror_mode": {
    "name": "ipython",
    "version": 3
   },
   "file_extension": ".py",
   "mimetype": "text/x-python",
   "name": "python",
   "nbconvert_exporter": "python",
   "pygments_lexer": "ipython3",
   "version": "3.8.8"
  },
  "toc": {
   "base_numbering": 1,
   "nav_menu": {},
   "number_sections": true,
   "sideBar": true,
   "skip_h1_title": true,
   "title_cell": "Table of Contents",
   "title_sidebar": "Contents",
   "toc_cell": false,
   "toc_position": {},
   "toc_section_display": true,
   "toc_window_display": false
  }
 },
 "nbformat": 4,
 "nbformat_minor": 2
}
